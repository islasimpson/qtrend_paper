{
 "cells": [
  {
   "cell_type": "code",
   "execution_count": 1,
   "id": "65bea448-972a-4b7d-b85e-75eb81dd2ede",
   "metadata": {},
   "outputs": [],
   "source": [
    "import pandas as pd\n",
    "import sys \n",
    "import csv\n",
    "import xarray as xr\n",
    "import numpy as np\n",
    "import matplotlib.pyplot as plt\n",
    "from CASutils import calendar_utils as cal\n",
    "from CASutils import mapplot_utils as maps\n",
    "from math import nan as nan"
   ]
  },
  {
   "cell_type": "code",
   "execution_count": 2,
   "id": "7c95e1e4-d442-4533-8853-697ef1ef1ade",
   "metadata": {},
   "outputs": [],
   "source": [
    "ystart=1979 ; yend=2020 ; nyears=yend-ystart+1"
   ]
  },
  {
   "cell_type": "code",
   "execution_count": 3,
   "id": "e61158a5-6bf2-4295-82ef-43b4c147be36",
   "metadata": {},
   "outputs": [],
   "source": [
    "### Setting up the output calendar dates\n",
    "timeout = pd.date_range(start=str(ystart)+\"-01-01\",end=str(yend)+\"-12-31\")\n",
    "### Remove Feb 29th\n",
    "timeout = timeout[~((timeout.month == 2) & (timeout.day == 29))]"
   ]
  },
  {
   "cell_type": "code",
   "execution_count": 4,
   "id": "b76fa6f2-6470-417e-acac-35bedf483876",
   "metadata": {},
   "outputs": [],
   "source": [
    "monstrings=['JAN','FEB','MAR','APR','MAY','JUN','JUL','AUG','SEP','OCT','NOV','DEC']\n",
    "datpath=\"/project/mojave/observations/ISD/global-summary-of-the-day/archive/\"\n",
    "statfile=\"/project/mojave/observations/ISD/global-summary-of-the-day/isd-history.txt\"\n",
    "inventfile=\"/project/mojave/observations/ISD/global-summary-of-the-day/isd-inventory.csv\"\n",
    "fileout=\"/project/cas/islas/python_savs/qtrend_paper/DATA_SORT/ISD/1980_2020/T2M_DEW_ISD_global_1980_2020.nc\""
   ]
  },
  {
   "cell_type": "markdown",
   "id": "5cf028e4-8c27-4857-87db-6d56244c11c7",
   "metadata": {},
   "source": [
    "### Set up the character locations of required columns from the idf-history.txt file"
   ]
  },
  {
   "cell_type": "code",
   "execution_count": 5,
   "id": "c0c18783-2272-448e-a171-a5ee0509a056",
   "metadata": {},
   "outputs": [],
   "source": [
    "datestart=[82,90] \n",
    "dateend=[91,99]\n",
    "latstr=[57,64]\n",
    "lonstr=[65,73]\n",
    "usafstr=[0,6]\n",
    "wbanstr=[7,12]"
   ]
  },
  {
   "cell_type": "markdown",
   "id": "7ed5de4e-4dbf-447c-afe7-59d9369ecda9",
   "metadata": {},
   "source": [
    "### Open the isd-history file and grab out the relevant station information"
   ]
  },
  {
   "cell_type": "code",
   "execution_count": 6,
   "id": "d1dce1de-d597-4e34-aab9-265b161b0d80",
   "metadata": {},
   "outputs": [],
   "source": [
    "f = open(statfile,\"r\")\n",
    "# skip header\n",
    "for i in range(22):\n",
    "    f.readline()\n",
    "\n",
    "#sys.exit()\n",
    "usaf=[] ; wban=[] ; dates=[] ; datee=[] ; lon=[] ; lat=[]\n",
    "count=0\n",
    "for line in f:\n",
    "    dates.append(line[datestart[0]:datestart[1]])\n",
    "    datee.append(line[dateend[0]:dateend[1]])\n",
    "    lon.append(line[lonstr[0]:lonstr[1]])\n",
    "    lat.append(line[latstr[0]:latstr[1]])\n",
    "    usaf.append(line[usafstr[0]:usafstr[1]])\n",
    "    wban.append(line[wbanstr[0]:wbanstr[1]])\n",
    "f.close()"
   ]
  },
  {
   "cell_type": "code",
   "execution_count": 7,
   "id": "efd5b266-cdcb-493b-b45f-c6d3777b58d2",
   "metadata": {},
   "outputs": [],
   "source": [
    "dictstat=[{'wban': wban, 'usaf': usaf, 'lat': lat, 'lon':lon, 'dates':dates, 'datee':datee} for wban, usaf, lat, lon, dates, datee in zip (wban, usaf, lat, lon, dates, datee)]"
   ]
  },
  {
   "cell_type": "code",
   "execution_count": 8,
   "id": "d6641f41-b903-4fbd-8024-68618f6d4c38",
   "metadata": {},
   "outputs": [
    {
     "name": "stderr",
     "output_type": "stream",
     "text": [
      "/project/cas02/islas/miniconda3/envs/islaenv/lib/python3.7/site-packages/IPython/core/interactiveshell.py:3524: DtypeWarning: Columns (0) have mixed types.Specify dtype option on import or set low_memory=False.\n",
      "  exec(code_obj, self.user_global_ns, self.user_ns)\n"
     ]
    }
   ],
   "source": [
    "inventory = pd.read_csv(inventfile)"
   ]
  },
  {
   "cell_type": "code",
   "execution_count": 9,
   "id": "e90f1ef0-0333-41a7-bba2-d9905cb18453",
   "metadata": {},
   "outputs": [],
   "source": [
    "statuse=[]\n",
    "statname=[]\n",
    "usaf=[]\n",
    "wban=[]\n",
    "latstation=[]\n",
    "lonstation=[]\n",
    "\n",
    "for key in dictstat:\n",
    "    try:\n",
    "        latflt=float(key['lat'])\n",
    "    except:\n",
    "        latflt=-9999.\n",
    "        \n",
    "    try: \n",
    "        lonflt=float(key['lon'])\n",
    "    except:\n",
    "        lonflt=-9999.\n",
    "        \n",
    "    try:\n",
    "        usafval = int(key['usaf'])\n",
    "    except:\n",
    "        usafval = key['usaf']\n",
    "        \n",
    "    inventdat = inventory.loc[inventory['USAF']==usafval]\n",
    "    statyears = inventdat.loc[(inventdat['YEAR'] >= ystart) & (inventdat['YEAR'] <= yend)]\n",
    "    statyears = statyears['YEAR']\n",
    "    \n",
    "    datebegflt = float(key['dates'])\n",
    "    dateendflt = float(key['datee'])\n",
    "    \n",
    "    if (  (datebegflt < ystart*10000) and (dateendflt >= (yend*10000+1)) and (len(statyears) == nyears)):\n",
    "        statuse.append(key)\n",
    "        statname.append(key['usaf']+key['wban'])\n",
    "        usaf.append(key['usaf'])\n",
    "        wban.append(key['wban'])\n",
    "        latstation.append(latflt)\n",
    "        lonstation.append(lonflt)"
   ]
  },
  {
   "cell_type": "code",
   "execution_count": 14,
   "id": "f035be74-23b1-481d-aebd-c83dcac75991",
   "metadata": {},
   "outputs": [
    {
     "ename": "AttributeError",
     "evalue": "'list' object has no attribute 'loc'",
     "output_type": "error",
     "traceback": [
      "\u001b[0;31m---------------------------------------------------------------------------\u001b[0m",
      "\u001b[0;31mAttributeError\u001b[0m                            Traceback (most recent call last)",
      "\u001b[0;32m/tmp/ipykernel_15893/783298953.py\u001b[0m in \u001b[0;36m<module>\u001b[0;34m\u001b[0m\n\u001b[0;32m----> 1\u001b[0;31m \u001b[0mprint\u001b[0m\u001b[0;34m(\u001b[0m\u001b[0mstatuse\u001b[0m\u001b[0;34m.\u001b[0m\u001b[0mloc\u001b[0m\u001b[0;34m[\u001b[0m\u001b[0;34m'usaf'\u001b[0m\u001b[0;34m]\u001b[0m\u001b[0;34m)\u001b[0m\u001b[0;34m\u001b[0m\u001b[0;34m\u001b[0m\u001b[0m\n\u001b[0m",
      "\u001b[0;31mAttributeError\u001b[0m: 'list' object has no attribute 'loc'"
     ]
    }
   ],
   "source": [
    "print(statuse.loc['usaf'])"
   ]
  },
  {
   "cell_type": "code",
   "execution_count": 19,
   "id": "96dc3c2c-c55c-4fc3-86b6-483bebd3395e",
   "metadata": {},
   "outputs": [
    {
     "name": "stdout",
     "output_type": "stream",
     "text": [
      "          USAF   WBAN  YEAR   JAN   FEB   MAR   APR   MAY   JUN   JUL   AUG  \\\n",
      "0         7018  99999  2011     0     0  2104  2797  2543  2614   382     0   \n",
      "1         7018  99999  2013     0     0     0     0     0     0   710     0   \n",
      "2         7026  99999  2012     0     0     0     0     0     0   367     0   \n",
      "3         7026  99999  2014     0     0     0     0     0     0   180     0   \n",
      "4         7026  99999  2016     0     0     0     0     0   794     0     0   \n",
      "...        ...    ...   ...   ...   ...   ...   ...   ...   ...   ...   ...   \n",
      "656114  A51256    451  2017  2192  1883  2204  1910  2145  2113  2218  2204   \n",
      "656115  A51256    451  2018  2192  1887  2194  2113  2151  2095  2202  2197   \n",
      "656116  A51256    451  2019  2188  2000  2143  2105  2187  2124  2184  2138   \n",
      "656117  A51256    451  2020  2165  1455  2144  2125  2199  2123  2112  2192   \n",
      "656118  A51256    451  2021  1515     0     0     0     0     0     0     0   \n",
      "\n",
      "         SEP   OCT   NOV   DEC  \n",
      "0          0     0     0     0  \n",
      "1          0     0     0     0  \n",
      "2          0     0     0     7  \n",
      "3          4     0   552     0  \n",
      "4          0     0     0     0  \n",
      "...      ...   ...   ...   ...  \n",
      "656114  2082  2192  2103  2174  \n",
      "656115  1816  2195  2063  2178  \n",
      "656116  2077  1872  1508  2159  \n",
      "656117  2083  2079  2074  2148  \n",
      "656118     0     0     0     0  \n",
      "\n",
      "[656119 rows x 15 columns]\n"
     ]
    }
   ],
   "source": [
    "print(inventory)"
   ]
  },
  {
   "cell_type": "code",
   "execution_count": 17,
   "id": "9f8848b4-fc3d-4367-a35d-5338a91afd07",
   "metadata": {},
   "outputs": [
    {
     "name": "stdout",
     "output_type": "stream",
     "text": [
      "3392\n"
     ]
    }
   ],
   "source": [
    "print(len(statuse))"
   ]
  },
  {
   "cell_type": "code",
   "execution_count": 18,
   "id": "5c5b81c3-0843-4f4a-a2b9-37d45ec19570",
   "metadata": {},
   "outputs": [
    {
     "name": "stdout",
     "output_type": "stream",
     "text": [
      "{'wban': '99999', 'usaf': '988360', 'lat': '+06.922', 'lon': '+122.060', 'dates': '19450312', 'datee': '20210124'}\n"
     ]
    }
   ],
   "source": [
    "print(statuse[3391])"
   ]
  },
  {
   "cell_type": "code",
   "execution_count": 11,
   "id": "ecf5c6d7-6be8-4595-921d-f36a8f7fcf82",
   "metadata": {},
   "outputs": [
    {
     "name": "stdout",
     "output_type": "stream",
     "text": [
      "3392\n"
     ]
    }
   ],
   "source": [
    "print(len(statuse))\n"
   ]
  },
  {
   "cell_type": "code",
   "execution_count": 10,
   "id": "897f41cf-dbf6-4da0-a18f-5ecebd515117",
   "metadata": {},
   "outputs": [
    {
     "data": {
      "image/png": "[encoded data removed]",
      "text/plain": [
       "<Figure size 1152x1152 with 1 Axes>"
      ]
     },
     "metadata": {
      "needs_background": "light"
     },
     "output_type": "display_data"
    }
   ],
   "source": [
    "fig = plt.figure(figsize=(16,16))\n",
    "\n",
    "ax1 = maps.contourmap_bothcontinents_scatter_nh_pos(fig, np.ones([len(lonstation)]), lonstation, latstation, 0.1,-1,1,'ISD stations',\n",
    "                                                    0.02,0.32,0.8,0.97)"
   ]
  },
  {
   "cell_type": "code",
   "execution_count": 11,
   "id": "f41d1450-a2d9-4581-84c5-d8b9f28ee596",
   "metadata": {},
   "outputs": [],
   "source": [
    "datevals=pd.date_range(start=\"1979-01-01\",end=\"1979-12-31\")\n",
    "m = np.array(datevals.month)\n",
    "mm = np.char.zfill(m.astype(str),2)\n",
    "d = np.array(datevals.day)\n",
    "dd = np.char.zfill(d.astype(str),2)\n",
    "datestrings=[mmm + \"-\" +  ddd  for  mmm, ddd in zip(mm, dd) ]"
   ]
  },
  {
   "cell_type": "code",
   "execution_count": 12,
   "id": "f1a33f56-b181-4abb-a147-624eee65536c",
   "metadata": {},
   "outputs": [
    {
     "name": "stdout",
     "output_type": "stream",
     "text": [
      "0:01001099999\n"
     ]
    },
    {
     "ename": "SystemExit",
     "evalue": "",
     "output_type": "error",
     "traceback": [
      "An exception has occurred, use %tb to see the full traceback.\n",
      "\u001b[0;31mSystemExit\u001b[0m\n"
     ]
    },
    {
     "name": "stderr",
     "output_type": "stream",
     "text": [
      "/project/cas02/islas/miniconda3/envs/islaenv/lib/python3.7/site-packages/IPython/core/interactiveshell.py:3532: UserWarning: To exit: use 'exit', 'quit', or Ctrl-D.\n",
      "  warn(\"To exit: use 'exit', 'quit', or Ctrl-D.\", stacklevel=1)\n"
     ]
    }
   ],
   "source": [
    "# Read in the data for stations that will be used\n",
    "t2m = np.empty([len(statname), nyears*365])\n",
    "t2m[:,:] = nan\n",
    "dewp = np.empty([len(statname), nyears*365])\n",
    "dewp[:,:] = nan\n",
    "stp = np.empty([len(statname), nyears*365])\n",
    "stp[:,:] = nan\n",
    "\n",
    "for istat in range(0,len(statname),1):\n",
    "    print(str(istat)+':'+statname[istat])\n",
    "\n",
    "    usafval = int(usaf[istat])\n",
    "    wbanval = int(wban[istat])\n",
    "    inventdat = inventory.loc[inventory['USAF']==usafval]\n",
    "    statyears = inventdat.loc[(inventdat['YEAR'] >= ystart) & (inventdat['YEAR'] <= yend)]\n",
    "    statyears = statyears['YEAR']  \n",
    "    \n",
    "    for iyear in range(ystart,yend+1,1):\n",
    "        if (iyear in statyears.astype(int).values):   \n",
    "            datesofyear=[str(iyear)+'-'+i for i in datestrings]\n",
    "            yearinvent = inventdat.loc[inventdat['YEAR'].astype(int) == iyear]\n",
    "            yearinvent = yearinvent.loc[yearinvent['WBAN']==wbanval]\n",
    "            \n",
    "            # check there's enough data in the year\n",
    "            sumobs = 0.\n",
    "            for imon in monstrings:\n",
    "                sumobs = sumobs + np.array(yearinvent[imon])\n",
    "            \n",
    "            if (sumobs > 365): # only using the file if there's more then 365 obs going into the year (a bit arbitrary)\n",
    "                \n",
    "                fname=datpath+str(iyear)+\"/\"+statname[istat]+'.csv'\n",
    "\n",
    "                try:\n",
    "                    data = pd.read_csv(fname)\n",
    "                    date_data = data[['DATE','TEMP','DEWP','STP']]\n",
    "                    \n",
    "                    # remove Feb 29th\n",
    "                    date_data = date_data[~date_data['DATE'].isin([str(iyear)+'-02-29'])]\n",
    "                    \n",
    "                    alldates = [str(iyear)+'-'+i for i in datestrings]\n",
    "                    # assign indices to dates\n",
    "                    alldatesinds=dict() \n",
    "                    for i, j in enumerate(alldates):\n",
    "                        alldatesinds.setdefault(j, []).append(i)\n",
    "                        \n",
    "                    # find indices of all dates that are in data\n",
    "                    # and assign the relevant elements of t2m to the right place in the array\n",
    "                    res = [alldatesinds.get(i, [None]) for i in date_data['DATE']]\n",
    "                    t2m[istat,(iyear-ystart)*365+np.array(res).squeeze()] = date_data['TEMP']\n",
    "                    dewp[istat, (iyear-ystart)*365 + np.array(res).squeeze()] = date_data['DEWP']\n",
    "                    stp[istat, (iyear-ystart)*365 + np.array(res).squeeze()] = date_data['STP']\n",
    "                    \n",
    "                except:\n",
    "                    t2m[istat,(iyear-ystart)*365:(iyear-ystart+1)*365] = nan\n",
    "                    dewp[istat,(iyear-ystart)*365:(iyear-ystart+1)*365] = nan\n",
    "                    stp[istat,(iyear-ystart)*365:(iyear-ystart+1)*365] = nan\n",
    "            else:\n",
    "                t2m[istat, (iyear-ystart)*365:(iyear-ystart+1)*365] = nan\n",
    "                dewp[istat, (iyear-ystart)*365:(iyear-ystart+1)*365] = nan\n",
    "                stp[istat, (iyear-ystart)*365:(iyear-ystart+1)*365] = nan\n",
    "        else:\n",
    "            t2m[istat,(iyear-ystart)*365:(iyear-ystart+1)*365] = nan\n",
    "            dewp[istat,(iyear-ystart)*365:(iyear-ystart+1)*365] = nan\n",
    "            stp[istat,(iyear-ystart)*365:(iyear-ystart+1)*365] = nan\n",
    "            \n",
    "        sys.exit()"
   ]
  },
  {
   "cell_type": "code",
   "execution_count": 15,
   "id": "15f38348-ffb1-46c9-b7d1-d19ec315d096",
   "metadata": {},
   "outputs": [],
   "source": [
    "t2mxr = xr.DataArray(t2m, coords=[statname, timeout], dims=['station','time'], name='t2m')\n",
    "dewpxr = xr.DataArray(dewp, coords=[statname, timeout], dims=['station','time'], name='dewp')\n",
    "stpxr = xr.DataArray(stp, coords=[statname, timeout], dims=['station','time'], name='stp')\n",
    "lon = xr.DataArray(lonstation, name='lon', coords=[statname], dims=['station'])\n",
    "lat = xr.DataArray(latstation, name='lat', coords=[statname], dims=['station'])\n",
    "stationdat = xr.merge([t2mxr, dewpxr, stpxr, lon,lat])\n",
    "stationdat.time.encoding['calendar'] = \"noleap\""
   ]
  },
  {
   "cell_type": "code",
   "execution_count": 16,
   "id": "fc6f21dd-6eb7-425e-a53c-0021940456ae",
   "metadata": {},
   "outputs": [],
   "source": [
    "stationdat.to_netcdf(path=fileout)"
   ]
  },
  {
   "cell_type": "code",
   "execution_count": null,
   "id": "b233d05f-ea91-4ec7-8fad-b38a507b5a65",
   "metadata": {},
   "outputs": [],
   "source": []
  }
 ],
 "metadata": {
  "kernelspec": {
   "display_name": "Python [conda env:islaenv]",
   "language": "python",
   "name": "conda-env-islaenv-py"
  },
  "language_info": {
   "codemirror_mode": {
    "name": "ipython",
    "version": 3
   },
   "file_extension": ".py",
   "mimetype": "text/x-python",
   "name": "python",
   "nbconvert_exporter": "python",
   "pygments_lexer": "ipython3",
   "version": "3.7.12"
  }
 },
 "nbformat": 4,
 "nbformat_minor": 5
}
