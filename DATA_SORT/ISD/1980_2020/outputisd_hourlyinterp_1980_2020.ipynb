{
 "cells": [
  {
   "cell_type": "code",
   "execution_count": 1,
   "id": "28a6e6c2-9675-4d2d-bd78-7278d807ec32",
   "metadata": {},
   "outputs": [],
   "source": [
    "import pandas as pd\n",
    "import sys\n",
    "import csv\n",
    "import xarray as xr\n",
    "import numpy as np\n",
    "import matplotlib.pyplot as plt\n",
    "from math import nan as nan\n",
    "from qtrendutils import isd_utils as isd\n",
    "from datetime import datetime"
   ]
  },
  {
   "cell_type": "code",
   "execution_count": 2,
   "id": "03d89ba7-3b24-499d-9b77-e6ac62146dd1",
   "metadata": {},
   "outputs": [],
   "source": [
    "ystart=1980 ; yend=2020 ; nyears=yend-ystart+1"
   ]
  },
  {
   "cell_type": "code",
   "execution_count": 3,
   "id": "e39cee31-6444-4594-96bd-055033919cfd",
   "metadata": {},
   "outputs": [],
   "source": [
    "### Setting up the output calendar dates\n",
    "timeout = pd.date_range(start=str(ystart)+\"-01-01\",end=str(yend)+\"-12-31\")\n",
    "### Remove Feb 29th\n",
    "timeout = timeout[~((timeout.month == 2) & (timeout.day == 29))]\n",
    "\n",
    "monstrings=['JAN','FEB','MAR','APR','MAY','JUN','JUL','AUG','SEP','OCT','NOV','DEC']\n",
    "datpath=\"/project/mojave/observations/ISD/hourly/\"\n",
    "#datpath=\"https://www.ncei.noaa.gov/data/global-hourly/archive/csv/\"\n",
    "statfile=\"/project/mojave/observations/ISD/global-summary-of-the-day/isd-history.txt\"\n",
    "inventfile=\"/project/mojave/observations/ISD/global-summary-of-the-day/isd-inventory.csv\"\n",
    "fileout=\"/project/cas/islas/python_savs/qtrend_paper/DATA_SORT/ISD/1980_2020/T2M_DEW_ISD_global_fromhourly_1980_2020.nc\""
   ]
  },
  {
   "cell_type": "code",
   "execution_count": 4,
   "id": "c2d4d2f5-f11a-4e27-a1ca-452cb093bd22",
   "metadata": {},
   "outputs": [],
   "source": [
    "#---Set up the character locations of the required columns from the idf-history.txt file\n",
    "datestart=[82,90] \n",
    "dateend=[91,99]\n",
    "latstr=[57,64]\n",
    "lonstr=[65,73]\n",
    "usafstr=[0,6]\n",
    "wbanstr=[7,12]\n",
    "\n",
    "#---Open the isd-history file and gab out the relevant station information\n",
    "f = open(statfile,\"r\")\n",
    "# skip header\n",
    "for i in range(22):\n",
    "    f.readline()\n",
    "\n",
    "#sys.exit()\n",
    "usaf=[] ; wban=[] ; dates=[] ; datee=[] ; lon=[] ; lat=[]\n",
    "count=0\n",
    "for line in f:\n",
    "    dates.append(line[datestart[0]:datestart[1]])\n",
    "    datee.append(line[dateend[0]:dateend[1]])\n",
    "    lon.append(line[lonstr[0]:lonstr[1]])\n",
    "    lat.append(line[latstr[0]:latstr[1]])\n",
    "    usaf.append(line[usafstr[0]:usafstr[1]])\n",
    "    wban.append(line[wbanstr[0]:wbanstr[1]])\n",
    "f.close()\n"
   ]
  },
  {
   "cell_type": "code",
   "execution_count": 5,
   "id": "689f431b-fd45-43e2-ad45-eb4520a08b38",
   "metadata": {},
   "outputs": [],
   "source": [
    "dictstat=[{'wban': wban, 'usaf': usaf, 'lat': lat, 'lon':lon, 'dates':dates, 'datee':datee} \n",
    "     for wban, usaf, lat, lon, dates, datee in zip (wban, usaf, lat, lon, dates, datee)]"
   ]
  },
  {
   "cell_type": "code",
   "execution_count": 9,
   "id": "de3d27c5-dc77-4f23-8747-2167747a095b",
   "metadata": {},
   "outputs": [
    {
     "name": "stderr",
     "output_type": "stream",
     "text": [
      "/project/cas02/islas/miniconda3/envs/islaenv/lib/python3.7/site-packages/IPython/core/interactiveshell.py:3524: DtypeWarning: Columns (0) have mixed types.Specify dtype option on import or set low_memory=False.\n",
      "  exec(code_obj, self.user_global_ns, self.user_ns)\n"
     ]
    }
   ],
   "source": [
    "inventory = pd.read_csv(inventfile)"
   ]
  },
  {
   "cell_type": "code",
   "execution_count": 303,
   "id": "696f6f53-e466-4f71-b2f5-15f960dac6f8",
   "metadata": {},
   "outputs": [],
   "source": [
    "#inventory = pd.read_csv(inventfile)\n",
    "\n",
    "#statuse=[]\n",
    "#statname=[]\n",
    "#usaf=[]\n",
    "#wban=[]\n",
    "#latstation=[]\n",
    "#lonstation=[]\n",
    "\n",
    "#for key in dictstat:\n",
    "#    try:\n",
    "#        latflt=float(key['lat'])\n",
    "#    except:\n",
    "#        latflt=-9999.\n",
    "#        \n",
    "#    try: \n",
    "#        lonflt=float(key['lon'])\n",
    "#    except:\n",
    "#        lonflt=-9999.\n",
    "#        \n",
    "#    try:\n",
    "#        usafval = int(key['usaf'])\n",
    "#    except:\n",
    "#        usafval = key['usaf']\n",
    "#        \n",
    "#    inventdat = inventory.loc[inventory['USAF']==usafval]\n",
    "#    statyears = inventdat.loc[(inventdat['YEAR'] >= ystart) & (inventdat['YEAR'] <= yend)]\n",
    "#    statyears = statyears['YEAR']\n",
    "    \n",
    "#    datebegflt = float(key['dates'])\n",
    "#    dateendflt = float(key['datee'])\n",
    "    \n",
    "#    if (  (datebegflt < ystart*10000) and (dateendflt >= (yend*10000+1)) and (len(statyears) == nyears)):\n",
    "#        statuse.append(key)\n",
    "#        statname.append(key['usaf']+key['wban'])\n",
    "#        usaf.append(key['usaf'])\n",
    "#        wban.append(key['wban'])\n",
    "#        latstation.append(latflt)\n",
    "#        lonstation.append(lonflt)        "
   ]
  },
  {
   "cell_type": "code",
   "execution_count": 6,
   "id": "19772b44-9241-4996-a16f-94c3815e5a5a",
   "metadata": {},
   "outputs": [],
   "source": [
    "datevals=pd.date_range(start=\"1979-01-01\",end=\"1979-12-31\")\n",
    "m = np.array(datevals.month)\n",
    "mm = np.char.zfill(m.astype(str),2)\n",
    "d = np.array(datevals.day)\n",
    "dd = np.char.zfill(d.astype(str),2)\n",
    "datestrings=[mmm + \"-\" +  ddd  for  mmm, ddd in zip(mm, dd) ]"
   ]
  },
  {
   "cell_type": "code",
   "execution_count": 242,
   "id": "a56ae1dd-f4f6-4e1f-a32b-66dfb1dcbaab",
   "metadata": {},
   "outputs": [],
   "source": [
    "# Read in the data for stations that will be used\n",
    "#t2m = np.empty([len(statname), nyears*365])\n",
    "#t2m[:,:] = nan\n",
    "#dewp = np.empty([len(statname), nyears*365])\n",
    "#dewp[:,:] = nan\n",
    "#stp = np.empty([len(statname), nyears*365])\n",
    "#stp[:,:] = nan"
   ]
  },
  {
   "cell_type": "code",
   "execution_count": 140,
   "id": "a5c33ef5-d345-4d89-8178-3b36fab7a0c1",
   "metadata": {},
   "outputs": [],
   "source": [
    "statname=['72268023009', '72268793033', '72274023160', '72278023183',\n",
    "       '72278623104', '72290023188', '72290693112', '72290993115',\n",
    "       '72292603154', '72295023174', '72297023129', '72360023051',\n",
    "       '72362723081', '72365023050', '72367723054', '72374023194',\n",
    "       '72380523179', '72381523161', '72381603159', '72383023187',\n",
    "       '72384023155', '72386023169', '72389093193', '72391093111',\n",
    "       '72392523190', '72394023273', '72396593209', '72463523067',\n",
    "       '72464093058', '72464523070', '72466093037', '72475593129',\n",
    "       '72476023066', '72480023157', '72483023232', '72485523153',\n",
    "       '72486023154', '72488023185', '72488593102', '72492023237',\n",
    "       '72492623258', '72494523293', '72572024127', '72582524121',\n",
    "       '72583024128', '72591024216', '72594524283', '74612093104',\n",
    "       '74702023110', '74718703104', '74718823158']\n",
    "\n",
    "#statname=['74702023110']\n",
    "#statname=['72278623104']\n",
    "#statname=['72268023009', '72268793033']"
   ]
  },
  {
   "cell_type": "code",
   "execution_count": 141,
   "id": "5727ae76-7ea2-4bec-bbbe-aabbc91feb8b",
   "metadata": {},
   "outputs": [
    {
     "name": "stdout",
     "output_type": "stream",
     "text": [
      "0:72268023009\n",
      "1:72268793033\n",
      "2:72274023160\n",
      "3:72278023183\n",
      "4:72278623104\n",
      "5:72290023188\n",
      "6:72290693112\n",
      "7:72290993115\n",
      "8:72292603154\n",
      "9:72295023174\n",
      "10:72297023129\n",
      "11:72360023051\n",
      "12:72362723081\n",
      "13:72365023050\n",
      "14:72367723054\n",
      "15:72374023194\n",
      "16:72380523179\n",
      "17:72381523161\n",
      "18:72381603159\n",
      "19:72383023187\n",
      "20:72384023155\n",
      "21:72386023169\n",
      "22:72389093193\n",
      "23:72391093111\n",
      "24:72392523190\n",
      "25:72394023273\n",
      "26:72396593209\n",
      "27:72463523067\n",
      "28:72464093058\n",
      "29:72464523070\n",
      "30:72466093037\n",
      "31:72475593129\n",
      "32:72476023066\n",
      "33:72480023157\n",
      "34:72483023232\n",
      "35:72485523153\n",
      "36:72486023154\n",
      "37:72488023185\n",
      "38:72488593102\n",
      "39:72492023237\n",
      "40:72492623258\n",
      "41:72494523293\n",
      "42:72572024127\n",
      "43:72582524121\n",
      "44:72583024128\n",
      "45:72591024216\n",
      "46:72594524283\n",
      "47:74612093104\n",
      "48:74702023110\n",
      "49:74718703104\n",
      "50:74718823158\n"
     ]
    }
   ],
   "source": [
    "usecols=['SOURCE', 'REPORT_TYPE', 'CALL_SIGN', 'QUALITY_CONTROL', 'DATE', 'DEW', 'TMP']\n",
    "\n",
    "has_data = np.ones(len(statname)).astype(bool)\n",
    "dat_stations=[]\n",
    "dat_stations_hourly=[]\n",
    "\n",
    "for istat in range(0,len(statname),1):\n",
    "    print(str(istat)+':'+statname[istat])\n",
    "\n",
    "    usafval = int(usaf[istat])\n",
    "    wbanval = int(wban[istat])\n",
    "    inventdat = inventory.loc[inventory['USAF']==usafval]\n",
    "    statyears = inventdat.loc[(inventdat['YEAR'] >= ystart) & (inventdat['YEAR'] <= yend)]\n",
    "    statyears = statyears['YEAR']\n",
    "    \n",
    "    alldat=[]\n",
    "    \n",
    "    for iyear in range(ystart,yend+1,1):\n",
    "        fname = datpath+str(iyear)+'/'+statname[istat]+'.csv'\n",
    "            \n",
    "        try:    \n",
    "            data = pd.read_csv(fname, usecols=usecols, low_memory=False) \n",
    "            data = isd.remove_bad_rows(data)\n",
    "            data = data[['DATE','TMP','DEW']]\n",
    "            for varname in ('TMP','DEW'):\n",
    "                data = isd.remove_bad_vals(data, varname)\n",
    "        \n",
    "            alldat.append(data)\n",
    "        except:\n",
    "            pass\n",
    "\n",
    "            \n",
    "    if len(alldat) > 0:\n",
    "        alldat = pd.concat(alldat, ignore_index=True).reset_index()\n",
    "        alldat = alldat[['DATE','TMP','DEW']]\n",
    "    else:\n",
    "        has_data[istat]=False\n",
    "        #date_data = data[['DATE','TMP','DEW','SOURCE','REPORT_TYPE','CALL_SIGN','QUALITY_CONTROL']]\n",
    "    \n",
    "    dt = [datetime.strptime(d, '%Y-%m-%dT%H:%M:%S') for d in alldat['DATE']]\n",
    "    alldat.index = dt\n",
    "    \n",
    "    #-----check the first and last days are in the record.  If not - pad it with a NaN\n",
    "    #-----check the first and last days are in the record.  If not - pad it with a NaN\n",
    "    if ( (alldat.index.year[0] != ystart) | (alldat.index.month[0] != 1) | (alldat.index.day[0] != 1) ):\n",
    "        day1 = datetime.strptime(str(ystart)+\"-01-01\", '%Y-%m-%d')\n",
    "        datday0 = pd.DataFrame(data=[[nan, nan]], index=[day1], columns=['TMP', 'DEW'])\n",
    "        alldat= pd.concat([datday0, alldat])\n",
    "    \n",
    "    if ( (alldat.index.year[len(alldat.index)-1] != yend) | (alldat.index.month[len(alldat.index)-1] != 12) | \n",
    "       (alldat.index.day[len(alldat.index)-1] != 31) ):\n",
    "        dayend = datetime.strptime(str(yend)+\"-12-31\",'%Y-%m-%d')\n",
    "        alldat = pd.concat([alldat, dayend])\n",
    "                \n",
    "\n",
    "    #-----test for duplicates and keep the first one\n",
    "    test = alldat.index.duplicated(keep='first')\n",
    "    alldat = alldat[~test]\n",
    "    \n",
    "    resampler = alldat.resample('D')\n",
    "    nperday = resampler.count()\n",
    "    \n",
    "    #---Interpolate to hourly\n",
    "    dathourly=[]\n",
    "    datdaily=[]\n",
    "    timenew = pd.date_range(str(ystart)+\"-01-01\",str(yend)+\"-12-31\", freq=\"H\")\n",
    "    timenewday = pd.date_range(str(ystart)+\"-01-01\", str(yend)+\"-12-31\", freq=\"D\")\n",
    "    \n",
    "    daystr = xr.DataArray(timenew.strftime('%Y-%m-%d'), coords=[timenew], dims=['time'], name='daystr')\n",
    "    for varname in ('TMP','DEW'):\n",
    "        dat = alldat[varname].dropna()\n",
    "        datinterp = np.interp(timenew, dat.index, dat)\n",
    "        datinterp_xr = xr.DataArray(datinterp, coords=[timenew], dims='time', name=varname)\n",
    "        dathourly.append(datinterp_xr)\n",
    "        \n",
    "        datdailyt = datinterp_xr.groupby(daystr).mean('time').rename({'daystr':'time'})\n",
    "        datdailyt = datdailyt.where( nperday[varname].values > 18, nan)\n",
    "        datdailyt['time'] = timenewday\n",
    "        \n",
    "        datdaily.append(datdailyt)\n",
    "        \n",
    "        \n",
    "    dathourly = xr.merge(dathourly)\n",
    "    datdaily = xr.merge(datdaily)\n",
    "    #daystr = xr.DataArray(dathourly.indexes['time'].strftime('%Y-%m-%d'), coords=dathourly.time.coords, name='daystr')\n",
    "    #datdaily = dathourly.groupby(daystr).mean('time').rename({'daystr':'time'})\n",
    "    \n",
    "    #---Calculate the daily average of the interpolated data\n",
    "    #datdaily = dathourly.resample('D')\n",
    "    #datdaily = datdaily.mean()\n",
    "    \n",
    "    #datdaily = datdaily[['TMP','DEW']]\n",
    "    #sys.exit()\n",
    "    \n",
    "    #datdaily = datdaily[nperday > 18]\n",
    "    #datdaily = datdaily\n",
    "    \n",
    "    t2m = datdaily.TMP.rename('t2m')\n",
    "    dewp = datdaily.DEW.rename('dewp')\n",
    "    \n",
    "    hourly_t2m = dathourly.TMP.rename('t2m')\n",
    "    hourly_dewp = dathourly.DEW.rename('dewp')\n",
    "    \n",
    "    #t2m = xr.DataArray(datdaily['TMP'], dims=['time'], name='t2m')\n",
    "    #dewp = xr.DataArray(datdaily['DEW'], dims=['time'], name='dewp')\n",
    "    nperday_t2m = xr.DataArray(nperday.TMP.values, coords=[t2m.time], dims=['time'], name='nperday_t2m')\n",
    "    nperday_dewp = xr.DataArray(nperday.DEW.values, coords=[dewp.time], dims=['time'], name='nperday_dew')\n",
    "\n",
    "    #hourly_t2m = xr.DataArray(dathourly['TMP'], dims=['time'], name='t2m')\n",
    "    #hourly_dewp = xr.DataArray(dathourly['DEW'], dims=['time'], name='dewp')\n",
    "    \n",
    "    datout = xr.merge([t2m,dewp, nperday_t2m, nperday_dewp])\n",
    "    hourly_datout = xr.merge([hourly_t2m, hourly_dewp])\n",
    "    \n",
    "    #---drop Feb 29th\n",
    "    datout = datout.where( ((datout.time.dt.month != 2) | (datout.time.dt.day != 29)), drop=True)\n",
    "    \n",
    "    dat_stations.append(datout)\n",
    "    dat_stations_hourly.append(hourly_datout)\n",
    "    \n",
    "dat_stations = xr.concat(dat_stations, dim='station')\n",
    "dat_stations = dat_stations.assign_coords(station=statname)\n",
    "dat_stations.to_netcdf(fileout)\n",
    "\n",
    "dat_stations_hourly = xr.concat(dat_stations_hourly, dim='station')\n",
    "dat_stations_hourly = dat_stations_hourly.assign_coords(station=statname)\n",
    "dat_stations_hourly.to_netcdf(\"/project/cas/islas/python_savs/qtrend_paper/DATA_SORT/ISD/1980_2020/T2M_DEW_ISD_global_hourly_1980_2020.nc\")\n"
   ]
  },
  {
   "cell_type": "code",
   "execution_count": 137,
   "id": "4861a19a-b51c-411e-9691-bbe0198133fa",
   "metadata": {},
   "outputs": [],
   "source": [
    "#-----check the first and last days are in the record.  If not - pad it with a NaN\n",
    "if ( (alldat.index.year[0] != ystart) | (alldat.index.month[0] != 1) | (alldat.index.day[0] != 1) ):\n",
    "    day1 = datetime.strptime(str(ystart)+\"-01-01\", '%Y-%m-%d')\n",
    "    datday0 = pd.DataFrame(data=[[nan, nan]], index=[day1], columns=['TMP', 'DEW'])\n",
    "    alldat= pd.concat([datday0, alldat])\n",
    "    \n",
    "if ( (alldat.index.year[len(alldat.index)-1] != yend) | (alldat.index.month[len(alldat.index)-1] != 12) | \n",
    "   (alldat.index.day[len(alldat.index)-1] != 31) ):\n",
    "    print('???')\n",
    "    dayend = datetime.strptime(str(yend)+\"-12-31\",'%Y-%m-%d')\n",
    "    alldat = pd.concat([alldat, dayend])"
   ]
  },
  {
   "cell_type": "code",
   "execution_count": 138,
   "id": "c0ab5825-8368-4fd0-b283-2e96db0021fa",
   "metadata": {},
   "outputs": [
    {
     "name": "stdout",
     "output_type": "stream",
     "text": [
      "                      TMP  DEW                 DATE\n",
      "1980-01-01 00:00:00   NaN  NaN                  NaN\n",
      "1980-01-02 11:00:00   5.0 -6.6  1980-01-02T11:00:00\n",
      "1980-01-02 12:00:00   3.9 -7.1  1980-01-02T12:00:00\n",
      "1980-01-02 13:00:00   3.3 -7.7  1980-01-02T13:00:00\n",
      "1980-01-02 14:00:00   3.3 -8.2  1980-01-02T14:00:00\n",
      "...                   ...  ...                  ...\n",
      "2020-12-31 19:50:00   NaN  NaN  2020-12-31T19:50:00\n",
      "2020-12-31 20:50:00   NaN  NaN  2020-12-31T20:50:00\n",
      "2020-12-31 21:47:00   NaN  NaN  2020-12-31T21:47:00\n",
      "2020-12-31 22:55:00  15.0 -9.0  2020-12-31T22:55:00\n",
      "2020-12-31 23:55:00  15.0 -9.0  2020-12-31T23:55:00\n",
      "\n",
      "[326991 rows x 3 columns]\n"
     ]
    }
   ],
   "source": [
    "print(alldat)"
   ]
  },
  {
   "cell_type": "code",
   "execution_count": 136,
   "id": "1c182670-35d4-40dc-bc88-6757d99ca1ea",
   "metadata": {},
   "outputs": [
    {
     "name": "stdout",
     "output_type": "stream",
     "text": [
      "2020-12-31 23:55:00\n"
     ]
    }
   ],
   "source": [
    "print(alldat.index[len(alldat.index)-1])"
   ]
  },
  {
   "cell_type": "code",
   "execution_count": 105,
   "id": "5aab7a16-070f-45be-9c61-1959054774ae",
   "metadata": {},
   "outputs": [
    {
     "name": "stdout",
     "output_type": "stream",
     "text": [
      "Int64Index([1980, 1980, 1980, 1980, 1980, 1980, 1980, 1980, 1980, 1980,\n",
      "            ...\n",
      "            2020, 2020, 2020, 2020, 2020, 2020, 2020, 2020, 2020, 2020],\n",
      "           dtype='int64', length=326990)\n"
     ]
    }
   ],
   "source": [
    "print(alldat.index.year)"
   ]
  },
  {
   "cell_type": "code",
   "execution_count": 102,
   "id": "ed8fcc5b-ab2d-4ed6-b817-efd56460491b",
   "metadata": {},
   "outputs": [
    {
     "name": "stdout",
     "output_type": "stream",
     "text": [
      "                                    DATE   TMP  DEW\n",
      "1980-01-02 11:00:00  1980-01-02T11:00:00   5.0 -6.6\n",
      "1980-01-02 12:00:00  1980-01-02T12:00:00   3.9 -7.1\n",
      "1980-01-02 13:00:00  1980-01-02T13:00:00   3.3 -7.7\n",
      "1980-01-02 14:00:00  1980-01-02T14:00:00   3.3 -8.2\n",
      "1980-01-02 15:00:00  1980-01-02T15:00:00   3.9 -7.7\n",
      "...                                  ...   ...  ...\n",
      "2020-12-31 19:50:00  2020-12-31T19:50:00   NaN  NaN\n",
      "2020-12-31 20:50:00  2020-12-31T20:50:00   NaN  NaN\n",
      "2020-12-31 21:47:00  2020-12-31T21:47:00   NaN  NaN\n",
      "2020-12-31 22:55:00  2020-12-31T22:55:00  15.0 -9.0\n",
      "2020-12-31 23:55:00  2020-12-31T23:55:00  15.0 -9.0\n",
      "\n",
      "[326990 rows x 3 columns]\n"
     ]
    }
   ],
   "source": [
    "first = alldat.index.year[0]"
   ]
  },
  {
   "cell_type": "code",
   "execution_count": 87,
   "id": "97938d96-92fd-43de-bcc9-6905f380d6c7",
   "metadata": {},
   "outputs": [
    {
     "ename": "TypeError",
     "evalue": "unhashable type: 'DataArray'",
     "output_type": "error",
     "traceback": [
      "\u001b[0;31m---------------------------------------------------------------------------\u001b[0m",
      "\u001b[0;31mTypeError\u001b[0m                                 Traceback (most recent call last)",
      "\u001b[0;32m/project/cas02/islas/miniconda3/envs/islaenv/lib/python3.7/site-packages/pandas/core/arrays/categorical.py\u001b[0m in \u001b[0;36m__init__\u001b[0;34m(self, values, categories, ordered, dtype, fastpath, copy)\u001b[0m\n\u001b[1;32m    431\u001b[0m             \u001b[0;32mtry\u001b[0m\u001b[0;34m:\u001b[0m\u001b[0;34m\u001b[0m\u001b[0;34m\u001b[0m\u001b[0m\n\u001b[0;32m--> 432\u001b[0;31m                 \u001b[0mcodes\u001b[0m\u001b[0;34m,\u001b[0m \u001b[0mcategories\u001b[0m \u001b[0;34m=\u001b[0m \u001b[0mfactorize\u001b[0m\u001b[0;34m(\u001b[0m\u001b[0mvalues\u001b[0m\u001b[0;34m,\u001b[0m \u001b[0msort\u001b[0m\u001b[0;34m=\u001b[0m\u001b[0;32mTrue\u001b[0m\u001b[0;34m)\u001b[0m\u001b[0;34m\u001b[0m\u001b[0;34m\u001b[0m\u001b[0m\n\u001b[0m\u001b[1;32m    433\u001b[0m             \u001b[0;32mexcept\u001b[0m \u001b[0mTypeError\u001b[0m \u001b[0;32mas\u001b[0m \u001b[0merr\u001b[0m\u001b[0;34m:\u001b[0m\u001b[0;34m\u001b[0m\u001b[0;34m\u001b[0m\u001b[0m\n",
      "\u001b[0;32m/project/cas02/islas/miniconda3/envs/islaenv/lib/python3.7/site-packages/pandas/core/algorithms.py\u001b[0m in \u001b[0;36mfactorize\u001b[0;34m(values, sort, na_sentinel, size_hint)\u001b[0m\n\u001b[1;32m    761\u001b[0m         codes, uniques = factorize_array(\n\u001b[0;32m--> 762\u001b[0;31m             \u001b[0mvalues\u001b[0m\u001b[0;34m,\u001b[0m \u001b[0mna_sentinel\u001b[0m\u001b[0;34m=\u001b[0m\u001b[0mna_sentinel\u001b[0m\u001b[0;34m,\u001b[0m \u001b[0msize_hint\u001b[0m\u001b[0;34m=\u001b[0m\u001b[0msize_hint\u001b[0m\u001b[0;34m,\u001b[0m \u001b[0mna_value\u001b[0m\u001b[0;34m=\u001b[0m\u001b[0mna_value\u001b[0m\u001b[0;34m\u001b[0m\u001b[0;34m\u001b[0m\u001b[0m\n\u001b[0m\u001b[1;32m    763\u001b[0m         )\n",
      "\u001b[0;32m/project/cas02/islas/miniconda3/envs/islaenv/lib/python3.7/site-packages/pandas/core/algorithms.py\u001b[0m in \u001b[0;36mfactorize_array\u001b[0;34m(values, na_sentinel, size_hint, na_value, mask)\u001b[0m\n\u001b[1;32m    563\u001b[0m     uniques, codes = table.factorize(\n\u001b[0;32m--> 564\u001b[0;31m         \u001b[0mvalues\u001b[0m\u001b[0;34m,\u001b[0m \u001b[0mna_sentinel\u001b[0m\u001b[0;34m=\u001b[0m\u001b[0mna_sentinel\u001b[0m\u001b[0;34m,\u001b[0m \u001b[0mna_value\u001b[0m\u001b[0;34m=\u001b[0m\u001b[0mna_value\u001b[0m\u001b[0;34m,\u001b[0m \u001b[0mmask\u001b[0m\u001b[0;34m=\u001b[0m\u001b[0mmask\u001b[0m\u001b[0;34m\u001b[0m\u001b[0;34m\u001b[0m\u001b[0m\n\u001b[0m\u001b[1;32m    565\u001b[0m     )\n",
      "\u001b[0;32mpandas/_libs/hashtable_class_helper.pxi\u001b[0m in \u001b[0;36mpandas._libs.hashtable.PyObjectHashTable.factorize\u001b[0;34m()\u001b[0m\n",
      "\u001b[0;32mpandas/_libs/hashtable_class_helper.pxi\u001b[0m in \u001b[0;36mpandas._libs.hashtable.PyObjectHashTable._unique\u001b[0;34m()\u001b[0m\n",
      "\u001b[0;31mTypeError\u001b[0m: unhashable type: 'DataArray'",
      "\nDuring handling of the above exception, another exception occurred:\n",
      "\u001b[0;31mTypeError\u001b[0m                                 Traceback (most recent call last)",
      "\u001b[0;32m/tmp/ipykernel_5226/3956882287.py\u001b[0m in \u001b[0;36m<module>\u001b[0;34m\u001b[0m\n\u001b[0;32m----> 1\u001b[0;31m \u001b[0mtimedaily\u001b[0m \u001b[0;34m=\u001b[0m \u001b[0mtimenew\u001b[0m\u001b[0;34m.\u001b[0m\u001b[0mgroupby\u001b[0m\u001b[0;34m(\u001b[0m\u001b[0mdaystr\u001b[0m\u001b[0;34m)\u001b[0m\u001b[0;34m.\u001b[0m\u001b[0mmean\u001b[0m\u001b[0;34m(\u001b[0m\u001b[0;34m'time'\u001b[0m\u001b[0;34m)\u001b[0m\u001b[0;34m\u001b[0m\u001b[0;34m\u001b[0m\u001b[0m\n\u001b[0m",
      "\u001b[0;32m/project/cas02/islas/miniconda3/envs/islaenv/lib/python3.7/site-packages/pandas/core/indexes/base.py\u001b[0m in \u001b[0;36mgroupby\u001b[0;34m(self, values)\u001b[0m\n\u001b[1;32m   5475\u001b[0m         \u001b[0;32mif\u001b[0m \u001b[0misinstance\u001b[0m\u001b[0;34m(\u001b[0m\u001b[0mvalues\u001b[0m\u001b[0;34m,\u001b[0m \u001b[0mABCMultiIndex\u001b[0m\u001b[0;34m)\u001b[0m\u001b[0;34m:\u001b[0m\u001b[0;34m\u001b[0m\u001b[0;34m\u001b[0m\u001b[0m\n\u001b[1;32m   5476\u001b[0m             \u001b[0mvalues\u001b[0m \u001b[0;34m=\u001b[0m \u001b[0mvalues\u001b[0m\u001b[0;34m.\u001b[0m\u001b[0m_values\u001b[0m\u001b[0;34m\u001b[0m\u001b[0;34m\u001b[0m\u001b[0m\n\u001b[0;32m-> 5477\u001b[0;31m         \u001b[0mvalues\u001b[0m \u001b[0;34m=\u001b[0m \u001b[0mCategorical\u001b[0m\u001b[0;34m(\u001b[0m\u001b[0mvalues\u001b[0m\u001b[0;34m)\u001b[0m\u001b[0;34m\u001b[0m\u001b[0;34m\u001b[0m\u001b[0m\n\u001b[0m\u001b[1;32m   5478\u001b[0m         \u001b[0mresult\u001b[0m \u001b[0;34m=\u001b[0m \u001b[0mvalues\u001b[0m\u001b[0;34m.\u001b[0m\u001b[0m_reverse_indexer\u001b[0m\u001b[0;34m(\u001b[0m\u001b[0;34m)\u001b[0m\u001b[0;34m\u001b[0m\u001b[0;34m\u001b[0m\u001b[0m\n\u001b[1;32m   5479\u001b[0m \u001b[0;34m\u001b[0m\u001b[0m\n",
      "\u001b[0;32m/project/cas02/islas/miniconda3/envs/islaenv/lib/python3.7/site-packages/pandas/core/arrays/categorical.py\u001b[0m in \u001b[0;36m__init__\u001b[0;34m(self, values, categories, ordered, dtype, fastpath, copy)\u001b[0m\n\u001b[1;32m    432\u001b[0m                 \u001b[0mcodes\u001b[0m\u001b[0;34m,\u001b[0m \u001b[0mcategories\u001b[0m \u001b[0;34m=\u001b[0m \u001b[0mfactorize\u001b[0m\u001b[0;34m(\u001b[0m\u001b[0mvalues\u001b[0m\u001b[0;34m,\u001b[0m \u001b[0msort\u001b[0m\u001b[0;34m=\u001b[0m\u001b[0;32mTrue\u001b[0m\u001b[0;34m)\u001b[0m\u001b[0;34m\u001b[0m\u001b[0;34m\u001b[0m\u001b[0m\n\u001b[1;32m    433\u001b[0m             \u001b[0;32mexcept\u001b[0m \u001b[0mTypeError\u001b[0m \u001b[0;32mas\u001b[0m \u001b[0merr\u001b[0m\u001b[0;34m:\u001b[0m\u001b[0;34m\u001b[0m\u001b[0;34m\u001b[0m\u001b[0m\n\u001b[0;32m--> 434\u001b[0;31m                 \u001b[0mcodes\u001b[0m\u001b[0;34m,\u001b[0m \u001b[0mcategories\u001b[0m \u001b[0;34m=\u001b[0m \u001b[0mfactorize\u001b[0m\u001b[0;34m(\u001b[0m\u001b[0mvalues\u001b[0m\u001b[0;34m,\u001b[0m \u001b[0msort\u001b[0m\u001b[0;34m=\u001b[0m\u001b[0;32mFalse\u001b[0m\u001b[0;34m)\u001b[0m\u001b[0;34m\u001b[0m\u001b[0;34m\u001b[0m\u001b[0m\n\u001b[0m\u001b[1;32m    435\u001b[0m                 \u001b[0;32mif\u001b[0m \u001b[0mdtype\u001b[0m\u001b[0;34m.\u001b[0m\u001b[0mordered\u001b[0m\u001b[0;34m:\u001b[0m\u001b[0;34m\u001b[0m\u001b[0;34m\u001b[0m\u001b[0m\n\u001b[1;32m    436\u001b[0m                     \u001b[0;31m# raise, as we don't have a sortable data structure and so\u001b[0m\u001b[0;34m\u001b[0m\u001b[0;34m\u001b[0m\u001b[0;34m\u001b[0m\u001b[0m\n",
      "\u001b[0;32m/project/cas02/islas/miniconda3/envs/islaenv/lib/python3.7/site-packages/pandas/core/algorithms.py\u001b[0m in \u001b[0;36mfactorize\u001b[0;34m(values, sort, na_sentinel, size_hint)\u001b[0m\n\u001b[1;32m    760\u001b[0m \u001b[0;34m\u001b[0m\u001b[0m\n\u001b[1;32m    761\u001b[0m         codes, uniques = factorize_array(\n\u001b[0;32m--> 762\u001b[0;31m             \u001b[0mvalues\u001b[0m\u001b[0;34m,\u001b[0m \u001b[0mna_sentinel\u001b[0m\u001b[0;34m=\u001b[0m\u001b[0mna_sentinel\u001b[0m\u001b[0;34m,\u001b[0m \u001b[0msize_hint\u001b[0m\u001b[0;34m=\u001b[0m\u001b[0msize_hint\u001b[0m\u001b[0;34m,\u001b[0m \u001b[0mna_value\u001b[0m\u001b[0;34m=\u001b[0m\u001b[0mna_value\u001b[0m\u001b[0;34m\u001b[0m\u001b[0;34m\u001b[0m\u001b[0m\n\u001b[0m\u001b[1;32m    763\u001b[0m         )\n\u001b[1;32m    764\u001b[0m \u001b[0;34m\u001b[0m\u001b[0m\n",
      "\u001b[0;32m/project/cas02/islas/miniconda3/envs/islaenv/lib/python3.7/site-packages/pandas/core/algorithms.py\u001b[0m in \u001b[0;36mfactorize_array\u001b[0;34m(values, na_sentinel, size_hint, na_value, mask)\u001b[0m\n\u001b[1;32m    562\u001b[0m     \u001b[0mtable\u001b[0m \u001b[0;34m=\u001b[0m \u001b[0mhash_klass\u001b[0m\u001b[0;34m(\u001b[0m\u001b[0msize_hint\u001b[0m \u001b[0;32mor\u001b[0m \u001b[0mlen\u001b[0m\u001b[0;34m(\u001b[0m\u001b[0mvalues\u001b[0m\u001b[0;34m)\u001b[0m\u001b[0;34m)\u001b[0m\u001b[0;34m\u001b[0m\u001b[0;34m\u001b[0m\u001b[0m\n\u001b[1;32m    563\u001b[0m     uniques, codes = table.factorize(\n\u001b[0;32m--> 564\u001b[0;31m         \u001b[0mvalues\u001b[0m\u001b[0;34m,\u001b[0m \u001b[0mna_sentinel\u001b[0m\u001b[0;34m=\u001b[0m\u001b[0mna_sentinel\u001b[0m\u001b[0;34m,\u001b[0m \u001b[0mna_value\u001b[0m\u001b[0;34m=\u001b[0m\u001b[0mna_value\u001b[0m\u001b[0;34m,\u001b[0m \u001b[0mmask\u001b[0m\u001b[0;34m=\u001b[0m\u001b[0mmask\u001b[0m\u001b[0;34m\u001b[0m\u001b[0;34m\u001b[0m\u001b[0m\n\u001b[0m\u001b[1;32m    565\u001b[0m     )\n\u001b[1;32m    566\u001b[0m \u001b[0;34m\u001b[0m\u001b[0m\n",
      "\u001b[0;32mpandas/_libs/hashtable_class_helper.pxi\u001b[0m in \u001b[0;36mpandas._libs.hashtable.PyObjectHashTable.factorize\u001b[0;34m()\u001b[0m\n",
      "\u001b[0;32mpandas/_libs/hashtable_class_helper.pxi\u001b[0m in \u001b[0;36mpandas._libs.hashtable.PyObjectHashTable._unique\u001b[0;34m()\u001b[0m\n",
      "\u001b[0;31mTypeError\u001b[0m: unhashable type: 'DataArray'"
     ]
    }
   ],
   "source": [
    "timedaily = timenew.groupby(daystr).mean('time')"
   ]
  },
  {
   "cell_type": "code",
   "execution_count": null,
   "id": "e39f07dd-4a8b-4957-82fd-3d2a5eaa3f63",
   "metadata": {},
   "outputs": [],
   "source": [
    "print(timedaily) "
   ]
  },
  {
   "cell_type": "code",
   "execution_count": 86,
   "id": "90d03cb7-af29-43f2-a512-4ce51469e70c",
   "metadata": {},
   "outputs": [
    {
     "name": "stdout",
     "output_type": "stream",
     "text": [
      "Int64Index([ 1,  1,  1,  1,  1,  1,  1,  1,  1,  1,\n",
      "            ...\n",
      "            12, 12, 12, 12, 12, 12, 12, 12, 12, 12],\n",
      "           dtype='int64', length=359401)\n"
     ]
    }
   ],
   "source": [
    "print(timenew.month)"
   ]
  },
  {
   "cell_type": "code",
   "execution_count": 76,
   "id": "1a02a60d-83e7-4c83-a36d-a39b8c1d6681",
   "metadata": {},
   "outputs": [
    {
     "ename": "AttributeError",
     "evalue": "'numpy.ndarray' object has no attribute 'index'",
     "output_type": "error",
     "traceback": [
      "\u001b[0;31m---------------------------------------------------------------------------\u001b[0m",
      "\u001b[0;31mAttributeError\u001b[0m                            Traceback (most recent call last)",
      "\u001b[0;32m/tmp/ipykernel_5226/3075541302.py\u001b[0m in \u001b[0;36m<module>\u001b[0;34m\u001b[0m\n\u001b[0;32m----> 1\u001b[0;31m \u001b[0mprint\u001b[0m\u001b[0;34m(\u001b[0m\u001b[0mnp\u001b[0m\u001b[0;34m.\u001b[0m\u001b[0marray\u001b[0m\u001b[0;34m(\u001b[0m\u001b[0mtimenew\u001b[0m\u001b[0;34m.\u001b[0m\u001b[0mvalues\u001b[0m\u001b[0;34m.\u001b[0m\u001b[0mindex\u001b[0m\u001b[0;34m.\u001b[0m\u001b[0mto_pydatetime\u001b[0m\u001b[0;34m(\u001b[0m\u001b[0;34m)\u001b[0m\u001b[0;34m,\u001b[0m \u001b[0mdtype\u001b[0m\u001b[0;34m=\u001b[0m\u001b[0mnp\u001b[0m\u001b[0;34m.\u001b[0m\u001b[0mdatetime64\u001b[0m\u001b[0;34m)\u001b[0m\u001b[0;34m)\u001b[0m\u001b[0;34m\u001b[0m\u001b[0;34m\u001b[0m\u001b[0m\n\u001b[0m",
      "\u001b[0;31mAttributeError\u001b[0m: 'numpy.ndarray' object has no attribute 'index'"
     ]
    }
   ],
   "source": [
    "print(np.array(timenew.values.index.to_pydatetime(), dtype=np.datetime64))"
   ]
  },
  {
   "cell_type": "code",
   "execution_count": 66,
   "id": "5e127ab8-0e28-424f-a148-6860a0f40d06",
   "metadata": {},
   "outputs": [
    {
     "ename": "TypeError",
     "evalue": "unhashable type: 'DataArray'",
     "output_type": "error",
     "traceback": [
      "\u001b[0;31m---------------------------------------------------------------------------\u001b[0m",
      "\u001b[0;31mTypeError\u001b[0m                                 Traceback (most recent call last)",
      "\u001b[0;32m/project/cas02/islas/miniconda3/envs/islaenv/lib/python3.7/site-packages/pandas/core/arrays/categorical.py\u001b[0m in \u001b[0;36m__init__\u001b[0;34m(self, values, categories, ordered, dtype, fastpath, copy)\u001b[0m\n\u001b[1;32m    431\u001b[0m             \u001b[0;32mtry\u001b[0m\u001b[0;34m:\u001b[0m\u001b[0;34m\u001b[0m\u001b[0;34m\u001b[0m\u001b[0m\n\u001b[0;32m--> 432\u001b[0;31m                 \u001b[0mcodes\u001b[0m\u001b[0;34m,\u001b[0m \u001b[0mcategories\u001b[0m \u001b[0;34m=\u001b[0m \u001b[0mfactorize\u001b[0m\u001b[0;34m(\u001b[0m\u001b[0mvalues\u001b[0m\u001b[0;34m,\u001b[0m \u001b[0msort\u001b[0m\u001b[0;34m=\u001b[0m\u001b[0;32mTrue\u001b[0m\u001b[0;34m)\u001b[0m\u001b[0;34m\u001b[0m\u001b[0;34m\u001b[0m\u001b[0m\n\u001b[0m\u001b[1;32m    433\u001b[0m             \u001b[0;32mexcept\u001b[0m \u001b[0mTypeError\u001b[0m \u001b[0;32mas\u001b[0m \u001b[0merr\u001b[0m\u001b[0;34m:\u001b[0m\u001b[0;34m\u001b[0m\u001b[0;34m\u001b[0m\u001b[0m\n",
      "\u001b[0;32m/project/cas02/islas/miniconda3/envs/islaenv/lib/python3.7/site-packages/pandas/core/algorithms.py\u001b[0m in \u001b[0;36mfactorize\u001b[0;34m(values, sort, na_sentinel, size_hint)\u001b[0m\n\u001b[1;32m    761\u001b[0m         codes, uniques = factorize_array(\n\u001b[0;32m--> 762\u001b[0;31m             \u001b[0mvalues\u001b[0m\u001b[0;34m,\u001b[0m \u001b[0mna_sentinel\u001b[0m\u001b[0;34m=\u001b[0m\u001b[0mna_sentinel\u001b[0m\u001b[0;34m,\u001b[0m \u001b[0msize_hint\u001b[0m\u001b[0;34m=\u001b[0m\u001b[0msize_hint\u001b[0m\u001b[0;34m,\u001b[0m \u001b[0mna_value\u001b[0m\u001b[0;34m=\u001b[0m\u001b[0mna_value\u001b[0m\u001b[0;34m\u001b[0m\u001b[0;34m\u001b[0m\u001b[0m\n\u001b[0m\u001b[1;32m    763\u001b[0m         )\n",
      "\u001b[0;32m/project/cas02/islas/miniconda3/envs/islaenv/lib/python3.7/site-packages/pandas/core/algorithms.py\u001b[0m in \u001b[0;36mfactorize_array\u001b[0;34m(values, na_sentinel, size_hint, na_value, mask)\u001b[0m\n\u001b[1;32m    563\u001b[0m     uniques, codes = table.factorize(\n\u001b[0;32m--> 564\u001b[0;31m         \u001b[0mvalues\u001b[0m\u001b[0;34m,\u001b[0m \u001b[0mna_sentinel\u001b[0m\u001b[0;34m=\u001b[0m\u001b[0mna_sentinel\u001b[0m\u001b[0;34m,\u001b[0m \u001b[0mna_value\u001b[0m\u001b[0;34m=\u001b[0m\u001b[0mna_value\u001b[0m\u001b[0;34m,\u001b[0m \u001b[0mmask\u001b[0m\u001b[0;34m=\u001b[0m\u001b[0mmask\u001b[0m\u001b[0;34m\u001b[0m\u001b[0;34m\u001b[0m\u001b[0m\n\u001b[0m\u001b[1;32m    565\u001b[0m     )\n",
      "\u001b[0;32mpandas/_libs/hashtable_class_helper.pxi\u001b[0m in \u001b[0;36mpandas._libs.hashtable.PyObjectHashTable.factorize\u001b[0;34m()\u001b[0m\n",
      "\u001b[0;32mpandas/_libs/hashtable_class_helper.pxi\u001b[0m in \u001b[0;36mpandas._libs.hashtable.PyObjectHashTable._unique\u001b[0;34m()\u001b[0m\n",
      "\u001b[0;31mTypeError\u001b[0m: unhashable type: 'DataArray'",
      "\nDuring handling of the above exception, another exception occurred:\n",
      "\u001b[0;31mTypeError\u001b[0m                                 Traceback (most recent call last)",
      "\u001b[0;32m/tmp/ipykernel_5226/2585356334.py\u001b[0m in \u001b[0;36m<module>\u001b[0;34m\u001b[0m\n\u001b[0;32m----> 1\u001b[0;31m \u001b[0mtimenewday\u001b[0m \u001b[0;34m=\u001b[0m\u001b[0mtimenew\u001b[0m\u001b[0;34m.\u001b[0m\u001b[0mgroupby\u001b[0m\u001b[0;34m(\u001b[0m\u001b[0mdaystr\u001b[0m\u001b[0;34m)\u001b[0m\u001b[0;34m.\u001b[0m\u001b[0mmean\u001b[0m\u001b[0;34m(\u001b[0m\u001b[0;34m'time'\u001b[0m\u001b[0;34m)\u001b[0m\u001b[0;34m\u001b[0m\u001b[0;34m\u001b[0m\u001b[0m\n\u001b[0m",
      "\u001b[0;32m/project/cas02/islas/miniconda3/envs/islaenv/lib/python3.7/site-packages/pandas/core/indexes/base.py\u001b[0m in \u001b[0;36mgroupby\u001b[0;34m(self, values)\u001b[0m\n\u001b[1;32m   5475\u001b[0m         \u001b[0;32mif\u001b[0m \u001b[0misinstance\u001b[0m\u001b[0;34m(\u001b[0m\u001b[0mvalues\u001b[0m\u001b[0;34m,\u001b[0m \u001b[0mABCMultiIndex\u001b[0m\u001b[0;34m)\u001b[0m\u001b[0;34m:\u001b[0m\u001b[0;34m\u001b[0m\u001b[0;34m\u001b[0m\u001b[0m\n\u001b[1;32m   5476\u001b[0m             \u001b[0mvalues\u001b[0m \u001b[0;34m=\u001b[0m \u001b[0mvalues\u001b[0m\u001b[0;34m.\u001b[0m\u001b[0m_values\u001b[0m\u001b[0;34m\u001b[0m\u001b[0;34m\u001b[0m\u001b[0m\n\u001b[0;32m-> 5477\u001b[0;31m         \u001b[0mvalues\u001b[0m \u001b[0;34m=\u001b[0m \u001b[0mCategorical\u001b[0m\u001b[0;34m(\u001b[0m\u001b[0mvalues\u001b[0m\u001b[0;34m)\u001b[0m\u001b[0;34m\u001b[0m\u001b[0;34m\u001b[0m\u001b[0m\n\u001b[0m\u001b[1;32m   5478\u001b[0m         \u001b[0mresult\u001b[0m \u001b[0;34m=\u001b[0m \u001b[0mvalues\u001b[0m\u001b[0;34m.\u001b[0m\u001b[0m_reverse_indexer\u001b[0m\u001b[0;34m(\u001b[0m\u001b[0;34m)\u001b[0m\u001b[0;34m\u001b[0m\u001b[0;34m\u001b[0m\u001b[0m\n\u001b[1;32m   5479\u001b[0m \u001b[0;34m\u001b[0m\u001b[0m\n",
      "\u001b[0;32m/project/cas02/islas/miniconda3/envs/islaenv/lib/python3.7/site-packages/pandas/core/arrays/categorical.py\u001b[0m in \u001b[0;36m__init__\u001b[0;34m(self, values, categories, ordered, dtype, fastpath, copy)\u001b[0m\n\u001b[1;32m    432\u001b[0m                 \u001b[0mcodes\u001b[0m\u001b[0;34m,\u001b[0m \u001b[0mcategories\u001b[0m \u001b[0;34m=\u001b[0m \u001b[0mfactorize\u001b[0m\u001b[0;34m(\u001b[0m\u001b[0mvalues\u001b[0m\u001b[0;34m,\u001b[0m \u001b[0msort\u001b[0m\u001b[0;34m=\u001b[0m\u001b[0;32mTrue\u001b[0m\u001b[0;34m)\u001b[0m\u001b[0;34m\u001b[0m\u001b[0;34m\u001b[0m\u001b[0m\n\u001b[1;32m    433\u001b[0m             \u001b[0;32mexcept\u001b[0m \u001b[0mTypeError\u001b[0m \u001b[0;32mas\u001b[0m \u001b[0merr\u001b[0m\u001b[0;34m:\u001b[0m\u001b[0;34m\u001b[0m\u001b[0;34m\u001b[0m\u001b[0m\n\u001b[0;32m--> 434\u001b[0;31m                 \u001b[0mcodes\u001b[0m\u001b[0;34m,\u001b[0m \u001b[0mcategories\u001b[0m \u001b[0;34m=\u001b[0m \u001b[0mfactorize\u001b[0m\u001b[0;34m(\u001b[0m\u001b[0mvalues\u001b[0m\u001b[0;34m,\u001b[0m \u001b[0msort\u001b[0m\u001b[0;34m=\u001b[0m\u001b[0;32mFalse\u001b[0m\u001b[0;34m)\u001b[0m\u001b[0;34m\u001b[0m\u001b[0;34m\u001b[0m\u001b[0m\n\u001b[0m\u001b[1;32m    435\u001b[0m                 \u001b[0;32mif\u001b[0m \u001b[0mdtype\u001b[0m\u001b[0;34m.\u001b[0m\u001b[0mordered\u001b[0m\u001b[0;34m:\u001b[0m\u001b[0;34m\u001b[0m\u001b[0;34m\u001b[0m\u001b[0m\n\u001b[1;32m    436\u001b[0m                     \u001b[0;31m# raise, as we don't have a sortable data structure and so\u001b[0m\u001b[0;34m\u001b[0m\u001b[0;34m\u001b[0m\u001b[0;34m\u001b[0m\u001b[0m\n",
      "\u001b[0;32m/project/cas02/islas/miniconda3/envs/islaenv/lib/python3.7/site-packages/pandas/core/algorithms.py\u001b[0m in \u001b[0;36mfactorize\u001b[0;34m(values, sort, na_sentinel, size_hint)\u001b[0m\n\u001b[1;32m    760\u001b[0m \u001b[0;34m\u001b[0m\u001b[0m\n\u001b[1;32m    761\u001b[0m         codes, uniques = factorize_array(\n\u001b[0;32m--> 762\u001b[0;31m             \u001b[0mvalues\u001b[0m\u001b[0;34m,\u001b[0m \u001b[0mna_sentinel\u001b[0m\u001b[0;34m=\u001b[0m\u001b[0mna_sentinel\u001b[0m\u001b[0;34m,\u001b[0m \u001b[0msize_hint\u001b[0m\u001b[0;34m=\u001b[0m\u001b[0msize_hint\u001b[0m\u001b[0;34m,\u001b[0m \u001b[0mna_value\u001b[0m\u001b[0;34m=\u001b[0m\u001b[0mna_value\u001b[0m\u001b[0;34m\u001b[0m\u001b[0;34m\u001b[0m\u001b[0m\n\u001b[0m\u001b[1;32m    763\u001b[0m         )\n\u001b[1;32m    764\u001b[0m \u001b[0;34m\u001b[0m\u001b[0m\n",
      "\u001b[0;32m/project/cas02/islas/miniconda3/envs/islaenv/lib/python3.7/site-packages/pandas/core/algorithms.py\u001b[0m in \u001b[0;36mfactorize_array\u001b[0;34m(values, na_sentinel, size_hint, na_value, mask)\u001b[0m\n\u001b[1;32m    562\u001b[0m     \u001b[0mtable\u001b[0m \u001b[0;34m=\u001b[0m \u001b[0mhash_klass\u001b[0m\u001b[0;34m(\u001b[0m\u001b[0msize_hint\u001b[0m \u001b[0;32mor\u001b[0m \u001b[0mlen\u001b[0m\u001b[0;34m(\u001b[0m\u001b[0mvalues\u001b[0m\u001b[0;34m)\u001b[0m\u001b[0;34m)\u001b[0m\u001b[0;34m\u001b[0m\u001b[0;34m\u001b[0m\u001b[0m\n\u001b[1;32m    563\u001b[0m     uniques, codes = table.factorize(\n\u001b[0;32m--> 564\u001b[0;31m         \u001b[0mvalues\u001b[0m\u001b[0;34m,\u001b[0m \u001b[0mna_sentinel\u001b[0m\u001b[0;34m=\u001b[0m\u001b[0mna_sentinel\u001b[0m\u001b[0;34m,\u001b[0m \u001b[0mna_value\u001b[0m\u001b[0;34m=\u001b[0m\u001b[0mna_value\u001b[0m\u001b[0;34m,\u001b[0m \u001b[0mmask\u001b[0m\u001b[0;34m=\u001b[0m\u001b[0mmask\u001b[0m\u001b[0;34m\u001b[0m\u001b[0;34m\u001b[0m\u001b[0m\n\u001b[0m\u001b[1;32m    565\u001b[0m     )\n\u001b[1;32m    566\u001b[0m \u001b[0;34m\u001b[0m\u001b[0m\n",
      "\u001b[0;32mpandas/_libs/hashtable_class_helper.pxi\u001b[0m in \u001b[0;36mpandas._libs.hashtable.PyObjectHashTable.factorize\u001b[0;34m()\u001b[0m\n",
      "\u001b[0;32mpandas/_libs/hashtable_class_helper.pxi\u001b[0m in \u001b[0;36mpandas._libs.hashtable.PyObjectHashTable._unique\u001b[0;34m()\u001b[0m\n",
      "\u001b[0;31mTypeError\u001b[0m: unhashable type: 'DataArray'"
     ]
    }
   ],
   "source": [
    "timenewday =timenew.groupby(daystr).mean('time')"
   ]
  },
  {
   "cell_type": "code",
   "execution_count": null,
   "id": "683a043d-3804-492c-af64-a5ce3d2fd70d",
   "metadata": {},
   "outputs": [],
   "source": [
    "print(timenewday)"
   ]
  },
  {
   "cell_type": "code",
   "execution_count": 41,
   "id": "870db60c-fc16-4f0a-94eb-c662c70bf6b6",
   "metadata": {},
   "outputs": [],
   "source": [
    "daystr = xr.DataArray(timenew.strftime('%Y-%m-%d'), coords=[timenew], dims=['time'], name='daystr')"
   ]
  },
  {
   "cell_type": "code",
   "execution_count": 52,
   "id": "c4f5d1b9-a8eb-49e7-84b2-e1437e4c1b50",
   "metadata": {},
   "outputs": [
    {
     "name": "stdout",
     "output_type": "stream",
     "text": [
      "[24 24 24 ... 17 24 31]\n"
     ]
    }
   ],
   "source": [
    "print(nperday['TMP'].values)"
   ]
  },
  {
   "cell_type": "code",
   "execution_count": 53,
   "id": "28c8e8cf-5f34-4b5a-a6d4-baa35eb69889",
   "metadata": {},
   "outputs": [],
   "source": [
    "test = datdailyt.where(nperday['TMP'].values > 18, nan)"
   ]
  },
  {
   "cell_type": "code",
   "execution_count": 54,
   "id": "df6982a5-6db5-4b66-9b77-fa04ffa29fc0",
   "metadata": {},
   "outputs": [
    {
     "name": "stdout",
     "output_type": "stream",
     "text": [
      "<xarray.DataArray 'TMP' (time: 14976)>\n",
      "array([12.45416667, 10.86666667,  8.80833333, ...,         nan,\n",
      "        4.73916667, 14.74      ])\n",
      "Coordinates:\n",
      "  * time     (time) object '1980-01-01' '1980-01-02' ... '2020-12-31'\n"
     ]
    }
   ],
   "source": [
    "print(test)"
   ]
  },
  {
   "cell_type": "code",
   "execution_count": 56,
   "id": "90fc993d-a4eb-4f6f-b029-4c97effc0ad4",
   "metadata": {},
   "outputs": [
    {
     "name": "stdout",
     "output_type": "stream",
     "text": [
      "Series([], Freq: D, Name: TMP, dtype: int64)\n"
     ]
    }
   ],
   "source": [
    "print(nperday.TMP[15000:15020])"
   ]
  },
  {
   "cell_type": "code",
   "execution_count": 34,
   "id": "62da705d-177d-4cc6-999c-db04d5f9b2dd",
   "metadata": {},
   "outputs": [
    {
     "ename": "ValueError",
     "evalue": "Dimensions {'TMP', 'DEW', 'DATE'} do not exist. Expected one or more of Frozen({'time': 14976})",
     "output_type": "error",
     "traceback": [
      "\u001b[0;31m---------------------------------------------------------------------------\u001b[0m",
      "\u001b[0;31mValueError\u001b[0m                                Traceback (most recent call last)",
      "\u001b[0;32m/tmp/ipykernel_5226/966442615.py\u001b[0m in \u001b[0;36m<module>\u001b[0;34m\u001b[0m\n\u001b[0;32m----> 1\u001b[0;31m \u001b[0mtest\u001b[0m \u001b[0;34m=\u001b[0m \u001b[0mdatdaily\u001b[0m\u001b[0;34m[\u001b[0m\u001b[0mnperday\u001b[0m \u001b[0;34m>\u001b[0m \u001b[0;36m18\u001b[0m\u001b[0;34m]\u001b[0m\u001b[0;34m\u001b[0m\u001b[0;34m\u001b[0m\u001b[0m\n\u001b[0m",
      "\u001b[0;32m/project/cas02/islas/miniconda3/envs/islaenv/lib/python3.7/site-packages/xarray/core/dataset.py\u001b[0m in \u001b[0;36m__getitem__\u001b[0;34m(self, key)\u001b[0m\n\u001b[1;32m   1494\u001b[0m         \"\"\"\n\u001b[1;32m   1495\u001b[0m         \u001b[0;32mif\u001b[0m \u001b[0mutils\u001b[0m\u001b[0;34m.\u001b[0m\u001b[0mis_dict_like\u001b[0m\u001b[0;34m(\u001b[0m\u001b[0mkey\u001b[0m\u001b[0;34m)\u001b[0m\u001b[0;34m:\u001b[0m\u001b[0;34m\u001b[0m\u001b[0;34m\u001b[0m\u001b[0m\n\u001b[0;32m-> 1496\u001b[0;31m             \u001b[0;32mreturn\u001b[0m \u001b[0mself\u001b[0m\u001b[0;34m.\u001b[0m\u001b[0misel\u001b[0m\u001b[0;34m(\u001b[0m\u001b[0;34m**\u001b[0m\u001b[0mcast\u001b[0m\u001b[0;34m(\u001b[0m\u001b[0mMapping\u001b[0m\u001b[0;34m,\u001b[0m \u001b[0mkey\u001b[0m\u001b[0;34m)\u001b[0m\u001b[0;34m)\u001b[0m\u001b[0;34m\u001b[0m\u001b[0;34m\u001b[0m\u001b[0m\n\u001b[0m\u001b[1;32m   1497\u001b[0m \u001b[0;34m\u001b[0m\u001b[0m\n\u001b[1;32m   1498\u001b[0m         \u001b[0;32mif\u001b[0m \u001b[0mhashable\u001b[0m\u001b[0;34m(\u001b[0m\u001b[0mkey\u001b[0m\u001b[0;34m)\u001b[0m\u001b[0;34m:\u001b[0m\u001b[0;34m\u001b[0m\u001b[0;34m\u001b[0m\u001b[0m\n",
      "\u001b[0;32m/project/cas02/islas/miniconda3/envs/islaenv/lib/python3.7/site-packages/xarray/core/dataset.py\u001b[0m in \u001b[0;36misel\u001b[0;34m(self, indexers, drop, missing_dims, **indexers_kwargs)\u001b[0m\n\u001b[1;32m   2353\u001b[0m         \u001b[0mindexers\u001b[0m \u001b[0;34m=\u001b[0m \u001b[0meither_dict_or_kwargs\u001b[0m\u001b[0;34m(\u001b[0m\u001b[0mindexers\u001b[0m\u001b[0;34m,\u001b[0m \u001b[0mindexers_kwargs\u001b[0m\u001b[0;34m,\u001b[0m \u001b[0;34m\"isel\"\u001b[0m\u001b[0;34m)\u001b[0m\u001b[0;34m\u001b[0m\u001b[0;34m\u001b[0m\u001b[0m\n\u001b[1;32m   2354\u001b[0m         \u001b[0;32mif\u001b[0m \u001b[0many\u001b[0m\u001b[0;34m(\u001b[0m\u001b[0mis_fancy_indexer\u001b[0m\u001b[0;34m(\u001b[0m\u001b[0midx\u001b[0m\u001b[0;34m)\u001b[0m \u001b[0;32mfor\u001b[0m \u001b[0midx\u001b[0m \u001b[0;32min\u001b[0m \u001b[0mindexers\u001b[0m\u001b[0;34m.\u001b[0m\u001b[0mvalues\u001b[0m\u001b[0;34m(\u001b[0m\u001b[0;34m)\u001b[0m\u001b[0;34m)\u001b[0m\u001b[0;34m:\u001b[0m\u001b[0;34m\u001b[0m\u001b[0;34m\u001b[0m\u001b[0m\n\u001b[0;32m-> 2355\u001b[0;31m             \u001b[0;32mreturn\u001b[0m \u001b[0mself\u001b[0m\u001b[0;34m.\u001b[0m\u001b[0m_isel_fancy\u001b[0m\u001b[0;34m(\u001b[0m\u001b[0mindexers\u001b[0m\u001b[0;34m,\u001b[0m \u001b[0mdrop\u001b[0m\u001b[0;34m=\u001b[0m\u001b[0mdrop\u001b[0m\u001b[0;34m,\u001b[0m \u001b[0mmissing_dims\u001b[0m\u001b[0;34m=\u001b[0m\u001b[0mmissing_dims\u001b[0m\u001b[0;34m)\u001b[0m\u001b[0;34m\u001b[0m\u001b[0;34m\u001b[0m\u001b[0m\n\u001b[0m\u001b[1;32m   2356\u001b[0m \u001b[0;34m\u001b[0m\u001b[0m\n\u001b[1;32m   2357\u001b[0m         \u001b[0;31m# Much faster algorithm for when all indexers are ints, slices, one-dimensional\u001b[0m\u001b[0;34m\u001b[0m\u001b[0;34m\u001b[0m\u001b[0;34m\u001b[0m\u001b[0m\n",
      "\u001b[0;32m/project/cas02/islas/miniconda3/envs/islaenv/lib/python3.7/site-packages/xarray/core/dataset.py\u001b[0m in \u001b[0;36m_isel_fancy\u001b[0;34m(self, indexers, drop, missing_dims)\u001b[0m\n\u001b[1;32m   2400\u001b[0m         \u001b[0;31m# Note: we need to preserve the original indexers variable in order to merge the\u001b[0m\u001b[0;34m\u001b[0m\u001b[0;34m\u001b[0m\u001b[0;34m\u001b[0m\u001b[0m\n\u001b[1;32m   2401\u001b[0m         \u001b[0;31m# coords below\u001b[0m\u001b[0;34m\u001b[0m\u001b[0;34m\u001b[0m\u001b[0;34m\u001b[0m\u001b[0m\n\u001b[0;32m-> 2402\u001b[0;31m         \u001b[0mindexers_list\u001b[0m \u001b[0;34m=\u001b[0m \u001b[0mlist\u001b[0m\u001b[0;34m(\u001b[0m\u001b[0mself\u001b[0m\u001b[0;34m.\u001b[0m\u001b[0m_validate_indexers\u001b[0m\u001b[0;34m(\u001b[0m\u001b[0mindexers\u001b[0m\u001b[0;34m,\u001b[0m \u001b[0mmissing_dims\u001b[0m\u001b[0;34m)\u001b[0m\u001b[0;34m)\u001b[0m\u001b[0;34m\u001b[0m\u001b[0;34m\u001b[0m\u001b[0m\n\u001b[0m\u001b[1;32m   2403\u001b[0m \u001b[0;34m\u001b[0m\u001b[0m\n\u001b[1;32m   2404\u001b[0m         \u001b[0mvariables\u001b[0m\u001b[0;34m:\u001b[0m \u001b[0mDict\u001b[0m\u001b[0;34m[\u001b[0m\u001b[0mHashable\u001b[0m\u001b[0;34m,\u001b[0m \u001b[0mVariable\u001b[0m\u001b[0;34m]\u001b[0m \u001b[0;34m=\u001b[0m \u001b[0;34m{\u001b[0m\u001b[0;34m}\u001b[0m\u001b[0;34m\u001b[0m\u001b[0;34m\u001b[0m\u001b[0m\n",
      "\u001b[0;32m/project/cas02/islas/miniconda3/envs/islaenv/lib/python3.7/site-packages/xarray/core/dataset.py\u001b[0m in \u001b[0;36m_validate_indexers\u001b[0;34m(self, indexers, missing_dims)\u001b[0m\n\u001b[1;32m   2206\u001b[0m         \u001b[0;32mfrom\u001b[0m \u001b[0;34m.\u001b[0m\u001b[0mdataarray\u001b[0m \u001b[0;32mimport\u001b[0m \u001b[0mDataArray\u001b[0m\u001b[0;34m\u001b[0m\u001b[0;34m\u001b[0m\u001b[0m\n\u001b[1;32m   2207\u001b[0m \u001b[0;34m\u001b[0m\u001b[0m\n\u001b[0;32m-> 2208\u001b[0;31m         \u001b[0mindexers\u001b[0m \u001b[0;34m=\u001b[0m \u001b[0mdrop_dims_from_indexers\u001b[0m\u001b[0;34m(\u001b[0m\u001b[0mindexers\u001b[0m\u001b[0;34m,\u001b[0m \u001b[0mself\u001b[0m\u001b[0;34m.\u001b[0m\u001b[0mdims\u001b[0m\u001b[0;34m,\u001b[0m \u001b[0mmissing_dims\u001b[0m\u001b[0;34m)\u001b[0m\u001b[0;34m\u001b[0m\u001b[0;34m\u001b[0m\u001b[0m\n\u001b[0m\u001b[1;32m   2209\u001b[0m \u001b[0;34m\u001b[0m\u001b[0m\n\u001b[1;32m   2210\u001b[0m         \u001b[0;31m# all indexers should be int, slice, np.ndarrays, or Variable\u001b[0m\u001b[0;34m\u001b[0m\u001b[0;34m\u001b[0m\u001b[0;34m\u001b[0m\u001b[0m\n",
      "\u001b[0;32m/project/cas02/islas/miniconda3/envs/islaenv/lib/python3.7/site-packages/xarray/core/utils.py\u001b[0m in \u001b[0;36mdrop_dims_from_indexers\u001b[0;34m(indexers, dims, missing_dims)\u001b[0m\n\u001b[1;32m    833\u001b[0m         \u001b[0;32mif\u001b[0m \u001b[0minvalid\u001b[0m\u001b[0;34m:\u001b[0m\u001b[0;34m\u001b[0m\u001b[0;34m\u001b[0m\u001b[0m\n\u001b[1;32m    834\u001b[0m             raise ValueError(\n\u001b[0;32m--> 835\u001b[0;31m                 \u001b[0;34mf\"Dimensions {invalid} do not exist. Expected one or more of {dims}\"\u001b[0m\u001b[0;34m\u001b[0m\u001b[0;34m\u001b[0m\u001b[0m\n\u001b[0m\u001b[1;32m    836\u001b[0m             )\n\u001b[1;32m    837\u001b[0m \u001b[0;34m\u001b[0m\u001b[0m\n",
      "\u001b[0;31mValueError\u001b[0m: Dimensions {'TMP', 'DEW', 'DATE'} do not exist. Expected one or more of Frozen({'time': 14976})"
     ]
    }
   ],
   "source": [
    "test = datdaily[nperday > 18]"
   ]
  },
  {
   "cell_type": "code",
   "execution_count": 33,
   "id": "64bbc1d6-4c06-452b-bb32-fba11aeb9266",
   "metadata": {},
   "outputs": [
    {
     "name": "stdout",
     "output_type": "stream",
     "text": [
      "<xarray.Dataset>\n",
      "Dimensions:  (time: 14976)\n",
      "Coordinates:\n",
      "  * time     (time) object '1980-01-01' '1980-01-02' ... '2020-12-31'\n",
      "Data variables:\n",
      "    TMP      (time) float64 12.45 10.87 8.808 6.475 ... 10.64 9.566 4.739 14.74\n",
      "    DEW      (time) float64 10.3 7.979 5.817 4.462 ... 4.691 2.785 -2.361 0.6\n"
     ]
    }
   ],
   "source": [
    "print(datdaily)"
   ]
  },
  {
   "cell_type": "code",
   "execution_count": 27,
   "id": "c50e9f84-a5a1-46e2-b816-770fc745e30b",
   "metadata": {},
   "outputs": [],
   "source": [
    "daystr = xr.DataArray(dathourly.indexes['time'].strftime('%Y-%m-%d'), coords=dathourly.time.coords, name='daystr')\n",
    "test = dathourly.groupby(daystr).mean('time')"
   ]
  },
  {
   "cell_type": "code",
   "execution_count": 31,
   "id": "b3838a20-90be-4702-a70c-365ee502343c",
   "metadata": {},
   "outputs": [
    {
     "name": "stdout",
     "output_type": "stream",
     "text": [
      "<xarray.Dataset>\n",
      "Dimensions:  (time: 14976)\n",
      "Coordinates:\n",
      "  * time     (time) object '1980-01-01' '1980-01-02' ... '2020-12-31'\n",
      "Data variables:\n",
      "    TMP      (time) float64 12.45 10.87 8.808 6.475 ... 10.64 9.566 4.739 14.74\n",
      "    DEW      (time) float64 10.3 7.979 5.817 4.462 ... 4.691 2.785 -2.361 0.6\n"
     ]
    }
   ],
   "source": [
    "print(test.rename({'daystr':'time'}))"
   ]
  },
  {
   "cell_type": "code",
   "execution_count": 19,
   "id": "149c1bb5-0343-4096-93f0-309c1a4a57f0",
   "metadata": {},
   "outputs": [
    {
     "name": "stdout",
     "output_type": "stream",
     "text": [
      "<xarray.Dataset>\n",
      "Dimensions:  (time: 359401)\n",
      "Coordinates:\n",
      "  * time     (time) datetime64[ns] 1980-01-01 1980-01-01T01:00:00 ... 2020-12-31\n",
      "Data variables:\n",
      "    TMP      (time) float64 15.6 14.4 12.8 12.8 11.1 ... 13.37 14.4 14.44 14.74\n",
      "    DEW      (time) float64 12.2 11.7 10.6 10.6 9.4 ... 0.6 0.6333 1.1 1.067 0.6\n"
     ]
    }
   ],
   "source": [
    "print(dathourly)"
   ]
  },
  {
   "cell_type": "code",
   "execution_count": 22,
   "id": "4aba856e-29f0-4ec7-a3fe-68ade7a7cdd2",
   "metadata": {},
   "outputs": [],
   "source": [
    "test = dathourly.groupby('time.day').mean('time') "
   ]
  },
  {
   "cell_type": "code",
   "execution_count": 23,
   "id": "0e30aa1e-0370-4edb-8431-e7cd00a0ce87",
   "metadata": {},
   "outputs": [
    {
     "name": "stdout",
     "output_type": "stream",
     "text": [
      "<xarray.Dataset>\n",
      "Dimensions:  (day: 31)\n",
      "Coordinates:\n",
      "  * day      (day) int64 1 2 3 4 5 6 7 8 9 10 ... 22 23 24 25 26 27 28 29 30 31\n",
      "Data variables:\n",
      "    TMP      (day) float64 17.83 17.89 17.89 17.89 ... 17.83 18.22 18.23 17.69\n",
      "    DEW      (day) float64 6.81 6.805 6.869 6.801 6.85 ... 6.943 6.89 6.878 7.12\n"
     ]
    }
   ],
   "source": [
    "print(test)"
   ]
  },
  {
   "cell_type": "code",
   "execution_count": 291,
   "id": "75ffd46d-9229-426d-87a1-48f85149b969",
   "metadata": {},
   "outputs": [
    {
     "ename": "SystemExit",
     "evalue": "",
     "output_type": "error",
     "traceback": [
      "An exception has occurred, use %tb to see the full traceback.\n",
      "\u001b[0;31mSystemExit\u001b[0m\n"
     ]
    },
    {
     "name": "stderr",
     "output_type": "stream",
     "text": [
      "/project/cas02/islas/miniconda3/envs/islaenv/lib/python3.7/site-packages/IPython/core/interactiveshell.py:3532: UserWarning: To exit: use 'exit', 'quit', or Ctrl-D.\n",
      "  warn(\"To exit: use 'exit', 'quit', or Ctrl-D.\", stacklevel=1)\n"
     ]
    }
   ],
   "source": [
    "#---Interpolate to hourly\n",
    "dat = alldat['TMP'].dropna()\n",
    "\n",
    "dathourly=[]\n",
    "timenew = pd.date_range(str(ystart)+\"-01-01\",str(yend)+\"-12-31\", freq='H')\n",
    "for varname in ('TMP','DEW'):\n",
    "    dat = alldat[varname].dropna()\n",
    "    datinterp = np.interp(timenew, dat.index, dat)\n",
    "    datinterp_xr = xr.DataArray(datinterp, coords=[timenew], dims='time', name=varname)\n",
    "    dathourly.append(datinterp_xr)\n",
    "        \n",
    "    sys.exit()\n",
    "        \n",
    "dathourly = xr.merge(dathourly)"
   ]
  },
  {
   "cell_type": "code",
   "execution_count": 302,
   "id": "a47558c0-5577-443b-b125-0804cfcd0050",
   "metadata": {},
   "outputs": [
    {
     "name": "stdout",
     "output_type": "stream",
     "text": [
      "                                    DATE   TMP  DEW\n",
      "2013-01-01 00:00:00  2013-01-01T00:00:00   8.3 -5.6\n",
      "2013-01-01 00:51:00  2013-01-01T00:51:00   5.6 -3.9\n",
      "2013-01-01 01:51:00  2013-01-01T01:51:00   2.8 -4.4\n",
      "2013-01-01 02:51:00  2013-01-01T02:51:00   1.7 -4.4\n",
      "2013-01-01 03:51:00  2013-01-01T03:51:00   1.1 -4.4\n",
      "...                                  ...   ...  ...\n",
      "2011-12-31 20:51:00  2011-12-31T20:51:00  17.2  6.1\n",
      "2011-12-31 21:51:00  2011-12-31T21:51:00  16.7  5.6\n",
      "2011-12-31 22:51:00  2011-12-31T22:51:00  16.1  7.2\n",
      "2011-12-31 23:16:00  2011-12-31T23:16:00  18.0  1.0\n",
      "2011-12-31 23:51:00  2011-12-31T23:51:00  16.1 -0.6\n",
      "\n",
      "[22987 rows x 3 columns]\n"
     ]
    }
   ],
   "source": [
    "print(alldat)"
   ]
  },
  {
   "cell_type": "code",
   "execution_count": 285,
   "id": "eecca68c-82b7-4c83-af15-a5de12e285be",
   "metadata": {},
   "outputs": [
    {
     "name": "stdout",
     "output_type": "stream",
     "text": [
      "[8.3 8.3 8.3 8.3 8.3 8.3 8.3 8.3 8.3 8.3 8.3 8.3 8.3 8.3 8.3 8.3 8.3 8.3\n",
      " 8.3 8.3 8.3 8.3 8.3 8.3]\n"
     ]
    }
   ],
   "source": [
    "print(datinterp[0:24])"
   ]
  },
  {
   "cell_type": "code",
   "execution_count": 18,
   "id": "47e1798c-ff25-4ac5-87f5-806f969217e2",
   "metadata": {},
   "outputs": [
    {
     "data": {
      "text/plain": [
       "[<matplotlib.lines.Line2D at 0x7f420f042f50>]"
      ]
     },
     "execution_count": 18,
     "metadata": {},
     "output_type": "execute_result"
    },
    {
     "data": {
      "image/png": "[encoded data removed]",
      "text/plain": [
       "<Figure size 1152x1152 with 1 Axes>"
      ]
     },
     "metadata": {
      "needs_background": "light"
     },
     "output_type": "display_data"
    }
   ],
   "source": [
    "fig = plt.figure(figsize=(16,16))\n",
    "\n",
    "test = alldat['2013-01-01':'2013-01-05']\n",
    "test_xr = dathourly.sel(time=slice(\"2013-01-01\",\"2013-01-05\"))\n",
    "ax = fig.add_axes([0.05,0.7,0.9,0.2])\n",
    "\n",
    "#ax.plot(test)\n",
    "ax.plot(test['TMP'])\n",
    "ax.plot(test_xr.time, test_xr.TMP)"
   ]
  },
  {
   "cell_type": "code",
   "execution_count": 264,
   "id": "1e449ede-cf22-4708-b8a0-e200464ae213",
   "metadata": {},
   "outputs": [
    {
     "data": {
      "text/plain": [
       "[<matplotlib.lines.Line2D at 0x7f097d123410>]"
      ]
     },
     "execution_count": 264,
     "metadata": {},
     "output_type": "execute_result"
    },
    {
     "data": {
      "image/png": "[encoded data removed]",
      "text/plain": [
       "<Figure size 432x288 with 1 Axes>"
      ]
     },
     "metadata": {
      "needs_background": "light"
     },
     "output_type": "display_data"
    }
   ],
   "source": [
    "plt.plot(test_xr.TMP)"
   ]
  },
  {
   "cell_type": "code",
   "execution_count": 178,
   "id": "7d9c19e9-91d1-4240-ba64-b0e57ad6d233",
   "metadata": {},
   "outputs": [],
   "source": [
    "test = alldat.duplicated(keep='first')"
   ]
  },
  {
   "cell_type": "code",
   "execution_count": 193,
   "id": "55c752fa-afec-4f82-98ab-7334f2ae17d2",
   "metadata": {},
   "outputs": [
    {
     "name": "stdout",
     "output_type": "stream",
     "text": [
      "423514\n"
     ]
    }
   ],
   "source": [
    "print(len(test))"
   ]
  },
  {
   "cell_type": "code",
   "execution_count": 201,
   "id": "d4671b7b-2722-4032-b622-b3c19d2619f8",
   "metadata": {},
   "outputs": [],
   "source": [
    "dt = [datetime.strptime(d, '%Y-%m-%dT%H:%M:%S') for d in alldat['DATE']]\n",
    "alldat.index = dt"
   ]
  },
  {
   "cell_type": "code",
   "execution_count": 212,
   "id": "d6926461-e870-4c2b-a7fe-4b4bf5e90a23",
   "metadata": {},
   "outputs": [
    {
     "ename": "KeyError",
     "evalue": "'1991-06-06'",
     "output_type": "error",
     "traceback": [
      "\u001b[0;31m---------------------------------------------------------------------------\u001b[0m",
      "\u001b[0;31mKeyError\u001b[0m                                  Traceback (most recent call last)",
      "\u001b[0;32m/project/cas02/islas/miniconda3/envs/islaenv/lib/python3.7/site-packages/pandas/core/indexes/base.py\u001b[0m in \u001b[0;36mget_loc\u001b[0;34m(self, key, method, tolerance)\u001b[0m\n\u001b[1;32m   3360\u001b[0m             \u001b[0;32mtry\u001b[0m\u001b[0;34m:\u001b[0m\u001b[0;34m\u001b[0m\u001b[0;34m\u001b[0m\u001b[0m\n\u001b[0;32m-> 3361\u001b[0;31m                 \u001b[0;32mreturn\u001b[0m \u001b[0mself\u001b[0m\u001b[0;34m.\u001b[0m\u001b[0m_engine\u001b[0m\u001b[0;34m.\u001b[0m\u001b[0mget_loc\u001b[0m\u001b[0;34m(\u001b[0m\u001b[0mcasted_key\u001b[0m\u001b[0;34m)\u001b[0m\u001b[0;34m\u001b[0m\u001b[0;34m\u001b[0m\u001b[0m\n\u001b[0m\u001b[1;32m   3362\u001b[0m             \u001b[0;32mexcept\u001b[0m \u001b[0mKeyError\u001b[0m \u001b[0;32mas\u001b[0m \u001b[0merr\u001b[0m\u001b[0;34m:\u001b[0m\u001b[0;34m\u001b[0m\u001b[0;34m\u001b[0m\u001b[0m\n",
      "\u001b[0;32m/project/cas02/islas/miniconda3/envs/islaenv/lib/python3.7/site-packages/pandas/_libs/index.pyx\u001b[0m in \u001b[0;36mpandas._libs.index.IndexEngine.get_loc\u001b[0;34m()\u001b[0m\n",
      "\u001b[0;32m/project/cas02/islas/miniconda3/envs/islaenv/lib/python3.7/site-packages/pandas/_libs/index.pyx\u001b[0m in \u001b[0;36mpandas._libs.index.IndexEngine.get_loc\u001b[0;34m()\u001b[0m\n",
      "\u001b[0;32mpandas/_libs/hashtable_class_helper.pxi\u001b[0m in \u001b[0;36mpandas._libs.hashtable.PyObjectHashTable.get_item\u001b[0;34m()\u001b[0m\n",
      "\u001b[0;32mpandas/_libs/hashtable_class_helper.pxi\u001b[0m in \u001b[0;36mpandas._libs.hashtable.PyObjectHashTable.get_item\u001b[0;34m()\u001b[0m\n",
      "\u001b[0;31mKeyError\u001b[0m: '1991-06-06'",
      "\nThe above exception was the direct cause of the following exception:\n",
      "\u001b[0;31mKeyError\u001b[0m                                  Traceback (most recent call last)",
      "\u001b[0;32m/tmp/ipykernel_13292/200739122.py\u001b[0m in \u001b[0;36m<module>\u001b[0;34m\u001b[0m\n\u001b[0;32m----> 1\u001b[0;31m \u001b[0mprint\u001b[0m\u001b[0;34m(\u001b[0m\u001b[0malldat\u001b[0m\u001b[0;34m[\u001b[0m\u001b[0;34m'1991-06-06'\u001b[0m\u001b[0;34m]\u001b[0m\u001b[0;34m)\u001b[0m\u001b[0;34m\u001b[0m\u001b[0;34m\u001b[0m\u001b[0m\n\u001b[0m",
      "\u001b[0;32m/project/cas02/islas/miniconda3/envs/islaenv/lib/python3.7/site-packages/pandas/core/frame.py\u001b[0m in \u001b[0;36m__getitem__\u001b[0;34m(self, key)\u001b[0m\n\u001b[1;32m   3456\u001b[0m             \u001b[0;32mif\u001b[0m \u001b[0mself\u001b[0m\u001b[0;34m.\u001b[0m\u001b[0mcolumns\u001b[0m\u001b[0;34m.\u001b[0m\u001b[0mnlevels\u001b[0m \u001b[0;34m>\u001b[0m \u001b[0;36m1\u001b[0m\u001b[0;34m:\u001b[0m\u001b[0;34m\u001b[0m\u001b[0;34m\u001b[0m\u001b[0m\n\u001b[1;32m   3457\u001b[0m                 \u001b[0;32mreturn\u001b[0m \u001b[0mself\u001b[0m\u001b[0;34m.\u001b[0m\u001b[0m_getitem_multilevel\u001b[0m\u001b[0;34m(\u001b[0m\u001b[0mkey\u001b[0m\u001b[0;34m)\u001b[0m\u001b[0;34m\u001b[0m\u001b[0;34m\u001b[0m\u001b[0m\n\u001b[0;32m-> 3458\u001b[0;31m             \u001b[0mindexer\u001b[0m \u001b[0;34m=\u001b[0m \u001b[0mself\u001b[0m\u001b[0;34m.\u001b[0m\u001b[0mcolumns\u001b[0m\u001b[0;34m.\u001b[0m\u001b[0mget_loc\u001b[0m\u001b[0;34m(\u001b[0m\u001b[0mkey\u001b[0m\u001b[0;34m)\u001b[0m\u001b[0;34m\u001b[0m\u001b[0;34m\u001b[0m\u001b[0m\n\u001b[0m\u001b[1;32m   3459\u001b[0m             \u001b[0;32mif\u001b[0m \u001b[0mis_integer\u001b[0m\u001b[0;34m(\u001b[0m\u001b[0mindexer\u001b[0m\u001b[0;34m)\u001b[0m\u001b[0;34m:\u001b[0m\u001b[0;34m\u001b[0m\u001b[0;34m\u001b[0m\u001b[0m\n\u001b[1;32m   3460\u001b[0m                 \u001b[0mindexer\u001b[0m \u001b[0;34m=\u001b[0m \u001b[0;34m[\u001b[0m\u001b[0mindexer\u001b[0m\u001b[0;34m]\u001b[0m\u001b[0;34m\u001b[0m\u001b[0;34m\u001b[0m\u001b[0m\n",
      "\u001b[0;32m/project/cas02/islas/miniconda3/envs/islaenv/lib/python3.7/site-packages/pandas/core/indexes/base.py\u001b[0m in \u001b[0;36mget_loc\u001b[0;34m(self, key, method, tolerance)\u001b[0m\n\u001b[1;32m   3361\u001b[0m                 \u001b[0;32mreturn\u001b[0m \u001b[0mself\u001b[0m\u001b[0;34m.\u001b[0m\u001b[0m_engine\u001b[0m\u001b[0;34m.\u001b[0m\u001b[0mget_loc\u001b[0m\u001b[0;34m(\u001b[0m\u001b[0mcasted_key\u001b[0m\u001b[0;34m)\u001b[0m\u001b[0;34m\u001b[0m\u001b[0;34m\u001b[0m\u001b[0m\n\u001b[1;32m   3362\u001b[0m             \u001b[0;32mexcept\u001b[0m \u001b[0mKeyError\u001b[0m \u001b[0;32mas\u001b[0m \u001b[0merr\u001b[0m\u001b[0;34m:\u001b[0m\u001b[0;34m\u001b[0m\u001b[0;34m\u001b[0m\u001b[0m\n\u001b[0;32m-> 3363\u001b[0;31m                 \u001b[0;32mraise\u001b[0m \u001b[0mKeyError\u001b[0m\u001b[0;34m(\u001b[0m\u001b[0mkey\u001b[0m\u001b[0;34m)\u001b[0m \u001b[0;32mfrom\u001b[0m \u001b[0merr\u001b[0m\u001b[0;34m\u001b[0m\u001b[0;34m\u001b[0m\u001b[0m\n\u001b[0m\u001b[1;32m   3364\u001b[0m \u001b[0;34m\u001b[0m\u001b[0m\n\u001b[1;32m   3365\u001b[0m         \u001b[0;32mif\u001b[0m \u001b[0mis_scalar\u001b[0m\u001b[0;34m(\u001b[0m\u001b[0mkey\u001b[0m\u001b[0;34m)\u001b[0m \u001b[0;32mand\u001b[0m \u001b[0misna\u001b[0m\u001b[0;34m(\u001b[0m\u001b[0mkey\u001b[0m\u001b[0;34m)\u001b[0m \u001b[0;32mand\u001b[0m \u001b[0;32mnot\u001b[0m \u001b[0mself\u001b[0m\u001b[0;34m.\u001b[0m\u001b[0mhasnans\u001b[0m\u001b[0;34m:\u001b[0m\u001b[0;34m\u001b[0m\u001b[0;34m\u001b[0m\u001b[0m\n",
      "\u001b[0;31mKeyError\u001b[0m: '1991-06-06'"
     ]
    }
   ],
   "source": [
    "print(alldat['1991-06-06'])"
   ]
  },
  {
   "cell_type": "code",
   "execution_count": 203,
   "id": "1f78316b-e500-4576-82b0-efd30292f6b6",
   "metadata": {},
   "outputs": [
    {
     "name": "stderr",
     "output_type": "stream",
     "text": [
      "/project/cas02/islas/miniconda3/envs/islaenv/lib/python3.7/site-packages/ipykernel_launcher.py:1: FutureWarning: Indexing a DataFrame with a datetimelike index using a single string to slice the rows, like `frame[string]`, is deprecated and will be removed in a future version. Use `frame.loc[string]` instead.\n",
      "  \"\"\"Entry point for launching an IPython kernel.\n"
     ]
    }
   ],
   "source": [
    "testdat=alldat[\"1991-06-06\"]"
   ]
  },
  {
   "cell_type": "code",
   "execution_count": 204,
   "id": "49c0bdc1-b3a7-46dd-bc47-ad78a2776664",
   "metadata": {},
   "outputs": [
    {
     "name": "stdout",
     "output_type": "stream",
     "text": [
      "                                    DATE   TMP   DEW\n",
      "1991-06-06 00:00:00  1991-06-06T00:00:00  28.9   8.3\n",
      "1991-06-06 01:00:00  1991-06-06T01:00:00  28.3   8.9\n",
      "1991-06-06 02:00:00  1991-06-06T02:00:00  26.7   9.4\n",
      "1991-06-06 03:00:00  1991-06-06T03:00:00  24.4  10.0\n",
      "1991-06-06 04:00:00  1991-06-06T04:00:00  21.7  12.8\n",
      "1991-06-06 05:00:00  1991-06-06T05:00:00  20.6  12.8\n",
      "1991-06-06 06:00:00  1991-06-06T06:00:00  19.4  12.8\n",
      "1991-06-06 07:00:00  1991-06-06T07:00:00  18.9  12.2\n",
      "1991-06-06 08:00:00  1991-06-06T08:00:00  18.3  11.7\n",
      "1991-06-06 09:00:00  1991-06-06T09:00:00  17.8  11.7\n",
      "1991-06-06 10:00:00  1991-06-06T10:00:00  17.2  11.7\n",
      "1991-06-06 11:00:00  1991-06-06T11:00:00  16.1  11.7\n",
      "1991-06-06 12:00:00  1991-06-06T12:00:00  16.1  11.7\n",
      "1991-06-06 12:15:00  1991-06-06T12:15:00   NaN   NaN\n",
      "1991-06-06 13:00:00  1991-06-06T13:00:00  16.7  12.8\n",
      "1991-06-06 14:00:00  1991-06-06T14:00:00  18.3  13.3\n",
      "1991-06-06 15:00:00  1991-06-06T15:00:00  20.0  13.9\n",
      "1991-06-06 16:00:00  1991-06-06T16:00:00  21.1  14.4\n",
      "1991-06-06 17:00:00  1991-06-06T17:00:00  23.9  14.4\n",
      "1991-06-06 18:00:00  1991-06-06T18:00:00  26.1  13.9\n",
      "1991-06-06 19:00:00  1991-06-06T19:00:00  26.1  15.0\n",
      "1991-06-06 20:00:00  1991-06-06T20:00:00  28.3  14.4\n",
      "1991-06-06 20:37:00  1991-06-06T20:37:00   NaN   NaN\n",
      "1991-06-06 21:00:00  1991-06-06T21:00:00  28.3  13.3\n",
      "1991-06-06 21:37:00  1991-06-06T21:37:00   NaN   NaN\n",
      "1991-06-06 21:41:00  1991-06-06T21:41:00   NaN   NaN\n",
      "1991-06-06 22:00:00  1991-06-06T22:00:00   NaN  15.0\n",
      "1991-06-06 22:00:00  1991-06-06T22:00:00   NaN   NaN\n",
      "1991-06-06 23:00:00  1991-06-06T23:00:00  20.0  13.3\n",
      "1991-06-06 23:12:00  1991-06-06T23:12:00   NaN   NaN\n"
     ]
    }
   ],
   "source": [
    "print(testdat)"
   ]
  },
  {
   "cell_type": "code",
   "execution_count": 207,
   "id": "073760a8-2923-4aaf-a169-0c4657815cc7",
   "metadata": {},
   "outputs": [],
   "source": [
    "testdup = testdat.index.duplicated(keep='first')"
   ]
  },
  {
   "cell_type": "code",
   "execution_count": 208,
   "id": "9da0f36e-d4ae-480d-8c91-eac2f11dda06",
   "metadata": {},
   "outputs": [
    {
     "name": "stdout",
     "output_type": "stream",
     "text": [
      "[False False False False False False False False False False False False\n",
      " False False False False False False False False False False False False\n",
      " False False False  True False False]\n"
     ]
    }
   ],
   "source": [
    "print(testdup)"
   ]
  },
  {
   "cell_type": "code",
   "execution_count": 209,
   "id": "f515bda4-1021-46c6-a046-156471cbd8a2",
   "metadata": {},
   "outputs": [],
   "source": [
    "dropdup = testdat[~testdup]"
   ]
  },
  {
   "cell_type": "code",
   "execution_count": 210,
   "id": "2ada8301-6bc2-4c38-ac93-1c2dde934fb4",
   "metadata": {},
   "outputs": [
    {
     "name": "stdout",
     "output_type": "stream",
     "text": [
      "                                    DATE   TMP   DEW\n",
      "1991-06-06 00:00:00  1991-06-06T00:00:00  28.9   8.3\n",
      "1991-06-06 01:00:00  1991-06-06T01:00:00  28.3   8.9\n",
      "1991-06-06 02:00:00  1991-06-06T02:00:00  26.7   9.4\n",
      "1991-06-06 03:00:00  1991-06-06T03:00:00  24.4  10.0\n",
      "1991-06-06 04:00:00  1991-06-06T04:00:00  21.7  12.8\n",
      "1991-06-06 05:00:00  1991-06-06T05:00:00  20.6  12.8\n",
      "1991-06-06 06:00:00  1991-06-06T06:00:00  19.4  12.8\n",
      "1991-06-06 07:00:00  1991-06-06T07:00:00  18.9  12.2\n",
      "1991-06-06 08:00:00  1991-06-06T08:00:00  18.3  11.7\n",
      "1991-06-06 09:00:00  1991-06-06T09:00:00  17.8  11.7\n",
      "1991-06-06 10:00:00  1991-06-06T10:00:00  17.2  11.7\n",
      "1991-06-06 11:00:00  1991-06-06T11:00:00  16.1  11.7\n",
      "1991-06-06 12:00:00  1991-06-06T12:00:00  16.1  11.7\n",
      "1991-06-06 12:15:00  1991-06-06T12:15:00   NaN   NaN\n",
      "1991-06-06 13:00:00  1991-06-06T13:00:00  16.7  12.8\n",
      "1991-06-06 14:00:00  1991-06-06T14:00:00  18.3  13.3\n",
      "1991-06-06 15:00:00  1991-06-06T15:00:00  20.0  13.9\n",
      "1991-06-06 16:00:00  1991-06-06T16:00:00  21.1  14.4\n",
      "1991-06-06 17:00:00  1991-06-06T17:00:00  23.9  14.4\n",
      "1991-06-06 18:00:00  1991-06-06T18:00:00  26.1  13.9\n",
      "1991-06-06 19:00:00  1991-06-06T19:00:00  26.1  15.0\n",
      "1991-06-06 20:00:00  1991-06-06T20:00:00  28.3  14.4\n",
      "1991-06-06 20:37:00  1991-06-06T20:37:00   NaN   NaN\n",
      "1991-06-06 21:00:00  1991-06-06T21:00:00  28.3  13.3\n",
      "1991-06-06 21:37:00  1991-06-06T21:37:00   NaN   NaN\n",
      "1991-06-06 21:41:00  1991-06-06T21:41:00   NaN   NaN\n",
      "1991-06-06 22:00:00  1991-06-06T22:00:00   NaN  15.0\n",
      "1991-06-06 23:00:00  1991-06-06T23:00:00  20.0  13.3\n",
      "1991-06-06 23:12:00  1991-06-06T23:12:00   NaN   NaN\n"
     ]
    }
   ],
   "source": [
    "print(dropdup)"
   ]
  },
  {
   "cell_type": "code",
   "execution_count": 202,
   "id": "d1b9967c-2f9a-4444-afa5-d148490f6d54",
   "metadata": {},
   "outputs": [
    {
     "name": "stdout",
     "output_type": "stream",
     "text": [
      "                                    DATE   TMP   DEW\n",
      "1991-06-06 00:00:00  1991-06-06T00:00:00  28.9   8.3\n",
      "1991-06-06 01:00:00  1991-06-06T01:00:00  28.3   8.9\n",
      "1991-06-06 02:00:00  1991-06-06T02:00:00  26.7   9.4\n",
      "1991-06-06 03:00:00  1991-06-06T03:00:00  24.4  10.0\n",
      "1991-06-06 04:00:00  1991-06-06T04:00:00  21.7  12.8\n",
      "1991-06-06 05:00:00  1991-06-06T05:00:00  20.6  12.8\n",
      "1991-06-06 06:00:00  1991-06-06T06:00:00  19.4  12.8\n",
      "1991-06-06 07:00:00  1991-06-06T07:00:00  18.9  12.2\n",
      "1991-06-06 08:00:00  1991-06-06T08:00:00  18.3  11.7\n",
      "1991-06-06 09:00:00  1991-06-06T09:00:00  17.8  11.7\n",
      "1991-06-06 10:00:00  1991-06-06T10:00:00  17.2  11.7\n",
      "1991-06-06 11:00:00  1991-06-06T11:00:00  16.1  11.7\n",
      "1991-06-06 12:00:00  1991-06-06T12:00:00  16.1  11.7\n",
      "1991-06-06 12:15:00  1991-06-06T12:15:00   NaN   NaN\n",
      "1991-06-06 13:00:00  1991-06-06T13:00:00  16.7  12.8\n",
      "1991-06-06 14:00:00  1991-06-06T14:00:00  18.3  13.3\n",
      "1991-06-06 15:00:00  1991-06-06T15:00:00  20.0  13.9\n",
      "1991-06-06 16:00:00  1991-06-06T16:00:00  21.1  14.4\n",
      "1991-06-06 17:00:00  1991-06-06T17:00:00  23.9  14.4\n",
      "1991-06-06 18:00:00  1991-06-06T18:00:00  26.1  13.9\n",
      "1991-06-06 19:00:00  1991-06-06T19:00:00  26.1  15.0\n",
      "1991-06-06 20:00:00  1991-06-06T20:00:00  28.3  14.4\n",
      "1991-06-06 20:37:00  1991-06-06T20:37:00   NaN   NaN\n",
      "1991-06-06 21:00:00  1991-06-06T21:00:00  28.3  13.3\n",
      "1991-06-06 21:37:00  1991-06-06T21:37:00   NaN   NaN\n",
      "1991-06-06 21:41:00  1991-06-06T21:41:00   NaN   NaN\n",
      "1991-06-06 22:00:00  1991-06-06T22:00:00   NaN  15.0\n",
      "1991-06-06 22:00:00  1991-06-06T22:00:00   NaN   NaN\n",
      "1991-06-06 23:00:00  1991-06-06T23:00:00  20.0  13.3\n",
      "1991-06-06 23:12:00  1991-06-06T23:12:00   NaN   NaN\n"
     ]
    },
    {
     "name": "stderr",
     "output_type": "stream",
     "text": [
      "/project/cas02/islas/miniconda3/envs/islaenv/lib/python3.7/site-packages/ipykernel_launcher.py:1: FutureWarning: Indexing a DataFrame with a datetimelike index using a single string to slice the rows, like `frame[string]`, is deprecated and will be removed in a future version. Use `frame.loc[string]` instead.\n",
      "  \"\"\"Entry point for launching an IPython kernel.\n"
     ]
    }
   ],
   "source": [
    "print(alldat[\"1991-06-06\"])"
   ]
  },
  {
   "cell_type": "code",
   "execution_count": 184,
   "id": "b8f4c6bd-5bae-4803-8768-c7524d063de7",
   "metadata": {},
   "outputs": [
    {
     "name": "stdout",
     "output_type": "stream",
     "text": [
      "                                    DATE   TMP  DEW\n",
      "1996-11-01 00:53:00  1996-11-01T00:53:00  15.0  7.8\n",
      "1996-11-01 01:53:00  1996-11-01T01:53:00  11.7  8.3\n",
      "1996-11-01 02:53:00  1996-11-01T02:53:00   9.4  7.2\n",
      "1996-11-01 03:41:00  1996-11-01T03:41:00   8.0  7.0\n",
      "1996-11-01 03:53:00  1996-11-01T03:53:00   8.3  6.7\n",
      "1996-11-01 04:19:00  1996-11-01T04:19:00   8.0  6.0\n",
      "1996-11-01 04:53:00  1996-11-01T04:53:00   7.2  5.6\n",
      "1996-11-01 05:53:00  1996-11-01T05:53:00   7.2  5.0\n",
      "1996-11-01 06:53:00  1996-11-01T06:53:00   6.1  3.9\n",
      "1996-11-01 06:59:00  1996-11-01T06:59:00   NaN  NaN\n",
      "1996-11-01 07:53:00  1996-11-01T07:53:00   5.6  3.3\n",
      "1996-11-01 09:00:00  1996-11-01T09:00:00   5.0  2.8\n",
      "1996-11-01 09:53:00  1996-11-01T09:53:00   5.0  2.2\n",
      "1996-11-01 10:53:00  1996-11-01T10:53:00   5.6  2.2\n",
      "1996-11-01 11:53:00  1996-11-01T11:53:00   5.0  1.7\n",
      "1996-11-01 12:53:00  1996-11-01T12:53:00   5.0  1.7\n",
      "1996-11-01 13:02:00  1996-11-01T13:02:00   5.0  2.0\n",
      "1996-11-01 13:53:00  1996-11-01T13:53:00   4.4  1.7\n",
      "1996-11-01 14:53:00  1996-11-01T14:53:00   5.6  2.2\n",
      "1996-11-01 15:53:00  1996-11-01T15:53:00   7.2  2.2\n",
      "1996-11-01 16:41:00  1996-11-01T16:41:00   8.0  2.0\n",
      "1996-11-01 16:53:00  1996-11-01T16:53:00   8.9  2.2\n",
      "1996-11-01 17:53:00  1996-11-01T17:53:00  10.0  2.2\n",
      "1996-11-01 18:53:00  1996-11-01T18:53:00  11.7  2.2\n",
      "1996-11-01 19:53:00  1996-11-01T19:53:00  13.9  1.7\n",
      "1996-11-01 20:53:00  1996-11-01T20:53:00  15.6  1.1\n",
      "1996-11-01 21:53:00  1996-11-01T21:53:00  16.1  0.6\n",
      "1996-11-01 22:53:00  1996-11-01T22:53:00  16.7 -1.7\n",
      "1996-11-01 23:53:00  1996-11-01T23:53:00  14.4  0.6\n"
     ]
    },
    {
     "name": "stderr",
     "output_type": "stream",
     "text": [
      "/project/cas02/islas/miniconda3/envs/islaenv/lib/python3.7/site-packages/ipykernel_launcher.py:1: FutureWarning: Indexing a DataFrame with a datetimelike index using a single string to slice the rows, like `frame[string]`, is deprecated and will be removed in a future version. Use `frame.loc[string]` instead.\n",
      "  \"\"\"Entry point for launching an IPython kernel.\n"
     ]
    }
   ],
   "source": [
    "print(alldat[\"1996-11-01\"])"
   ]
  },
  {
   "cell_type": "code",
   "execution_count": 172,
   "id": "47600a25-e79d-4ce0-b9fb-e299c5d27b1d",
   "metadata": {},
   "outputs": [
    {
     "name": "stdout",
     "output_type": "stream",
     "text": [
      "                                    DATE   TMP  DEW\n",
      "1996-11-01 00:53:00  1996-11-01T00:53:00  15.0  7.8\n",
      "1996-11-01 01:53:00  1996-11-01T01:53:00  11.7  8.3\n",
      "1996-11-01 02:53:00  1996-11-01T02:53:00   9.4  7.2\n",
      "1996-11-01 03:41:00  1996-11-01T03:41:00   8.0  7.0\n",
      "1996-11-01 03:53:00  1996-11-01T03:53:00   8.3  6.7\n",
      "1996-11-01 04:19:00  1996-11-01T04:19:00   8.0  6.0\n",
      "1996-11-01 04:53:00  1996-11-01T04:53:00   7.2  5.6\n",
      "1996-11-01 05:53:00  1996-11-01T05:53:00   7.2  5.0\n",
      "1996-11-01 06:53:00  1996-11-01T06:53:00   6.1  3.9\n",
      "1996-11-01 06:59:00  1996-11-01T06:59:00   NaN  NaN\n",
      "1996-11-01 06:59:00  1996-11-01T06:59:00   NaN  NaN\n",
      "1996-11-01 07:53:00  1996-11-01T07:53:00   5.6  3.3\n",
      "1996-11-01 09:00:00  1996-11-01T09:00:00   5.0  2.8\n",
      "1996-11-01 09:53:00  1996-11-01T09:53:00   5.0  2.2\n",
      "1996-11-01 10:53:00  1996-11-01T10:53:00   5.6  2.2\n",
      "1996-11-01 11:53:00  1996-11-01T11:53:00   5.0  1.7\n",
      "1996-11-01 12:53:00  1996-11-01T12:53:00   5.0  1.7\n",
      "1996-11-01 13:02:00  1996-11-01T13:02:00   5.0  2.0\n",
      "1996-11-01 13:53:00  1996-11-01T13:53:00   4.4  1.7\n",
      "1996-11-01 14:53:00  1996-11-01T14:53:00   5.6  2.2\n",
      "1996-11-01 15:53:00  1996-11-01T15:53:00   7.2  2.2\n",
      "1996-11-01 16:41:00  1996-11-01T16:41:00   8.0  2.0\n",
      "1996-11-01 16:53:00  1996-11-01T16:53:00   8.9  2.2\n",
      "1996-11-01 17:53:00  1996-11-01T17:53:00  10.0  2.2\n",
      "1996-11-01 18:53:00  1996-11-01T18:53:00  11.7  2.2\n",
      "1996-11-01 19:53:00  1996-11-01T19:53:00  13.9  1.7\n",
      "1996-11-01 20:53:00  1996-11-01T20:53:00  15.6  1.1\n",
      "1996-11-01 21:53:00  1996-11-01T21:53:00  16.1  0.6\n",
      "1996-11-01 22:53:00  1996-11-01T22:53:00  16.7 -1.7\n",
      "1996-11-01 23:53:00  1996-11-01T23:53:00  14.4  0.6\n"
     ]
    },
    {
     "name": "stderr",
     "output_type": "stream",
     "text": [
      "/project/cas02/islas/miniconda3/envs/islaenv/lib/python3.7/site-packages/ipykernel_launcher.py:1: FutureWarning: Indexing a DataFrame with a datetimelike index using a single string to slice the rows, like `frame[string]`, is deprecated and will be removed in a future version. Use `frame.loc[string]` instead.\n",
      "  \"\"\"Entry point for launching an IPython kernel.\n"
     ]
    }
   ],
   "source": [
    "print(alldat[\"1996-11-01\"])"
   ]
  },
  {
   "cell_type": "code",
   "execution_count": 163,
   "id": "9ce796c2-5728-4127-8234-ffa6c57819f2",
   "metadata": {},
   "outputs": [
    {
     "name": "stdout",
     "output_type": "stream",
     "text": [
      "1980-01-01 00:00:00\n",
      "1980-01-01 01:00:00\n",
      "1980-01-01 02:00:00\n",
      "1980-01-01 03:00:00\n",
      "1980-01-01 04:00:00\n",
      "1980-01-01 05:00:00\n",
      "1980-01-01 06:00:00\n",
      "1980-01-01 07:00:00\n",
      "1980-01-01 08:00:00\n",
      "1980-01-01 09:00:00\n",
      "1980-01-01 10:00:00\n",
      "1980-01-01 11:00:00\n",
      "1980-01-01 12:00:00\n",
      "1980-01-01 13:00:00\n",
      "1980-01-01 14:00:00\n",
      "1980-01-01 15:00:00\n",
      "1980-01-01 16:00:00\n",
      "1980-01-01 17:00:00\n",
      "1980-01-01 18:00:00\n",
      "1980-01-01 19:00:00\n",
      "1980-01-01 20:00:00\n",
      "1980-01-01 21:00:00\n",
      "1980-01-01 22:00:00\n",
      "1980-01-01 23:00:00\n",
      "1980-01-02 00:00:00\n",
      "1980-01-02 01:00:00\n",
      "1980-01-02 02:00:00\n",
      "1980-01-02 03:00:00\n",
      "1980-01-02 04:00:00\n",
      "1980-01-02 05:00:00\n",
      "1980-01-02 06:00:00\n",
      "1980-01-02 07:00:00\n",
      "1980-01-02 08:00:00\n",
      "1980-01-02 09:00:00\n",
      "1980-01-02 10:00:00\n",
      "1980-01-02 11:00:00\n",
      "1980-01-02 12:00:00\n",
      "1980-01-02 13:00:00\n",
      "1980-01-02 14:00:00\n",
      "1980-01-02 15:00:00\n",
      "1980-01-02 16:00:00\n",
      "1980-01-02 17:00:00\n",
      "1980-01-02 18:00:00\n",
      "1980-01-02 19:00:00\n",
      "1980-01-02 20:00:00\n",
      "1980-01-02 21:00:00\n",
      "1980-01-02 22:00:00\n",
      "1980-01-02 23:00:00\n",
      "1980-01-03 00:00:00\n",
      "1980-01-03 01:00:00\n",
      "1980-01-03 02:00:00\n",
      "1980-01-03 03:00:00\n",
      "1980-01-03 04:00:00\n",
      "1980-01-03 05:00:00\n",
      "1980-01-03 06:00:00\n",
      "1980-01-03 07:00:00\n",
      "1980-01-03 08:00:00\n",
      "1980-01-03 09:00:00\n",
      "1980-01-03 10:00:00\n",
      "1980-01-03 11:00:00\n",
      "1980-01-03 12:00:00\n",
      "1980-01-03 13:00:00\n",
      "1980-01-03 14:00:00\n",
      "1980-01-03 15:00:00\n",
      "1980-01-03 16:00:00\n",
      "1980-01-03 17:00:00\n",
      "1980-01-03 18:00:00\n",
      "1980-01-03 19:00:00\n",
      "1980-01-03 20:00:00\n",
      "1980-01-03 21:00:00\n",
      "1980-01-03 22:00:00\n",
      "1980-01-03 23:00:00\n",
      "1980-01-04 00:00:00\n",
      "1980-01-04 01:00:00\n",
      "1980-01-04 02:00:00\n",
      "1980-01-04 03:00:00\n",
      "1980-01-04 04:00:00\n",
      "1980-01-04 05:00:00\n",
      "1980-01-04 06:00:00\n",
      "1980-01-04 07:00:00\n",
      "1980-01-04 08:00:00\n",
      "1980-01-04 09:00:00\n",
      "1980-01-04 10:00:00\n",
      "1980-01-04 12:00:00\n",
      "1980-01-04 13:00:00\n",
      "1980-01-04 14:00:00\n",
      "1980-01-04 15:00:00\n",
      "1980-01-04 16:00:00\n",
      "1980-01-04 17:00:00\n",
      "1980-01-04 18:00:00\n",
      "1980-01-04 20:00:00\n",
      "1980-01-04 21:00:00\n",
      "1980-01-04 22:00:00\n",
      "1980-01-04 23:00:00\n",
      "1980-01-05 00:00:00\n",
      "1980-01-05 01:00:00\n",
      "1980-01-05 02:00:00\n",
      "1980-01-05 03:00:00\n",
      "1980-01-05 04:00:00\n",
      "1980-01-05 05:00:00\n",
      "1980-01-05 06:00:00\n",
      "1980-01-05 07:00:00\n",
      "1980-01-05 08:00:00\n",
      "1980-01-05 09:00:00\n",
      "1980-01-05 10:00:00\n",
      "1980-01-05 11:00:00\n",
      "1980-01-05 12:00:00\n",
      "1980-01-05 13:00:00\n",
      "1980-01-05 14:00:00\n",
      "1980-01-05 15:00:00\n",
      "1980-01-05 16:00:00\n",
      "1980-01-05 17:00:00\n",
      "1980-01-05 18:00:00\n",
      "1980-01-05 19:00:00\n",
      "1980-01-05 20:00:00\n",
      "1980-01-05 21:00:00\n",
      "1980-01-05 22:00:00\n",
      "1980-01-05 23:00:00\n",
      "1980-01-06 00:00:00\n",
      "1980-01-06 01:00:00\n",
      "1980-01-06 02:00:00\n",
      "1980-01-06 03:00:00\n",
      "1980-01-06 04:00:00\n",
      "1980-01-06 05:00:00\n",
      "1980-01-06 06:00:00\n",
      "1980-01-06 07:00:00\n",
      "1980-01-06 08:00:00\n",
      "1980-01-06 09:00:00\n",
      "1980-01-06 10:00:00\n",
      "1980-01-06 11:00:00\n",
      "1980-01-06 12:00:00\n",
      "1980-01-06 13:00:00\n",
      "1980-01-06 14:00:00\n",
      "1980-01-06 15:00:00\n",
      "1980-01-06 16:00:00\n",
      "1980-01-06 17:00:00\n",
      "1980-01-06 18:00:00\n",
      "1980-01-06 19:00:00\n",
      "1980-01-06 20:00:00\n",
      "1980-01-06 21:00:00\n",
      "1980-01-06 22:00:00\n",
      "1980-01-06 23:00:00\n",
      "1980-01-07 00:00:00\n",
      "1980-01-07 01:00:00\n",
      "1980-01-07 02:00:00\n",
      "1980-01-07 03:00:00\n",
      "1980-01-07 04:00:00\n",
      "1980-01-07 05:00:00\n",
      "1980-01-07 06:00:00\n",
      "1980-01-07 07:00:00\n",
      "1980-01-07 08:00:00\n",
      "1980-01-07 09:00:00\n",
      "1980-01-07 10:00:00\n",
      "1980-01-07 11:00:00\n",
      "1980-01-07 12:00:00\n",
      "1980-01-07 13:00:00\n",
      "1980-01-07 14:00:00\n",
      "1980-01-07 15:00:00\n",
      "1980-01-07 16:00:00\n",
      "1980-01-07 17:00:00\n",
      "1980-01-07 18:00:00\n",
      "1980-01-07 19:00:00\n",
      "1980-01-07 20:00:00\n",
      "1980-01-07 21:00:00\n",
      "1980-01-07 22:00:00\n",
      "1980-01-07 23:00:00\n",
      "1980-01-08 00:00:00\n",
      "1980-01-08 01:00:00\n",
      "1980-01-08 02:00:00\n",
      "1980-01-08 03:00:00\n",
      "1980-01-08 04:00:00\n",
      "1980-01-08 05:00:00\n",
      "1980-01-08 06:00:00\n",
      "1980-01-08 07:00:00\n",
      "1980-01-08 08:00:00\n",
      "1980-01-08 09:00:00\n",
      "1980-01-08 10:00:00\n",
      "1980-01-08 11:00:00\n",
      "1980-01-08 12:00:00\n",
      "1980-01-08 13:00:00\n",
      "1980-01-08 14:00:00\n",
      "1980-01-08 15:00:00\n",
      "1980-01-08 16:00:00\n",
      "1980-01-08 17:00:00\n",
      "1980-01-08 18:00:00\n",
      "1980-01-08 19:00:00\n",
      "1980-01-08 20:00:00\n",
      "1980-01-08 21:00:00\n",
      "1980-01-08 22:00:00\n",
      "1980-01-08 23:00:00\n",
      "1980-01-09 00:00:00\n",
      "1980-01-09 01:00:00\n",
      "1980-01-09 02:00:00\n",
      "1980-01-09 03:00:00\n",
      "1980-01-09 04:00:00\n",
      "1980-01-09 05:00:00\n",
      "1980-01-09 06:00:00\n",
      "1980-01-09 07:00:00\n",
      "1980-01-09 08:00:00\n",
      "1980-01-09 09:00:00\n",
      "1980-01-09 10:00:00\n",
      "1980-01-09 11:00:00\n",
      "1980-01-09 12:00:00\n",
      "1980-01-09 13:00:00\n",
      "1980-01-09 14:00:00\n",
      "1980-01-09 15:00:00\n",
      "1980-01-09 16:00:00\n",
      "1980-01-09 17:00:00\n",
      "1980-01-09 18:00:00\n",
      "1980-01-09 19:00:00\n",
      "1980-01-09 21:00:00\n",
      "1980-01-09 22:00:00\n",
      "1980-01-10 00:00:00\n",
      "1980-01-10 01:00:00\n",
      "1980-01-10 02:00:00\n",
      "1980-01-10 03:00:00\n",
      "1980-01-10 04:00:00\n",
      "1980-01-10 05:00:00\n",
      "1980-01-10 06:00:00\n",
      "1980-01-10 07:00:00\n",
      "1980-01-10 08:00:00\n",
      "1980-01-10 09:00:00\n",
      "1980-01-10 10:00:00\n",
      "1980-01-10 11:00:00\n",
      "1980-01-10 12:00:00\n",
      "1980-01-10 13:00:00\n",
      "1980-01-10 14:00:00\n",
      "1980-01-10 15:00:00\n",
      "1980-01-10 16:00:00\n",
      "1980-01-10 17:00:00\n",
      "1980-01-10 18:00:00\n",
      "1980-01-10 19:00:00\n",
      "1980-01-10 20:00:00\n",
      "1980-01-10 21:00:00\n",
      "1980-01-10 22:00:00\n",
      "1980-01-10 23:00:00\n",
      "1980-01-11 00:00:00\n",
      "1980-01-11 01:00:00\n",
      "1980-01-11 02:00:00\n",
      "1980-01-11 03:00:00\n",
      "1980-01-11 04:00:00\n",
      "1980-01-11 05:00:00\n",
      "1980-01-11 06:00:00\n",
      "1980-01-11 07:00:00\n",
      "1980-01-11 08:00:00\n",
      "1980-01-11 09:00:00\n",
      "1980-01-11 10:00:00\n",
      "1980-01-11 11:00:00\n",
      "1980-01-11 12:00:00\n",
      "1980-01-11 13:00:00\n",
      "1980-01-11 14:00:00\n",
      "1980-01-11 15:00:00\n",
      "1980-01-11 16:00:00\n",
      "1980-01-11 17:00:00\n",
      "1980-01-11 18:00:00\n",
      "1980-01-11 19:00:00\n",
      "1980-01-11 21:00:00\n",
      "1980-01-11 22:00:00\n",
      "1980-01-11 23:00:00\n",
      "1980-01-12 00:00:00\n",
      "1980-01-12 01:00:00\n",
      "1980-01-12 03:00:00\n",
      "1980-01-12 04:00:00\n",
      "1980-01-12 05:00:00\n",
      "1980-01-12 06:00:00\n",
      "1980-01-12 07:00:00\n",
      "1980-01-12 09:00:00\n",
      "1980-01-12 11:00:00\n",
      "1980-01-12 12:00:00\n",
      "1980-01-12 13:00:00\n",
      "1980-01-12 13:27:00\n",
      "1980-01-12 14:00:00\n",
      "1980-01-12 15:00:00\n",
      "1980-01-12 16:00:00\n",
      "1980-01-12 17:00:00\n",
      "1980-01-12 18:00:00\n",
      "1980-01-12 19:00:00\n",
      "1980-01-12 20:00:00\n",
      "1980-01-12 21:00:00\n",
      "1980-01-12 22:00:00\n",
      "1980-01-12 23:00:00\n",
      "1980-01-13 00:00:00\n",
      "1980-01-13 02:00:00\n",
      "1980-01-13 03:00:00\n",
      "1980-01-13 04:00:00\n",
      "1980-01-13 05:00:00\n",
      "1980-01-13 06:00:00\n",
      "1980-01-13 07:00:00\n",
      "1980-01-13 08:00:00\n",
      "1980-01-13 09:00:00\n",
      "1980-01-13 10:00:00\n",
      "1980-01-13 11:00:00\n",
      "1980-01-13 12:00:00\n",
      "1980-01-13 13:00:00\n",
      "1980-01-13 14:00:00\n",
      "1980-01-13 15:00:00\n",
      "1980-01-13 16:00:00\n",
      "1980-01-13 17:00:00\n",
      "1980-01-13 18:00:00\n",
      "1980-01-13 19:00:00\n",
      "1980-01-13 20:00:00\n",
      "1980-01-13 21:00:00\n",
      "1980-01-13 22:00:00\n",
      "1980-01-13 23:00:00\n",
      "1980-01-14 00:00:00\n",
      "1980-01-14 01:00:00\n",
      "1980-01-14 02:00:00\n",
      "1980-01-14 03:00:00\n",
      "1980-01-14 04:00:00\n",
      "1980-01-14 05:00:00\n",
      "1980-01-14 06:00:00\n",
      "1980-01-14 07:00:00\n",
      "1980-01-14 08:00:00\n",
      "1980-01-14 09:00:00\n",
      "1980-01-14 10:00:00\n",
      "1980-01-14 11:00:00\n",
      "1980-01-14 12:00:00\n",
      "1980-01-14 13:00:00\n",
      "1980-01-14 14:00:00\n",
      "1980-01-14 15:00:00\n",
      "1980-01-14 16:00:00\n",
      "1980-01-14 17:00:00\n",
      "1980-01-14 18:00:00\n",
      "1980-01-14 19:00:00\n",
      "1980-01-14 20:00:00\n",
      "1980-01-14 21:00:00\n",
      "1980-01-14 23:00:00\n",
      "1980-01-15 00:00:00\n",
      "1980-01-15 01:00:00\n",
      "1980-01-15 02:00:00\n",
      "1980-01-15 03:00:00\n",
      "1980-01-15 04:00:00\n",
      "1980-01-15 05:00:00\n",
      "1980-01-15 06:00:00\n",
      "1980-01-15 07:00:00\n",
      "1980-01-15 08:00:00\n",
      "1980-01-15 09:00:00\n",
      "1980-01-15 10:00:00\n",
      "1980-01-15 11:00:00\n",
      "1980-01-15 12:00:00\n",
      "1980-01-15 13:00:00\n",
      "1980-01-15 14:00:00\n",
      "1980-01-15 15:00:00\n",
      "1980-01-15 17:00:00\n",
      "1980-01-15 18:00:00\n",
      "1980-01-15 19:00:00\n",
      "1980-01-15 20:00:00\n",
      "1980-01-15 21:00:00\n",
      "1980-01-15 22:00:00\n",
      "1980-01-16 00:00:00\n",
      "1980-01-16 02:00:00\n",
      "1980-01-16 03:00:00\n",
      "1980-01-16 04:00:00\n",
      "1980-01-16 05:00:00\n",
      "1980-01-16 06:00:00\n",
      "1980-01-16 07:00:00\n",
      "1980-01-16 08:00:00\n",
      "1980-01-16 09:00:00\n",
      "1980-01-16 10:00:00\n",
      "1980-01-16 11:00:00\n",
      "1980-01-16 12:00:00\n",
      "1980-01-16 13:00:00\n",
      "1980-01-16 14:00:00\n",
      "1980-01-16 15:00:00\n",
      "1980-01-16 16:00:00\n",
      "1980-01-16 17:00:00\n",
      "1980-01-16 18:00:00\n",
      "1980-01-16 19:00:00\n",
      "1980-01-16 20:00:00\n",
      "1980-01-16 21:00:00\n",
      "1980-01-16 22:00:00\n",
      "1980-01-16 23:00:00\n",
      "1980-01-17 00:00:00\n",
      "1980-01-17 01:00:00\n",
      "1980-01-17 02:00:00\n",
      "1980-01-17 03:00:00\n",
      "1980-01-17 04:00:00\n",
      "1980-01-17 05:00:00\n",
      "1980-01-17 06:00:00\n",
      "1980-01-17 07:00:00\n",
      "1980-01-17 08:00:00\n",
      "1980-01-17 09:00:00\n",
      "1980-01-17 10:00:00\n",
      "1980-01-17 11:00:00\n",
      "1980-01-17 12:00:00\n",
      "1980-01-17 13:00:00\n",
      "1980-01-17 14:00:00\n",
      "1980-01-17 15:00:00\n",
      "1980-01-17 16:00:00\n",
      "1980-01-17 17:00:00\n",
      "1980-01-17 18:00:00\n",
      "1980-01-17 19:00:00\n",
      "1980-01-17 20:00:00\n",
      "1980-01-17 21:00:00\n",
      "1980-01-17 22:00:00\n",
      "1980-01-17 23:00:00\n",
      "1980-01-18 00:00:00\n",
      "1980-01-18 01:00:00\n",
      "1980-01-18 02:00:00\n",
      "1980-01-18 03:00:00\n",
      "1980-01-18 04:00:00\n",
      "1980-01-18 05:00:00\n",
      "1980-01-18 06:00:00\n",
      "1980-01-18 07:00:00\n",
      "1980-01-18 08:00:00\n",
      "1980-01-18 09:00:00\n",
      "1980-01-18 10:00:00\n",
      "1980-01-18 11:00:00\n",
      "1980-01-18 12:00:00\n",
      "1980-01-18 13:00:00\n",
      "1980-01-18 14:00:00\n",
      "1980-01-18 15:00:00\n",
      "1980-01-18 17:00:00\n",
      "1980-01-18 18:00:00\n",
      "1980-01-18 19:00:00\n",
      "1980-01-18 20:00:00\n",
      "1980-01-18 21:00:00\n",
      "1980-01-18 22:00:00\n",
      "1980-01-18 23:00:00\n",
      "1980-01-19 00:00:00\n",
      "1980-01-19 01:00:00\n",
      "1980-01-19 02:00:00\n",
      "1980-01-19 03:00:00\n",
      "1980-01-19 05:00:00\n",
      "1980-01-19 06:00:00\n",
      "1980-01-19 07:00:00\n",
      "1980-01-19 08:00:00\n",
      "1980-01-19 09:00:00\n",
      "1980-01-19 10:00:00\n",
      "1980-01-19 11:00:00\n",
      "1980-01-19 12:00:00\n",
      "1980-01-19 13:00:00\n",
      "1980-01-19 14:00:00\n",
      "1980-01-19 15:00:00\n",
      "1980-01-19 16:00:00\n",
      "1980-01-19 16:26:00\n",
      "1980-01-19 17:00:00\n",
      "1980-01-19 18:00:00\n",
      "1980-01-19 19:00:00\n",
      "1980-01-19 20:00:00\n",
      "1980-01-19 21:00:00\n",
      "1980-01-19 22:00:00\n",
      "1980-01-19 23:00:00\n",
      "1980-01-20 00:00:00\n",
      "1980-01-20 01:00:00\n",
      "1980-01-20 02:00:00\n",
      "1980-01-20 03:00:00\n",
      "1980-01-20 03:16:00\n",
      "1980-01-20 04:00:00\n",
      "1980-01-20 04:10:00\n",
      "1980-01-20 05:00:00\n",
      "1980-01-20 05:04:00\n",
      "1980-01-20 05:30:00\n",
      "1980-01-20 06:00:00\n",
      "1980-01-20 06:10:00\n",
      "1980-01-20 07:00:00\n",
      "1980-01-20 08:00:00\n",
      "1980-01-20 09:00:00\n",
      "1980-01-20 10:00:00\n",
      "1980-01-20 11:00:00\n",
      "1980-01-20 12:00:00\n",
      "1980-01-20 13:00:00\n",
      "1980-01-20 14:00:00\n",
      "1980-01-20 15:00:00\n",
      "1980-01-20 16:00:00\n",
      "1980-01-20 16:24:00\n",
      "1980-01-20 17:00:00\n",
      "1980-01-20 18:00:00\n",
      "1980-01-20 19:00:00\n",
      "1980-01-20 20:00:00\n",
      "1980-01-20 21:00:00\n",
      "1980-01-20 22:00:00\n",
      "1980-01-20 23:00:00\n",
      "1980-01-21 00:00:00\n",
      "1980-01-21 00:30:00\n",
      "1980-01-21 01:00:00\n",
      "1980-01-21 02:00:00\n",
      "1980-01-21 03:00:00\n",
      "1980-01-21 03:09:00\n",
      "1980-01-21 04:00:00\n",
      "1980-01-21 05:00:00\n",
      "1980-01-21 06:00:00\n",
      "1980-01-21 07:00:00\n",
      "1980-01-21 08:00:00\n",
      "1980-01-21 09:00:00\n",
      "1980-01-21 09:08:00\n",
      "1980-01-21 10:00:00\n",
      "1980-01-21 11:00:00\n",
      "1980-01-21 11:31:00\n",
      "1980-01-21 12:00:00\n",
      "1980-01-21 12:25:00\n",
      "1980-01-21 13:00:00\n",
      "1980-01-21 14:00:00\n",
      "1980-01-21 15:00:00\n",
      "1980-01-21 16:00:00\n",
      "1980-01-21 17:00:00\n",
      "1980-01-21 17:24:00\n",
      "1980-01-21 18:00:00\n",
      "1980-01-21 19:00:00\n",
      "1980-01-21 20:00:00\n",
      "1980-01-21 21:00:00\n",
      "1980-01-21 22:00:00\n",
      "1980-01-21 23:00:00\n",
      "1980-01-22 00:00:00\n",
      "1980-01-22 01:00:00\n",
      "1980-01-22 02:00:00\n",
      "1980-01-22 03:00:00\n",
      "1980-01-22 04:00:00\n",
      "1980-01-22 05:00:00\n",
      "1980-01-22 06:00:00\n",
      "1980-01-22 06:25:00\n",
      "1980-01-22 07:00:00\n",
      "1980-01-22 08:00:00\n",
      "1980-01-22 09:00:00\n",
      "1980-01-22 10:00:00\n",
      "1980-01-22 12:00:00\n",
      "1980-01-22 13:00:00\n",
      "1980-01-22 14:00:00\n",
      "1980-01-22 15:00:00\n",
      "1980-01-22 16:00:00\n",
      "1980-01-22 17:00:00\n",
      "1980-01-22 18:00:00\n",
      "1980-01-22 19:00:00\n",
      "1980-01-22 19:13:00\n",
      "1980-01-22 21:00:00\n",
      "1980-01-22 22:00:00\n",
      "1980-01-22 23:00:00\n",
      "1980-01-23 00:00:00\n",
      "1980-01-23 01:00:00\n",
      "1980-01-23 02:00:00\n",
      "1980-01-23 03:00:00\n",
      "1980-01-23 04:00:00\n",
      "1980-01-23 05:00:00\n",
      "1980-01-23 06:00:00\n",
      "1980-01-23 07:00:00\n",
      "1980-01-23 08:00:00\n",
      "1980-01-23 09:00:00\n",
      "1980-01-23 10:00:00\n",
      "1980-01-23 10:10:00\n",
      "1980-01-23 11:00:00\n",
      "1980-01-23 12:00:00\n",
      "1980-01-23 12:18:00\n",
      "1980-01-23 13:00:00\n",
      "1980-01-23 15:00:00\n",
      "1980-01-23 16:00:00\n",
      "1980-01-23 17:00:00\n",
      "1980-01-23 18:00:00\n",
      "1980-01-23 19:00:00\n",
      "1980-01-23 20:00:00\n",
      "1980-01-23 21:00:00\n",
      "1980-01-23 22:00:00\n",
      "1980-01-23 23:00:00\n",
      "1980-01-24 00:00:00\n",
      "1980-01-24 01:00:00\n",
      "1980-01-24 02:00:00\n",
      "1980-01-24 03:00:00\n",
      "1980-01-24 04:00:00\n",
      "1980-01-24 05:00:00\n",
      "1980-01-24 06:00:00\n",
      "1980-01-24 07:00:00\n",
      "1980-01-24 08:00:00\n",
      "1980-01-24 09:00:00\n",
      "1980-01-24 10:00:00\n",
      "1980-01-24 11:00:00\n",
      "1980-01-24 12:00:00\n",
      "1980-01-24 13:00:00\n",
      "1980-01-24 14:00:00\n",
      "1980-01-24 14:08:00\n",
      "1980-01-24 15:00:00\n",
      "1980-01-24 15:14:00\n",
      "1980-01-24 15:29:00\n",
      "1980-01-24 16:00:00\n",
      "1980-01-24 17:00:00\n",
      "1980-01-24 18:00:00\n",
      "1980-01-24 19:00:00\n",
      "1980-01-24 20:00:00\n",
      "1980-01-24 21:00:00\n",
      "1980-01-24 22:00:00\n",
      "1980-01-24 23:00:00\n",
      "1980-01-25 00:00:00\n",
      "1980-01-25 01:00:00\n",
      "1980-01-25 02:00:00\n",
      "1980-01-25 03:00:00\n",
      "1980-01-25 04:00:00\n",
      "1980-01-25 05:00:00\n",
      "1980-01-25 06:00:00\n",
      "1980-01-25 07:00:00\n",
      "1980-01-25 08:00:00\n",
      "1980-01-25 09:00:00\n",
      "1980-01-25 10:00:00\n",
      "1980-01-25 11:00:00\n",
      "1980-01-25 12:00:00\n",
      "1980-01-25 13:00:00\n",
      "1980-01-25 14:00:00\n",
      "1980-01-25 15:00:00\n",
      "1980-01-25 16:00:00\n",
      "1980-01-25 17:00:00\n",
      "1980-01-25 18:00:00\n",
      "1980-01-25 20:00:00\n",
      "1980-01-25 21:00:00\n",
      "1980-01-25 22:00:00\n",
      "1980-01-25 23:00:00\n",
      "1980-01-26 00:00:00\n",
      "1980-01-26 01:00:00\n",
      "1980-01-26 02:00:00\n",
      "1980-01-26 03:00:00\n",
      "1980-01-26 04:00:00\n",
      "1980-01-26 05:00:00\n",
      "1980-01-26 06:00:00\n",
      "1980-01-26 07:00:00\n",
      "1980-01-26 08:00:00\n",
      "1980-01-26 09:00:00\n",
      "1980-01-26 10:00:00\n",
      "1980-01-26 11:00:00\n",
      "1980-01-26 12:00:00\n",
      "1980-01-26 13:00:00\n",
      "1980-01-26 14:00:00\n",
      "1980-01-26 14:20:00\n",
      "1980-01-26 15:00:00\n",
      "1980-01-26 16:00:00\n",
      "1980-01-26 17:00:00\n",
      "1980-01-26 18:00:00\n",
      "1980-01-26 18:23:00\n",
      "1980-01-26 19:00:00\n",
      "1980-01-26 20:00:00\n",
      "1980-01-26 21:00:00\n",
      "1980-01-26 21:28:00\n",
      "1980-01-26 22:00:00\n",
      "1980-01-26 23:00:00\n",
      "1980-01-27 00:00:00\n",
      "1980-01-27 00:04:00\n",
      "1980-01-27 00:26:00\n",
      "1980-01-27 01:00:00\n",
      "1980-01-27 02:00:00\n",
      "1980-01-27 03:00:00\n",
      "1980-01-27 04:00:00\n",
      "1980-01-27 05:00:00\n",
      "1980-01-27 06:00:00\n",
      "1980-01-27 07:00:00\n",
      "1980-01-27 08:00:00\n",
      "1980-01-27 09:00:00\n",
      "1980-01-27 09:21:00\n",
      "1980-01-27 10:00:00\n",
      "1980-01-27 11:00:00\n",
      "1980-01-27 12:00:00\n",
      "1980-01-27 13:00:00\n",
      "1980-01-27 13:12:00\n",
      "1980-01-27 14:00:00\n",
      "1980-01-27 15:00:00\n",
      "1980-01-27 16:00:00\n",
      "1980-01-27 17:00:00\n",
      "1980-01-27 17:30:00\n",
      "1980-01-27 18:00:00\n",
      "1980-01-27 18:17:00\n",
      "1980-01-27 19:00:00\n",
      "1980-01-27 20:00:00\n",
      "1980-01-27 21:00:00\n",
      "1980-01-27 22:00:00\n",
      "1980-01-27 23:00:00\n",
      "1980-01-28 00:00:00\n",
      "1980-01-28 01:00:00\n",
      "1980-01-28 01:25:00\n",
      "1980-01-28 02:00:00\n",
      "1980-01-28 02:25:00\n",
      "1980-01-28 03:00:00\n",
      "1980-01-28 03:35:00\n",
      "1980-01-28 04:00:00\n",
      "1980-01-28 04:05:00\n",
      "1980-01-28 05:00:00\n",
      "1980-01-28 06:00:00\n",
      "1980-01-28 07:00:00\n",
      "1980-01-28 08:00:00\n",
      "1980-01-28 09:00:00\n",
      "1980-01-28 10:00:00\n",
      "1980-01-28 12:00:00\n",
      "1980-01-28 13:00:00\n",
      "1980-01-28 14:00:00\n",
      "1980-01-28 15:00:00\n",
      "1980-01-28 16:00:00\n",
      "1980-01-28 17:00:00\n",
      "1980-01-28 18:00:00\n",
      "1980-01-28 19:00:00\n",
      "1980-01-28 20:00:00\n",
      "1980-01-28 21:00:00\n",
      "1980-01-28 21:15:00\n",
      "1980-01-28 22:00:00\n",
      "1980-01-28 23:00:00\n",
      "1980-01-29 00:00:00\n",
      "1980-01-29 01:00:00\n",
      "1980-01-29 02:00:00\n",
      "1980-01-29 03:00:00\n",
      "1980-01-29 03:35:00\n",
      "1980-01-29 04:00:00\n",
      "1980-01-29 05:00:00\n",
      "1980-01-29 06:00:00\n",
      "1980-01-29 07:00:00\n",
      "1980-01-29 08:00:00\n",
      "1980-01-29 09:00:00\n",
      "1980-01-29 10:00:00\n",
      "1980-01-29 11:00:00\n",
      "1980-01-29 12:00:00\n",
      "1980-01-29 12:29:00\n",
      "1980-01-29 13:00:00\n",
      "1980-01-29 13:33:00\n",
      "1980-01-29 14:00:00\n",
      "1980-01-29 15:00:00\n",
      "1980-01-29 16:00:00\n",
      "1980-01-29 16:28:00\n",
      "1980-01-29 17:00:00\n",
      "1980-01-29 18:00:00\n",
      "1980-01-29 18:35:00\n",
      "1980-01-29 19:00:00\n",
      "1980-01-29 19:01:00\n",
      "1980-01-29 20:00:00\n",
      "1980-01-29 20:06:00\n",
      "1980-01-29 21:00:00\n",
      "1980-01-29 22:00:00\n",
      "1980-01-29 22:28:00\n",
      "1980-01-29 23:00:00\n",
      "1980-01-30 00:00:00\n",
      "1980-01-30 01:00:00\n",
      "1980-01-30 01:18:00\n",
      "1980-01-30 02:00:00\n",
      "1980-01-30 03:00:00\n",
      "1980-01-30 04:00:00\n",
      "1980-01-30 05:00:00\n",
      "1980-01-30 06:00:00\n",
      "1980-01-30 07:00:00\n",
      "1980-01-30 08:00:00\n",
      "1980-01-30 09:00:00\n",
      "1980-01-30 10:00:00\n",
      "1980-01-30 11:00:00\n",
      "1980-01-30 12:00:00\n",
      "1980-01-30 13:00:00\n",
      "1980-01-30 14:00:00\n",
      "1980-01-30 14:29:00\n",
      "1980-01-30 15:00:00\n",
      "1980-01-30 15:17:00\n",
      "1980-01-30 16:00:00\n",
      "1980-01-30 16:13:00\n",
      "1980-01-30 17:00:00\n",
      "1980-01-30 18:00:00\n",
      "1980-01-30 18:15:00\n",
      "1980-01-30 19:00:00\n",
      "1980-01-30 19:32:00\n",
      "1980-01-30 21:00:00\n",
      "1980-01-30 22:00:00\n",
      "1980-01-30 23:00:00\n",
      "1980-01-31 00:00:00\n",
      "1980-01-31 02:00:00\n",
      "1980-01-31 03:00:00\n",
      "1980-01-31 04:24:00\n",
      "1980-01-31 05:00:00\n",
      "1980-01-31 05:05:00\n",
      "1980-01-31 06:00:00\n",
      "1980-01-31 07:00:00\n",
      "1980-01-31 08:00:00\n",
      "1980-01-31 09:00:00\n",
      "1980-01-31 10:00:00\n",
      "1980-01-31 11:00:00\n",
      "1980-01-31 12:00:00\n",
      "1980-01-31 13:00:00\n",
      "1980-01-31 14:00:00\n",
      "1980-01-31 15:00:00\n",
      "1980-01-31 16:00:00\n",
      "1980-01-31 17:00:00\n",
      "1980-01-31 18:00:00\n",
      "1980-01-31 19:00:00\n",
      "1980-01-31 20:00:00\n",
      "1980-01-31 21:00:00\n",
      "1980-01-31 22:00:00\n",
      "1980-01-31 23:00:00\n",
      "1980-02-01 00:00:00\n",
      "1980-02-01 00:30:00\n",
      "1980-02-01 01:00:00\n",
      "1980-02-01 02:00:00\n",
      "1980-02-01 03:00:00\n",
      "1980-02-01 04:00:00\n",
      "1980-02-01 05:00:00\n",
      "1980-02-01 06:00:00\n",
      "1980-02-01 07:00:00\n",
      "1980-02-01 08:00:00\n",
      "1980-02-01 09:00:00\n",
      "1980-02-01 10:00:00\n",
      "1980-02-01 11:00:00\n",
      "1980-02-01 12:00:00\n",
      "1980-02-01 12:06:00\n",
      "1980-02-01 13:00:00\n",
      "1980-02-01 13:15:00\n",
      "1980-02-01 14:00:00\n",
      "1980-02-01 15:00:00\n",
      "1980-02-01 15:09:00\n",
      "1980-02-01 15:26:00\n",
      "1980-02-01 16:00:00\n",
      "1980-02-01 16:15:00\n",
      "1980-02-01 16:30:00\n",
      "1980-02-01 18:00:00\n",
      "1980-02-01 18:16:00\n",
      "1980-02-01 19:00:00\n",
      "1980-02-01 19:05:00\n",
      "1980-02-01 20:00:00\n",
      "1980-02-01 20:34:00\n",
      "1980-02-01 21:00:00\n",
      "1980-02-01 21:11:00\n",
      "1980-02-01 22:00:00\n",
      "1980-02-01 23:00:00\n",
      "1980-02-02 00:00:00\n",
      "1980-02-02 01:00:00\n",
      "1980-02-02 02:00:00\n",
      "1980-02-02 03:00:00\n",
      "1980-02-02 04:00:00\n",
      "1980-02-02 04:32:00\n",
      "1980-02-02 05:00:00\n",
      "1980-02-02 05:35:00\n",
      "1980-02-02 06:00:00\n",
      "1980-02-02 07:00:00\n",
      "1980-02-02 07:30:00\n",
      "1980-02-02 08:00:00\n",
      "1980-02-02 08:35:00\n",
      "1980-02-02 09:00:00\n",
      "1980-02-02 09:25:00\n",
      "1980-02-02 10:00:00\n",
      "1980-02-02 11:00:00\n",
      "1980-02-02 12:00:00\n",
      "1980-02-02 13:00:00\n",
      "1980-02-02 14:00:00\n",
      "1980-02-02 15:00:00\n",
      "1980-02-02 15:37:00\n",
      "1980-02-02 17:00:00\n",
      "1980-02-02 18:00:00\n",
      "1980-02-02 19:00:00\n",
      "1980-02-02 20:00:00\n",
      "1980-02-02 21:00:00\n",
      "1980-02-02 22:00:00\n",
      "1980-02-02 23:00:00\n",
      "1980-02-03 00:00:00\n",
      "1980-02-03 01:00:00\n",
      "1980-02-03 02:00:00\n",
      "1980-02-03 03:00:00\n",
      "1980-02-03 04:00:00\n",
      "1980-02-03 05:00:00\n",
      "1980-02-03 06:00:00\n",
      "1980-02-03 07:00:00\n",
      "1980-02-03 08:00:00\n",
      "1980-02-03 09:00:00\n",
      "1980-02-03 12:00:00\n",
      "1980-02-03 13:00:00\n",
      "1980-02-03 14:00:00\n",
      "1980-02-03 15:00:00\n",
      "1980-02-03 16:00:00\n",
      "1980-02-03 17:00:00\n",
      "1980-02-03 18:00:00\n",
      "1980-02-03 19:00:00\n",
      "1980-02-03 20:00:00\n",
      "1980-02-03 21:00:00\n",
      "1980-02-03 22:00:00\n",
      "1980-02-03 23:00:00\n",
      "1980-02-04 00:00:00\n",
      "1980-02-04 01:00:00\n",
      "1980-02-04 02:00:00\n",
      "1980-02-04 03:00:00\n",
      "1980-02-04 04:00:00\n",
      "1980-02-04 05:00:00\n",
      "1980-02-04 06:00:00\n",
      "1980-02-04 07:00:00\n",
      "1980-02-04 08:00:00\n",
      "1980-02-04 09:00:00\n",
      "1980-02-04 10:00:00\n",
      "1980-02-04 11:00:00\n",
      "1980-02-04 12:00:00\n",
      "1980-02-04 13:00:00\n",
      "1980-02-04 14:00:00\n",
      "1980-02-04 15:00:00\n",
      "1980-02-04 16:00:00\n",
      "1980-02-04 17:00:00\n",
      "1980-02-04 18:00:00\n",
      "1980-02-04 19:00:00\n",
      "1980-02-04 20:00:00\n",
      "1980-02-04 21:00:00\n",
      "1980-02-04 22:00:00\n",
      "1980-02-04 23:00:00\n",
      "1980-02-05 00:00:00\n",
      "1980-02-05 01:00:00\n",
      "1980-02-05 02:00:00\n",
      "1980-02-05 03:00:00\n",
      "1980-02-05 04:00:00\n",
      "1980-02-05 05:00:00\n",
      "1980-02-05 06:00:00\n",
      "1980-02-05 07:00:00\n",
      "1980-02-05 08:00:00\n",
      "1980-02-05 09:00:00\n",
      "1980-02-05 10:00:00\n",
      "1980-02-05 11:00:00\n",
      "1980-02-05 12:00:00\n",
      "1980-02-05 13:00:00\n",
      "1980-02-05 14:00:00\n",
      "1980-02-05 15:00:00\n",
      "1980-02-05 16:00:00\n",
      "1980-02-05 17:00:00\n",
      "1980-02-05 18:00:00\n",
      "1980-02-05 19:00:00\n",
      "1980-02-05 20:00:00\n",
      "1980-02-05 21:00:00\n",
      "1980-02-05 22:00:00\n",
      "1980-02-05 23:00:00\n",
      "1980-02-06 00:00:00\n",
      "1980-02-06 01:00:00\n",
      "1980-02-06 02:00:00\n",
      "1980-02-06 03:00:00\n",
      "1980-02-06 04:00:00\n",
      "1980-02-06 05:00:00\n",
      "1980-02-06 06:00:00\n",
      "1980-02-06 07:00:00\n",
      "1980-02-06 08:00:00\n",
      "1980-02-06 09:00:00\n",
      "1980-02-06 10:00:00\n",
      "1980-02-06 11:00:00\n",
      "1980-02-06 12:00:00\n",
      "1980-02-06 13:00:00\n",
      "1980-02-06 14:00:00\n",
      "1980-02-06 15:00:00\n",
      "1980-02-06 16:00:00\n",
      "1980-02-06 18:00:00\n",
      "1980-02-06 19:00:00\n",
      "1980-02-06 20:00:00\n",
      "1980-02-06 21:00:00\n",
      "1980-02-06 22:00:00\n",
      "1980-02-06 23:00:00\n",
      "1980-02-07 00:00:00\n",
      "1980-02-07 01:00:00\n",
      "1980-02-07 02:00:00\n",
      "1980-02-07 03:00:00\n",
      "1980-02-07 04:00:00\n",
      "1980-02-07 05:00:00\n",
      "1980-02-07 06:00:00\n",
      "1980-02-07 07:00:00\n",
      "1980-02-07 08:00:00\n",
      "1980-02-07 09:00:00\n",
      "1980-02-07 10:00:00\n",
      "1980-02-07 11:00:00\n",
      "1980-02-07 12:00:00\n",
      "1980-02-07 13:00:00\n",
      "1980-02-07 14:00:00\n",
      "1980-02-07 15:00:00\n",
      "1980-02-07 15:26:00\n",
      "1980-02-07 16:00:00\n",
      "1980-02-07 17:00:00\n",
      "1980-02-07 18:00:00\n",
      "1980-02-07 19:00:00\n",
      "1980-02-07 20:00:00\n",
      "1980-02-07 21:00:00\n",
      "1980-02-07 22:00:00\n",
      "1980-02-07 23:00:00\n",
      "1980-02-08 00:00:00\n",
      "1980-02-08 01:00:00\n",
      "1980-02-08 02:00:00\n",
      "1980-02-08 03:00:00\n",
      "1980-02-08 04:00:00\n",
      "1980-02-08 05:00:00\n",
      "1980-02-08 06:00:00\n",
      "1980-02-08 07:00:00\n",
      "1980-02-08 08:00:00\n",
      "1980-02-08 09:00:00\n",
      "1980-02-08 10:00:00\n",
      "1980-02-08 11:00:00\n",
      "1980-02-08 12:00:00\n",
      "1980-02-08 13:00:00\n",
      "1980-02-08 14:00:00\n",
      "1980-02-08 15:00:00\n",
      "1980-02-08 16:00:00\n",
      "1980-02-08 17:00:00\n",
      "1980-02-08 18:00:00\n",
      "1980-02-08 19:00:00\n",
      "1980-02-08 21:00:00\n",
      "1980-02-08 23:00:00\n",
      "1980-02-09 00:00:00\n",
      "1980-02-09 01:00:00\n",
      "1980-02-09 01:35:00\n",
      "1980-02-09 02:00:00\n",
      "1980-02-09 02:35:00\n",
      "1980-02-09 03:00:00\n",
      "1980-02-09 04:00:00\n",
      "1980-02-09 05:00:00\n",
      "1980-02-09 06:00:00\n",
      "1980-02-09 07:00:00\n",
      "1980-02-09 08:00:00\n",
      "1980-02-09 08:10:00\n",
      "1980-02-09 09:00:00\n",
      "1980-02-09 10:00:00\n",
      "1980-02-09 10:28:00\n",
      "1980-02-09 11:00:00\n",
      "1980-02-09 11:19:00\n",
      "1980-02-09 12:00:00\n",
      "1980-02-09 13:00:00\n",
      "1980-02-09 13:13:00\n",
      "1980-02-09 14:00:00\n",
      "1980-02-09 15:00:00\n",
      "1980-02-09 16:00:00\n",
      "1980-02-09 17:00:00\n",
      "1980-02-09 18:00:00\n"
     ]
    }
   ],
   "source": [
    "for i in np.arange(0,1000,1):\n",
    "    print(alldat.index[i])"
   ]
  },
  {
   "cell_type": "code",
   "execution_count": 148,
   "id": "5352f466-dfd3-47dc-a49e-c79c59c7395e",
   "metadata": {},
   "outputs": [],
   "source": [
    "test = pd.concat(alldat, ignore_index=True).reset_index()"
   ]
  },
  {
   "cell_type": "code",
   "execution_count": 162,
   "id": "3de97f1c-159a-4a1f-aeed-3f6d182ed68c",
   "metadata": {},
   "outputs": [
    {
     "name": "stdout",
     "output_type": "stream",
     "text": [
      "423514\n"
     ]
    }
   ],
   "source": [
    "print(len(alldat.index))"
   ]
  },
  {
   "cell_type": "code",
   "execution_count": 134,
   "id": "c0c7a786-7033-4440-95e7-538d980abf3f",
   "metadata": {},
   "outputs": [],
   "source": [
    "dathourly = alldat.resample('H')"
   ]
  },
  {
   "cell_type": "code",
   "execution_count": 135,
   "id": "e5495f89-5012-478b-8c67-dacdb18bc162",
   "metadata": {},
   "outputs": [
    {
     "name": "stdout",
     "output_type": "stream",
     "text": [
      "DatetimeIndexResampler [freq=<Hour>, axis=0, closed=left, label=left, convention=start, origin=start_day]\n"
     ]
    }
   ],
   "source": [
    "print(dathourly)"
   ]
  },
  {
   "cell_type": "code",
   "execution_count": 118,
   "id": "931fcb84-5c2b-456e-9014-3042d7ff07ea",
   "metadata": {},
   "outputs": [],
   "source": [
    "datdailyxr = xr.DataArray(datdaily['TMP'], dims=['time'])"
   ]
  },
  {
   "cell_type": "code",
   "execution_count": 136,
   "id": "b57ea36a-4a71-45ec-b8a7-4f33225f9817",
   "metadata": {},
   "outputs": [
    {
     "ename": "ValueError",
     "evalue": "cannot reindex from a duplicate axis",
     "output_type": "error",
     "traceback": [
      "\u001b[0;31m---------------------------------------------------------------------------\u001b[0m",
      "\u001b[0;31mValueError\u001b[0m                                Traceback (most recent call last)",
      "\u001b[0;32m/tmp/ipykernel_13292/1440207723.py\u001b[0m in \u001b[0;36m<module>\u001b[0;34m\u001b[0m\n\u001b[0;32m----> 1\u001b[0;31m \u001b[0mdathourly\u001b[0m \u001b[0;34m=\u001b[0m \u001b[0mdathourly\u001b[0m\u001b[0;34m.\u001b[0m\u001b[0minterpolate\u001b[0m\u001b[0;34m(\u001b[0m\u001b[0mmethod\u001b[0m\u001b[0;34m=\u001b[0m\u001b[0;34m'time'\u001b[0m\u001b[0;34m)\u001b[0m\u001b[0;34m\u001b[0m\u001b[0;34m\u001b[0m\u001b[0m\n\u001b[0m",
      "\u001b[0;32m/project/cas02/islas/miniconda3/envs/islaenv/lib/python3.7/site-packages/pandas/util/_decorators.py\u001b[0m in \u001b[0;36mwrapper\u001b[0;34m(*args, **kwargs)\u001b[0m\n\u001b[1;32m    309\u001b[0m                     \u001b[0mstacklevel\u001b[0m\u001b[0;34m=\u001b[0m\u001b[0mstacklevel\u001b[0m\u001b[0;34m,\u001b[0m\u001b[0;34m\u001b[0m\u001b[0;34m\u001b[0m\u001b[0m\n\u001b[1;32m    310\u001b[0m                 )\n\u001b[0;32m--> 311\u001b[0;31m             \u001b[0;32mreturn\u001b[0m \u001b[0mfunc\u001b[0m\u001b[0;34m(\u001b[0m\u001b[0;34m*\u001b[0m\u001b[0margs\u001b[0m\u001b[0;34m,\u001b[0m \u001b[0;34m**\u001b[0m\u001b[0mkwargs\u001b[0m\u001b[0;34m)\u001b[0m\u001b[0;34m\u001b[0m\u001b[0;34m\u001b[0m\u001b[0m\n\u001b[0m\u001b[1;32m    312\u001b[0m \u001b[0;34m\u001b[0m\u001b[0m\n\u001b[1;32m    313\u001b[0m         \u001b[0;32mreturn\u001b[0m \u001b[0mwrapper\u001b[0m\u001b[0;34m\u001b[0m\u001b[0;34m\u001b[0m\u001b[0m\n",
      "\u001b[0;32m/project/cas02/islas/miniconda3/envs/islaenv/lib/python3.7/site-packages/pandas/core/resample.py\u001b[0m in \u001b[0;36minterpolate\u001b[0;34m(self, method, axis, limit, inplace, limit_direction, limit_area, downcast, **kwargs)\u001b[0m\n\u001b[1;32m    851\u001b[0m         \u001b[0mInterpolate\u001b[0m \u001b[0mvalues\u001b[0m \u001b[0maccording\u001b[0m \u001b[0mto\u001b[0m \u001b[0mdifferent\u001b[0m \u001b[0mmethods\u001b[0m\u001b[0;34m.\u001b[0m\u001b[0;34m\u001b[0m\u001b[0;34m\u001b[0m\u001b[0m\n\u001b[1;32m    852\u001b[0m         \"\"\"\n\u001b[0;32m--> 853\u001b[0;31m         \u001b[0mresult\u001b[0m \u001b[0;34m=\u001b[0m \u001b[0mself\u001b[0m\u001b[0;34m.\u001b[0m\u001b[0m_upsample\u001b[0m\u001b[0;34m(\u001b[0m\u001b[0;34m\"asfreq\"\u001b[0m\u001b[0;34m)\u001b[0m\u001b[0;34m\u001b[0m\u001b[0;34m\u001b[0m\u001b[0m\n\u001b[0m\u001b[1;32m    854\u001b[0m         return result.interpolate(\n\u001b[1;32m    855\u001b[0m             \u001b[0mmethod\u001b[0m\u001b[0;34m=\u001b[0m\u001b[0mmethod\u001b[0m\u001b[0;34m,\u001b[0m\u001b[0;34m\u001b[0m\u001b[0;34m\u001b[0m\u001b[0m\n",
      "\u001b[0;32m/project/cas02/islas/miniconda3/envs/islaenv/lib/python3.7/site-packages/pandas/core/resample.py\u001b[0m in \u001b[0;36m_upsample\u001b[0;34m(self, method, limit, fill_value)\u001b[0m\n\u001b[1;32m   1204\u001b[0m         \u001b[0;32melse\u001b[0m\u001b[0;34m:\u001b[0m\u001b[0;34m\u001b[0m\u001b[0;34m\u001b[0m\u001b[0m\n\u001b[1;32m   1205\u001b[0m             result = obj.reindex(\n\u001b[0;32m-> 1206\u001b[0;31m                 \u001b[0mres_index\u001b[0m\u001b[0;34m,\u001b[0m \u001b[0mmethod\u001b[0m\u001b[0;34m=\u001b[0m\u001b[0mmethod\u001b[0m\u001b[0;34m,\u001b[0m \u001b[0mlimit\u001b[0m\u001b[0;34m=\u001b[0m\u001b[0mlimit\u001b[0m\u001b[0;34m,\u001b[0m \u001b[0mfill_value\u001b[0m\u001b[0;34m=\u001b[0m\u001b[0mfill_value\u001b[0m\u001b[0;34m\u001b[0m\u001b[0;34m\u001b[0m\u001b[0m\n\u001b[0m\u001b[1;32m   1207\u001b[0m             )\n\u001b[1;32m   1208\u001b[0m \u001b[0;34m\u001b[0m\u001b[0m\n",
      "\u001b[0;32m/project/cas02/islas/miniconda3/envs/islaenv/lib/python3.7/site-packages/pandas/util/_decorators.py\u001b[0m in \u001b[0;36mwrapper\u001b[0;34m(*args, **kwargs)\u001b[0m\n\u001b[1;32m    322\u001b[0m         \u001b[0;34m@\u001b[0m\u001b[0mwraps\u001b[0m\u001b[0;34m(\u001b[0m\u001b[0mfunc\u001b[0m\u001b[0;34m)\u001b[0m\u001b[0;34m\u001b[0m\u001b[0;34m\u001b[0m\u001b[0m\n\u001b[1;32m    323\u001b[0m         \u001b[0;32mdef\u001b[0m \u001b[0mwrapper\u001b[0m\u001b[0;34m(\u001b[0m\u001b[0;34m*\u001b[0m\u001b[0margs\u001b[0m\u001b[0;34m,\u001b[0m \u001b[0;34m**\u001b[0m\u001b[0mkwargs\u001b[0m\u001b[0;34m)\u001b[0m \u001b[0;34m->\u001b[0m \u001b[0mCallable\u001b[0m\u001b[0;34m[\u001b[0m\u001b[0;34m...\u001b[0m\u001b[0;34m,\u001b[0m \u001b[0mAny\u001b[0m\u001b[0;34m]\u001b[0m\u001b[0;34m:\u001b[0m\u001b[0;34m\u001b[0m\u001b[0;34m\u001b[0m\u001b[0m\n\u001b[0;32m--> 324\u001b[0;31m             \u001b[0;32mreturn\u001b[0m \u001b[0mfunc\u001b[0m\u001b[0;34m(\u001b[0m\u001b[0;34m*\u001b[0m\u001b[0margs\u001b[0m\u001b[0;34m,\u001b[0m \u001b[0;34m**\u001b[0m\u001b[0mkwargs\u001b[0m\u001b[0;34m)\u001b[0m\u001b[0;34m\u001b[0m\u001b[0;34m\u001b[0m\u001b[0m\n\u001b[0m\u001b[1;32m    325\u001b[0m \u001b[0;34m\u001b[0m\u001b[0m\n\u001b[1;32m    326\u001b[0m         \u001b[0mkind\u001b[0m \u001b[0;34m=\u001b[0m \u001b[0minspect\u001b[0m\u001b[0;34m.\u001b[0m\u001b[0mParameter\u001b[0m\u001b[0;34m.\u001b[0m\u001b[0mPOSITIONAL_OR_KEYWORD\u001b[0m\u001b[0;34m\u001b[0m\u001b[0;34m\u001b[0m\u001b[0m\n",
      "\u001b[0;32m/project/cas02/islas/miniconda3/envs/islaenv/lib/python3.7/site-packages/pandas/core/frame.py\u001b[0m in \u001b[0;36mreindex\u001b[0;34m(self, *args, **kwargs)\u001b[0m\n\u001b[1;32m   4770\u001b[0m         \u001b[0mkwargs\u001b[0m\u001b[0;34m.\u001b[0m\u001b[0mpop\u001b[0m\u001b[0;34m(\u001b[0m\u001b[0;34m\"axis\"\u001b[0m\u001b[0;34m,\u001b[0m \u001b[0;32mNone\u001b[0m\u001b[0;34m)\u001b[0m\u001b[0;34m\u001b[0m\u001b[0;34m\u001b[0m\u001b[0m\n\u001b[1;32m   4771\u001b[0m         \u001b[0mkwargs\u001b[0m\u001b[0;34m.\u001b[0m\u001b[0mpop\u001b[0m\u001b[0;34m(\u001b[0m\u001b[0;34m\"labels\"\u001b[0m\u001b[0;34m,\u001b[0m \u001b[0;32mNone\u001b[0m\u001b[0;34m)\u001b[0m\u001b[0;34m\u001b[0m\u001b[0;34m\u001b[0m\u001b[0m\n\u001b[0;32m-> 4772\u001b[0;31m         \u001b[0;32mreturn\u001b[0m \u001b[0msuper\u001b[0m\u001b[0;34m(\u001b[0m\u001b[0;34m)\u001b[0m\u001b[0;34m.\u001b[0m\u001b[0mreindex\u001b[0m\u001b[0;34m(\u001b[0m\u001b[0;34m**\u001b[0m\u001b[0mkwargs\u001b[0m\u001b[0;34m)\u001b[0m\u001b[0;34m\u001b[0m\u001b[0;34m\u001b[0m\u001b[0m\n\u001b[0m\u001b[1;32m   4773\u001b[0m \u001b[0;34m\u001b[0m\u001b[0m\n\u001b[1;32m   4774\u001b[0m     \u001b[0;34m@\u001b[0m\u001b[0mdeprecate_nonkeyword_arguments\u001b[0m\u001b[0;34m(\u001b[0m\u001b[0mversion\u001b[0m\u001b[0;34m=\u001b[0m\u001b[0;32mNone\u001b[0m\u001b[0;34m,\u001b[0m \u001b[0mallowed_args\u001b[0m\u001b[0;34m=\u001b[0m\u001b[0;34m[\u001b[0m\u001b[0;34m\"self\"\u001b[0m\u001b[0;34m,\u001b[0m \u001b[0;34m\"labels\"\u001b[0m\u001b[0;34m]\u001b[0m\u001b[0;34m)\u001b[0m\u001b[0;34m\u001b[0m\u001b[0;34m\u001b[0m\u001b[0m\n",
      "\u001b[0;32m/project/cas02/islas/miniconda3/envs/islaenv/lib/python3.7/site-packages/pandas/core/generic.py\u001b[0m in \u001b[0;36mreindex\u001b[0;34m(self, *args, **kwargs)\u001b[0m\n\u001b[1;32m   4817\u001b[0m         \u001b[0;31m# perform the reindex on the axes\u001b[0m\u001b[0;34m\u001b[0m\u001b[0;34m\u001b[0m\u001b[0;34m\u001b[0m\u001b[0m\n\u001b[1;32m   4818\u001b[0m         return self._reindex_axes(\n\u001b[0;32m-> 4819\u001b[0;31m             \u001b[0maxes\u001b[0m\u001b[0;34m,\u001b[0m \u001b[0mlevel\u001b[0m\u001b[0;34m,\u001b[0m \u001b[0mlimit\u001b[0m\u001b[0;34m,\u001b[0m \u001b[0mtolerance\u001b[0m\u001b[0;34m,\u001b[0m \u001b[0mmethod\u001b[0m\u001b[0;34m,\u001b[0m \u001b[0mfill_value\u001b[0m\u001b[0;34m,\u001b[0m \u001b[0mcopy\u001b[0m\u001b[0;34m\u001b[0m\u001b[0;34m\u001b[0m\u001b[0m\n\u001b[0m\u001b[1;32m   4820\u001b[0m         ).__finalize__(self, method=\"reindex\")\n\u001b[1;32m   4821\u001b[0m \u001b[0;34m\u001b[0m\u001b[0m\n",
      "\u001b[0;32m/project/cas02/islas/miniconda3/envs/islaenv/lib/python3.7/site-packages/pandas/core/frame.py\u001b[0m in \u001b[0;36m_reindex_axes\u001b[0;34m(self, axes, level, limit, tolerance, method, fill_value, copy)\u001b[0m\n\u001b[1;32m   4596\u001b[0m         \u001b[0;32mif\u001b[0m \u001b[0mindex\u001b[0m \u001b[0;32mis\u001b[0m \u001b[0;32mnot\u001b[0m \u001b[0;32mNone\u001b[0m\u001b[0;34m:\u001b[0m\u001b[0;34m\u001b[0m\u001b[0;34m\u001b[0m\u001b[0m\n\u001b[1;32m   4597\u001b[0m             frame = frame._reindex_index(\n\u001b[0;32m-> 4598\u001b[0;31m                 \u001b[0mindex\u001b[0m\u001b[0;34m,\u001b[0m \u001b[0mmethod\u001b[0m\u001b[0;34m,\u001b[0m \u001b[0mcopy\u001b[0m\u001b[0;34m,\u001b[0m \u001b[0mlevel\u001b[0m\u001b[0;34m,\u001b[0m \u001b[0mfill_value\u001b[0m\u001b[0;34m,\u001b[0m \u001b[0mlimit\u001b[0m\u001b[0;34m,\u001b[0m \u001b[0mtolerance\u001b[0m\u001b[0;34m\u001b[0m\u001b[0;34m\u001b[0m\u001b[0m\n\u001b[0m\u001b[1;32m   4599\u001b[0m             )\n\u001b[1;32m   4600\u001b[0m \u001b[0;34m\u001b[0m\u001b[0m\n",
      "\u001b[0;32m/project/cas02/islas/miniconda3/envs/islaenv/lib/python3.7/site-packages/pandas/core/frame.py\u001b[0m in \u001b[0;36m_reindex_index\u001b[0;34m(self, new_index, method, copy, level, fill_value, limit, tolerance)\u001b[0m\n\u001b[1;32m   4618\u001b[0m             \u001b[0mcopy\u001b[0m\u001b[0;34m=\u001b[0m\u001b[0mcopy\u001b[0m\u001b[0;34m,\u001b[0m\u001b[0;34m\u001b[0m\u001b[0;34m\u001b[0m\u001b[0m\n\u001b[1;32m   4619\u001b[0m             \u001b[0mfill_value\u001b[0m\u001b[0;34m=\u001b[0m\u001b[0mfill_value\u001b[0m\u001b[0;34m,\u001b[0m\u001b[0;34m\u001b[0m\u001b[0;34m\u001b[0m\u001b[0m\n\u001b[0;32m-> 4620\u001b[0;31m             \u001b[0mallow_dups\u001b[0m\u001b[0;34m=\u001b[0m\u001b[0;32mFalse\u001b[0m\u001b[0;34m,\u001b[0m\u001b[0;34m\u001b[0m\u001b[0;34m\u001b[0m\u001b[0m\n\u001b[0m\u001b[1;32m   4621\u001b[0m         )\n\u001b[1;32m   4622\u001b[0m \u001b[0;34m\u001b[0m\u001b[0m\n",
      "\u001b[0;32m/project/cas02/islas/miniconda3/envs/islaenv/lib/python3.7/site-packages/pandas/core/generic.py\u001b[0m in \u001b[0;36m_reindex_with_indexers\u001b[0;34m(self, reindexers, fill_value, copy, allow_dups)\u001b[0m\n\u001b[1;32m   4887\u001b[0m                 \u001b[0mfill_value\u001b[0m\u001b[0;34m=\u001b[0m\u001b[0mfill_value\u001b[0m\u001b[0;34m,\u001b[0m\u001b[0;34m\u001b[0m\u001b[0;34m\u001b[0m\u001b[0m\n\u001b[1;32m   4888\u001b[0m                 \u001b[0mallow_dups\u001b[0m\u001b[0;34m=\u001b[0m\u001b[0mallow_dups\u001b[0m\u001b[0;34m,\u001b[0m\u001b[0;34m\u001b[0m\u001b[0;34m\u001b[0m\u001b[0m\n\u001b[0;32m-> 4889\u001b[0;31m                 \u001b[0mcopy\u001b[0m\u001b[0;34m=\u001b[0m\u001b[0mcopy\u001b[0m\u001b[0;34m,\u001b[0m\u001b[0;34m\u001b[0m\u001b[0;34m\u001b[0m\u001b[0m\n\u001b[0m\u001b[1;32m   4890\u001b[0m             )\n\u001b[1;32m   4891\u001b[0m             \u001b[0;31m# If we've made a copy once, no need to make another one\u001b[0m\u001b[0;34m\u001b[0m\u001b[0;34m\u001b[0m\u001b[0;34m\u001b[0m\u001b[0m\n",
      "\u001b[0;32m/project/cas02/islas/miniconda3/envs/islaenv/lib/python3.7/site-packages/pandas/core/internals/managers.py\u001b[0m in \u001b[0;36mreindex_indexer\u001b[0;34m(self, new_axis, indexer, axis, fill_value, allow_dups, copy, consolidate, only_slice)\u001b[0m\n\u001b[1;32m    668\u001b[0m         \u001b[0;31m# some axes don't allow reindexing with dups\u001b[0m\u001b[0;34m\u001b[0m\u001b[0;34m\u001b[0m\u001b[0;34m\u001b[0m\u001b[0m\n\u001b[1;32m    669\u001b[0m         \u001b[0;32mif\u001b[0m \u001b[0;32mnot\u001b[0m \u001b[0mallow_dups\u001b[0m\u001b[0;34m:\u001b[0m\u001b[0;34m\u001b[0m\u001b[0;34m\u001b[0m\u001b[0m\n\u001b[0;32m--> 670\u001b[0;31m             \u001b[0mself\u001b[0m\u001b[0;34m.\u001b[0m\u001b[0maxes\u001b[0m\u001b[0;34m[\u001b[0m\u001b[0maxis\u001b[0m\u001b[0;34m]\u001b[0m\u001b[0;34m.\u001b[0m\u001b[0m_validate_can_reindex\u001b[0m\u001b[0;34m(\u001b[0m\u001b[0mindexer\u001b[0m\u001b[0;34m)\u001b[0m\u001b[0;34m\u001b[0m\u001b[0;34m\u001b[0m\u001b[0m\n\u001b[0m\u001b[1;32m    671\u001b[0m \u001b[0;34m\u001b[0m\u001b[0m\n\u001b[1;32m    672\u001b[0m         \u001b[0;32mif\u001b[0m \u001b[0maxis\u001b[0m \u001b[0;34m>=\u001b[0m \u001b[0mself\u001b[0m\u001b[0;34m.\u001b[0m\u001b[0mndim\u001b[0m\u001b[0;34m:\u001b[0m\u001b[0;34m\u001b[0m\u001b[0;34m\u001b[0m\u001b[0m\n",
      "\u001b[0;32m/project/cas02/islas/miniconda3/envs/islaenv/lib/python3.7/site-packages/pandas/core/indexes/base.py\u001b[0m in \u001b[0;36m_validate_can_reindex\u001b[0;34m(self, indexer)\u001b[0m\n\u001b[1;32m   3783\u001b[0m         \u001b[0;31m# trying to reindex on an axis with duplicates\u001b[0m\u001b[0;34m\u001b[0m\u001b[0;34m\u001b[0m\u001b[0;34m\u001b[0m\u001b[0m\n\u001b[1;32m   3784\u001b[0m         \u001b[0;32mif\u001b[0m \u001b[0;32mnot\u001b[0m \u001b[0mself\u001b[0m\u001b[0;34m.\u001b[0m\u001b[0m_index_as_unique\u001b[0m \u001b[0;32mand\u001b[0m \u001b[0mlen\u001b[0m\u001b[0;34m(\u001b[0m\u001b[0mindexer\u001b[0m\u001b[0;34m)\u001b[0m\u001b[0;34m:\u001b[0m\u001b[0;34m\u001b[0m\u001b[0;34m\u001b[0m\u001b[0m\n\u001b[0;32m-> 3785\u001b[0;31m             \u001b[0;32mraise\u001b[0m \u001b[0mValueError\u001b[0m\u001b[0;34m(\u001b[0m\u001b[0;34m\"cannot reindex from a duplicate axis\"\u001b[0m\u001b[0;34m)\u001b[0m\u001b[0;34m\u001b[0m\u001b[0;34m\u001b[0m\u001b[0m\n\u001b[0m\u001b[1;32m   3786\u001b[0m \u001b[0;34m\u001b[0m\u001b[0m\n\u001b[1;32m   3787\u001b[0m     def reindex(\n",
      "\u001b[0;31mValueError\u001b[0m: cannot reindex from a duplicate axis"
     ]
    }
   ],
   "source": [
    "dathourly = dathourly.interpolate(method='time')"
   ]
  },
  {
   "cell_type": "code",
   "execution_count": 125,
   "id": "220185d9-e807-4bfc-b7a1-bc11fcdb34e2",
   "metadata": {},
   "outputs": [
    {
     "name": "stdout",
     "output_type": "stream",
     "text": [
      "<xarray.Dataset>\n",
      "Dimensions:  (time: 14976)\n",
      "Coordinates:\n",
      "  * time     (time) datetime64[ns] 1980-01-01 1980-01-02 ... 2020-12-31\n",
      "Data variables:\n",
      "    t2m      (time) float64 nan nan nan nan nan ... -0.9958 -0.85 -0.5167 -2.867\n",
      "    dewp     (time) float64 nan nan nan nan nan ... -4.842 -1.846 -1.458 -4.2\n"
     ]
    }
   ],
   "source": [
    "print(datout)"
   ]
  },
  {
   "cell_type": "code",
   "execution_count": 129,
   "id": "a2ee48e4-7696-41e5-8268-056351748ff4",
   "metadata": {},
   "outputs": [
    {
     "name": "stdout",
     "output_type": "stream",
     "text": [
      "<xarray.Dataset>\n",
      "Dimensions:  (time: 14965)\n",
      "Coordinates:\n",
      "  * time     (time) datetime64[ns] 1980-01-01 1980-01-02 ... 2020-12-31\n",
      "Data variables:\n",
      "    t2m      (time) float64 nan nan nan nan nan ... -0.9958 -0.85 -0.5167 -2.867\n",
      "    dewp     (time) float64 nan nan nan nan nan ... -4.842 -1.846 -1.458 -4.2\n"
     ]
    }
   ],
   "source": [
    "print(datout)"
   ]
  },
  {
   "cell_type": "code",
   "execution_count": 123,
   "id": "16003d14-d94a-44f0-8a98-0192563bafc9",
   "metadata": {},
   "outputs": [
    {
     "name": "stdout",
     "output_type": "stream",
     "text": [
      "<xarray.DataArray 't2m' (time: 14976)>\n",
      "array([        nan,         nan,         nan, ..., -0.85      ,\n",
      "       -0.51666667, -2.86666667])\n",
      "Coordinates:\n",
      "  * time     (time) datetime64[ns] 1980-01-01 1980-01-02 ... 2020-12-31\n"
     ]
    }
   ],
   "source": [
    "print(t2m)"
   ]
  },
  {
   "cell_type": "code",
   "execution_count": 102,
   "id": "7ffa74a9-30ea-4da2-94d2-f2bc20e411dc",
   "metadata": {},
   "outputs": [],
   "source": [
    "datdaily = dathourly.resample('D')\n",
    "datdaily = datdaily.mean()"
   ]
  },
  {
   "cell_type": "code",
   "execution_count": 103,
   "id": "c3faabd5-528c-4241-a4c7-7c362bf4bbe4",
   "metadata": {},
   "outputs": [
    {
     "name": "stdout",
     "output_type": "stream",
     "text": [
      "                  index       TMP        DEW\n",
      "1980-01-01     2.833333 -8.277778 -12.611111\n",
      "1980-01-02     9.833333 -4.083333  -7.041667\n",
      "1980-01-03    17.833333 -2.458333  -5.625000\n",
      "1980-01-04    25.833333 -0.208333  -0.750000\n",
      "1980-01-05    33.833333 -2.208333  -3.291667\n",
      "...                 ...       ...        ...\n",
      "2020-12-27  8590.500000  1.045833  -2.520833\n",
      "2020-12-28  8614.500000 -0.995833  -4.841667\n",
      "2020-12-29  8638.500000 -0.850000  -1.845833\n",
      "2020-12-30  8662.500000 -0.516667  -1.458333\n",
      "2020-12-31  8686.500000 -2.866667  -4.200000\n",
      "\n",
      "[14976 rows x 3 columns]\n"
     ]
    }
   ],
   "source": [
    "print(datdaily)"
   ]
  },
  {
   "cell_type": "code",
   "execution_count": 80,
   "id": "767f4bb9-e540-42c2-a731-6dc92e157f74",
   "metadata": {},
   "outputs": [],
   "source": [
    "timeout = pd.date_range(start=\"01-01-\"+str(ystart), end=\"12-31-\"+str(yend), freq='H')"
   ]
  },
  {
   "cell_type": "code",
   "execution_count": 85,
   "id": "398cdb10-67e5-4f65-9ad3-06056b419657",
   "metadata": {},
   "outputs": [],
   "source": [
    "test = alldat.resample('H')\n",
    "test = test.interpolate(method='time')"
   ]
  },
  {
   "cell_type": "code",
   "execution_count": 68,
   "id": "314a964a-30c8-4c68-b90b-1a4fe4b7ad4b",
   "metadata": {},
   "outputs": [
    {
     "name": "stdout",
     "output_type": "stream",
     "text": [
      "1980-01-01 06:00:00\n"
     ]
    }
   ],
   "source": [
    "print(datetime.strptime(alldat['DATE'][0], '%Y-%m-%dT%H:%M:%S'))"
   ]
  },
  {
   "cell_type": "code",
   "execution_count": 88,
   "id": "c96812d4-b7f7-4f0a-947e-e88331237b7d",
   "metadata": {},
   "outputs": [
    {
     "name": "stdout",
     "output_type": "stream",
     "text": [
      "                        index                 DATE        TMP        DEW\n",
      "1980-01-01 06:00:00  0.000000  1980-01-01T06:00:00  -9.000000 -15.000000\n",
      "1980-01-01 07:00:00  0.333333                  NaN  -9.000000 -14.666667\n",
      "1980-01-01 08:00:00  0.666667                  NaN  -9.000000 -14.333333\n",
      "1980-01-01 09:00:00  1.000000  1980-01-01T09:00:00  -9.000000 -14.000000\n",
      "1980-01-01 10:00:00  1.333333                  NaN  -9.666667 -14.666667\n",
      "1980-01-01 11:00:00  1.666667                  NaN -10.333333 -15.333333\n",
      "1980-01-01 12:00:00  2.000000  1980-01-01T12:00:00 -11.000000 -16.000000\n",
      "1980-01-01 13:00:00  2.333333                  NaN -10.333333 -15.666667\n",
      "1980-01-01 14:00:00  2.666667                  NaN  -9.666667 -15.333333\n",
      "1980-01-01 15:00:00  3.000000  1980-01-01T15:00:00  -9.000000 -15.000000\n"
     ]
    }
   ],
   "source": [
    "print(test[0:10])"
   ]
  },
  {
   "cell_type": "code",
   "execution_count": 98,
   "id": "b9a35937-5cb6-4dba-8f6a-077dd0eb89f1",
   "metadata": {},
   "outputs": [
    {
     "data": {
      "text/plain": [
       "[<matplotlib.lines.Line2D at 0x7f097dbd4590>]"
      ]
     },
     "execution_count": 98,
     "metadata": {},
     "output_type": "execute_result"
    },
    {
     "data": {
      "image/png": "[encoded data removed]",
      "text/plain": [
       "<Figure size 432x288 with 1 Axes>"
      ]
     },
     "metadata": {
      "needs_background": "light"
     },
     "output_type": "display_data"
    }
   ],
   "source": [
    "plt.plot(test['TMP'][0:30])\n",
    "plt.plot(test['TMP'][0:30],\"o\", color='blue')\n",
    "plt.plot(alldat['TMP'][0:12], linestyle='dotted')\n",
    "plt.plot(alldat['TMP'][0:12],\"o\", color='orange')"
   ]
  },
  {
   "cell_type": "code",
   "execution_count": 49,
   "id": "3947cc8e-2523-4900-9ce1-348b1d0e166a",
   "metadata": {},
   "outputs": [],
   "source": [
    "import importlib\n",
    "importlib.reload(isd)\n",
    "for varname in ('TMP','DEW'):\n",
    "    test = isd.remove_bad_vals(test, varname)"
   ]
  },
  {
   "cell_type": "code",
   "execution_count": 51,
   "id": "eddce751-494b-48f6-9b64-8c6f72d44be8",
   "metadata": {},
   "outputs": [
    {
     "name": "stdout",
     "output_type": "stream",
     "text": [
      "                     DATE  SOURCE REPORT_TYPE CALL_SIGN QUALITY_CONTROL  \\\n",
      "0     1980-01-01T06:00:00       4       FM-12     ENJA             V020   \n",
      "1     1980-01-01T09:00:00       4       FM-12     ENJA             V020   \n",
      "2     1980-01-01T12:00:00       4       FM-12     ENJA             V020   \n",
      "3     1980-01-01T15:00:00       4       FM-12     ENJA             V020   \n",
      "4     1980-01-01T18:00:00       4       FM-12     ENJA             V020   \n",
      "...                   ...     ...         ...       ...             ...   \n",
      "2885  1980-12-31T09:00:00       4       FM-12     ENJA             V020   \n",
      "2886  1980-12-31T12:00:00       4       FM-12     ENJA             V020   \n",
      "2887  1980-12-31T15:00:00       4       FM-12     ENJA             V020   \n",
      "2888  1980-12-31T18:00:00       4       FM-12     ENJA             V020   \n",
      "2889  1980-12-31T21:00:00       4       FM-12     ENJA             V020   \n",
      "\n",
      "          TMP      DEW  \n",
      "0     -0090,1  -0150,1  \n",
      "1     -0090,1  -0140,1  \n",
      "2     -0110,1  -0160,1  \n",
      "3     -0090,1  -0150,1  \n",
      "4     -0070,1  -0110,1  \n",
      "...       ...      ...  \n",
      "2885  -0060,1  -0090,1  \n",
      "2886  -0040,1  -0050,1  \n",
      "2887  -0040,1  -0060,1  \n",
      "2888  -0030,1  -0040,1  \n",
      "2889  -0030,1  -0040,1  \n",
      "\n",
      "[2890 rows x 7 columns]\n"
     ]
    }
   ],
   "source": [
    "print(test)"
   ]
  },
  {
   "cell_type": "code",
   "execution_count": 50,
   "id": "0730dd3d-0a02-4faf-b0de-e2847aaff7be",
   "metadata": {},
   "outputs": [
    {
     "name": "stdout",
     "output_type": "stream",
     "text": [
      "                     DATE  SOURCE REPORT_TYPE CALL_SIGN QUALITY_CONTROL  \\\n",
      "0     1980-01-01T06:00:00       4       FM-12     ENJA             V020   \n",
      "1     1980-01-01T09:00:00       4       FM-12     ENJA             V020   \n",
      "2     1980-01-01T12:00:00       4       FM-12     ENJA             V020   \n",
      "3     1980-01-01T15:00:00       4       FM-12     ENJA             V020   \n",
      "4     1980-01-01T18:00:00       4       FM-12     ENJA             V020   \n",
      "...                   ...     ...         ...       ...             ...   \n",
      "2885  1980-12-31T09:00:00       4       FM-12     ENJA             V020   \n",
      "2886  1980-12-31T12:00:00       4       FM-12     ENJA             V020   \n",
      "2887  1980-12-31T15:00:00       4       FM-12     ENJA             V020   \n",
      "2888  1980-12-31T18:00:00       4       FM-12     ENJA             V020   \n",
      "2889  1980-12-31T21:00:00       4       FM-12     ENJA             V020   \n",
      "\n",
      "          TMP   DEW  \n",
      "0     -0090,1 -15.0  \n",
      "1     -0090,1 -14.0  \n",
      "2     -0110,1 -16.0  \n",
      "3     -0090,1 -15.0  \n",
      "4     -0070,1 -11.0  \n",
      "...       ...   ...  \n",
      "2885  -0060,1  -9.0  \n",
      "2886  -0040,1  -5.0  \n",
      "2887  -0040,1  -6.0  \n",
      "2888  -0030,1  -4.0  \n",
      "2889  -0030,1  -4.0  \n",
      "\n",
      "[2890 rows x 7 columns]\n"
     ]
    }
   ],
   "source": [
    "print(test2)"
   ]
  },
  {
   "cell_type": "code",
   "execution_count": 43,
   "id": "cd91e882-8e82-4b32-9fd7-8746357c6e4f",
   "metadata": {},
   "outputs": [
    {
     "ename": "SystemExit",
     "evalue": "",
     "output_type": "error",
     "traceback": [
      "An exception has occurred, use %tb to see the full traceback.\n",
      "\u001b[0;31mSystemExit\u001b[0m\n"
     ]
    },
    {
     "name": "stderr",
     "output_type": "stream",
     "text": [
      "/project/cas02/islas/miniconda3/envs/islaenv/lib/python3.7/site-packages/IPython/core/interactiveshell.py:3532: UserWarning: To exit: use 'exit', 'quit', or Ctrl-D.\n",
      "  warn(\"To exit: use 'exit', 'quit', or Ctrl-D.\", stacklevel=1)\n"
     ]
    }
   ],
   "source": [
    "df = data\n",
    "for varname in ('TMP','DEW'):\n",
    "    flag = np.array([d.split(',')[-1] for d in df[varname]])\n",
    "    \n",
    "    sys.exit()"
   ]
  },
  {
   "cell_type": "code",
   "execution_count": 44,
   "id": "78a84c7d-afbe-415a-a922-7d5fc36829ae",
   "metadata": {},
   "outputs": [
    {
     "name": "stdout",
     "output_type": "stream",
     "text": [
      "['1' '1' '1' ... '1' '1' '1']\n"
     ]
    }
   ],
   "source": [
    "print(flag)"
   ]
  },
  {
   "cell_type": "code",
   "execution_count": 35,
   "id": "a864ae93-0abd-4cad-9439-9eb779f20815",
   "metadata": {},
   "outputs": [
    {
     "ename": "AttributeError",
     "evalue": "'Series' object has no attribute 'split'",
     "output_type": "error",
     "traceback": [
      "\u001b[0;31m---------------------------------------------------------------------------\u001b[0m",
      "\u001b[0;31mAttributeError\u001b[0m                            Traceback (most recent call last)",
      "\u001b[0;32m/tmp/ipykernel_13292/1244641305.py\u001b[0m in \u001b[0;36m<module>\u001b[0;34m\u001b[0m\n\u001b[0;32m----> 1\u001b[0;31m \u001b[0mprint\u001b[0m\u001b[0;34m(\u001b[0m\u001b[0mdate_data\u001b[0m\u001b[0;34m[\u001b[0m\u001b[0;34m'TMP'\u001b[0m\u001b[0;34m]\u001b[0m\u001b[0;34m.\u001b[0m\u001b[0msplit\u001b[0m\u001b[0;34m(\u001b[0m\u001b[0;34m\",\"\u001b[0m\u001b[0;34m)\u001b[0m\u001b[0;34m[\u001b[0m\u001b[0;34m-\u001b[0m\u001b[0;36m1\u001b[0m\u001b[0;34m]\u001b[0m\u001b[0;34m)\u001b[0m\u001b[0;34m\u001b[0m\u001b[0;34m\u001b[0m\u001b[0m\n\u001b[0m",
      "\u001b[0;32m/project/cas02/islas/miniconda3/envs/islaenv/lib/python3.7/site-packages/pandas/core/generic.py\u001b[0m in \u001b[0;36m__getattr__\u001b[0;34m(self, name)\u001b[0m\n\u001b[1;32m   5485\u001b[0m         ):\n\u001b[1;32m   5486\u001b[0m             \u001b[0;32mreturn\u001b[0m \u001b[0mself\u001b[0m\u001b[0;34m[\u001b[0m\u001b[0mname\u001b[0m\u001b[0;34m]\u001b[0m\u001b[0;34m\u001b[0m\u001b[0;34m\u001b[0m\u001b[0m\n\u001b[0;32m-> 5487\u001b[0;31m         \u001b[0;32mreturn\u001b[0m \u001b[0mobject\u001b[0m\u001b[0;34m.\u001b[0m\u001b[0m__getattribute__\u001b[0m\u001b[0;34m(\u001b[0m\u001b[0mself\u001b[0m\u001b[0;34m,\u001b[0m \u001b[0mname\u001b[0m\u001b[0;34m)\u001b[0m\u001b[0;34m\u001b[0m\u001b[0;34m\u001b[0m\u001b[0m\n\u001b[0m\u001b[1;32m   5488\u001b[0m \u001b[0;34m\u001b[0m\u001b[0m\n\u001b[1;32m   5489\u001b[0m     \u001b[0;32mdef\u001b[0m \u001b[0m__setattr__\u001b[0m\u001b[0;34m(\u001b[0m\u001b[0mself\u001b[0m\u001b[0;34m,\u001b[0m \u001b[0mname\u001b[0m\u001b[0;34m:\u001b[0m \u001b[0mstr\u001b[0m\u001b[0;34m,\u001b[0m \u001b[0mvalue\u001b[0m\u001b[0;34m)\u001b[0m \u001b[0;34m->\u001b[0m \u001b[0;32mNone\u001b[0m\u001b[0;34m:\u001b[0m\u001b[0;34m\u001b[0m\u001b[0;34m\u001b[0m\u001b[0m\n",
      "\u001b[0;31mAttributeError\u001b[0m: 'Series' object has no attribute 'split'"
     ]
    }
   ],
   "source": [
    "print(date_data['TMP'].split(\",\")[-1])"
   ]
  },
  {
   "cell_type": "code",
   "execution_count": 36,
   "id": "70a44491-53df-41cc-983e-f1422e50c6bd",
   "metadata": {},
   "outputs": [],
   "source": [
    "test = date_data['TMP']"
   ]
  },
  {
   "cell_type": "code",
   "execution_count": 38,
   "id": "1db79f27-fec2-4564-a983-bcfc07dc2bcc",
   "metadata": {},
   "outputs": [
    {
     "ename": "AttributeError",
     "evalue": "'Series' object has no attribute 'split'",
     "output_type": "error",
     "traceback": [
      "\u001b[0;31m---------------------------------------------------------------------------\u001b[0m",
      "\u001b[0;31mAttributeError\u001b[0m                            Traceback (most recent call last)",
      "\u001b[0;32m/tmp/ipykernel_13292/972239386.py\u001b[0m in \u001b[0;36m<module>\u001b[0;34m\u001b[0m\n\u001b[0;32m----> 1\u001b[0;31m \u001b[0mprint\u001b[0m\u001b[0;34m(\u001b[0m\u001b[0mtest\u001b[0m\u001b[0;34m.\u001b[0m\u001b[0msplit\u001b[0m\u001b[0;34m(\u001b[0m\u001b[0;34m','\u001b[0m\u001b[0;34m)\u001b[0m\u001b[0;34m[\u001b[0m\u001b[0;36m0\u001b[0m\u001b[0;34m]\u001b[0m\u001b[0;34m)\u001b[0m\u001b[0;34m\u001b[0m\u001b[0;34m\u001b[0m\u001b[0m\n\u001b[0m",
      "\u001b[0;32m/project/cas02/islas/miniconda3/envs/islaenv/lib/python3.7/site-packages/pandas/core/generic.py\u001b[0m in \u001b[0;36m__getattr__\u001b[0;34m(self, name)\u001b[0m\n\u001b[1;32m   5485\u001b[0m         ):\n\u001b[1;32m   5486\u001b[0m             \u001b[0;32mreturn\u001b[0m \u001b[0mself\u001b[0m\u001b[0;34m[\u001b[0m\u001b[0mname\u001b[0m\u001b[0;34m]\u001b[0m\u001b[0;34m\u001b[0m\u001b[0;34m\u001b[0m\u001b[0m\n\u001b[0;32m-> 5487\u001b[0;31m         \u001b[0;32mreturn\u001b[0m \u001b[0mobject\u001b[0m\u001b[0;34m.\u001b[0m\u001b[0m__getattribute__\u001b[0m\u001b[0;34m(\u001b[0m\u001b[0mself\u001b[0m\u001b[0;34m,\u001b[0m \u001b[0mname\u001b[0m\u001b[0;34m)\u001b[0m\u001b[0;34m\u001b[0m\u001b[0;34m\u001b[0m\u001b[0m\n\u001b[0m\u001b[1;32m   5488\u001b[0m \u001b[0;34m\u001b[0m\u001b[0m\n\u001b[1;32m   5489\u001b[0m     \u001b[0;32mdef\u001b[0m \u001b[0m__setattr__\u001b[0m\u001b[0;34m(\u001b[0m\u001b[0mself\u001b[0m\u001b[0;34m,\u001b[0m \u001b[0mname\u001b[0m\u001b[0;34m:\u001b[0m \u001b[0mstr\u001b[0m\u001b[0;34m,\u001b[0m \u001b[0mvalue\u001b[0m\u001b[0;34m)\u001b[0m \u001b[0;34m->\u001b[0m \u001b[0;32mNone\u001b[0m\u001b[0;34m:\u001b[0m\u001b[0;34m\u001b[0m\u001b[0;34m\u001b[0m\u001b[0m\n",
      "\u001b[0;31mAttributeError\u001b[0m: 'Series' object has no attribute 'split'"
     ]
    }
   ],
   "source": [
    "print(test.split(',')[0])"
   ]
  },
  {
   "cell_type": "code",
   "execution_count": null,
   "id": "96f39e83-dfa3-46e1-aea5-db8c8611a836",
   "metadata": {},
   "outputs": [],
   "source": []
  }
 ],
 "metadata": {
  "kernelspec": {
   "display_name": "Python [conda env:islaenv]",
   "language": "python",
   "name": "conda-env-islaenv-py"
  },
  "language_info": {
   "codemirror_mode": {
    "name": "ipython",
    "version": 3
   },
   "file_extension": ".py",
   "mimetype": "text/x-python",
   "name": "python",
   "nbconvert_exporter": "python",
   "pygments_lexer": "ipython3",
   "version": "3.7.12"
  }
 },
 "nbformat": 4,
 "nbformat_minor": 5
}
